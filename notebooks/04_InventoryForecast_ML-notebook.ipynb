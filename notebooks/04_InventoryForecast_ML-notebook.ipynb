{
 "cells": [
  {
   "cell_type": "code",
   "execution_count": 1,
   "id": "55da4522-8ac8-433b-9a16-17fa600463bf",
   "metadata": {},
   "outputs": [],
   "source": [
    "# notes:\n",
    "\n",
    "# inventory, item stock, prediction for inventory\n",
    "# f.e. next month how we will sell from each item\n",
    "\n",
    "# top most selling products\n",
    "# top most high selling products"
   ]
  },
  {
   "cell_type": "markdown",
   "id": "0c450f5d-d3a8-4950-9f2b-9eac573cd082",
   "metadata": {},
   "source": [
    "# Importing libraries and cleaned dataset"
   ]
  },
  {
   "cell_type": "code",
   "execution_count": 2,
   "id": "5630f919-f002-4289-9a7a-57b07ddb1bb2",
   "metadata": {},
   "outputs": [
    {
     "name": "stderr",
     "output_type": "stream",
     "text": [
      "Importing plotly failed. Interactive plots will not work.\n"
     ]
    }
   ],
   "source": [
    "import pandas as pd\n",
    "import numpy as np\n",
    "import seaborn as sns\n",
    "import matplotlib.pyplot as plt\n",
    "\n",
    "from prophet import Prophet\n",
    "\n",
    "from statsmodels.tools.eval_measures import rmse\n",
    "from sklearn.metrics import mean_absolute_error\n",
    "\n",
    "from functions import prophet_model\n",
    "\n",
    "#import holidays "
   ]
  },
  {
   "cell_type": "code",
   "execution_count": 3,
   "id": "66eb588f-0c50-400e-b57f-2206070e4538",
   "metadata": {},
   "outputs": [],
   "source": [
    "# Disabling a specific type of warning from Jupyter, that I know if mistaken for something else\n",
    "pd.options.mode.chained_assignment = None "
   ]
  },
  {
   "cell_type": "markdown",
   "id": "d4f86c57-a3e5-4df7-b5de-74b66f86575b",
   "metadata": {},
   "source": [
    "**Original Dataset**:\n",
    "\n",
    "Chen,Daqing. (2015). Online Retail. UCI Machine Learning Repository. https://archive.ics.uci.edu/dataset/352/online+retail"
   ]
  },
  {
   "cell_type": "code",
   "execution_count": 4,
   "id": "c0e71e8d-c9af-4a03-bd7c-8ff3bdb503b9",
   "metadata": {},
   "outputs": [],
   "source": [
    "# Importing dataset, clean and filtered with clusters from the notebook 03_ML_clustering\n",
    "# the filters on are: only actual products, only UK, dropping NaN customerID\n",
    "file_path1 = '../data/data_cleaned.csv'\n",
    "file_path2 = '../data/data_filtered_with_clusters.csv'\n",
    "\n",
    "df = pd.read_csv(file_path1, dtype={'InvoiceNo': 'O','StockCode': 'O','Description': 'O',\n",
    "                                   'Quantity': 'int64','UnitPrice': 'float64',\n",
    "                                   'CustomerID': 'Int64','Country': 'O'}, parse_dates=['InvoiceDate'])\n",
    "df_fltrd = pd.read_csv(file_path2, dtype={'InvoiceNo': 'O','StockCode': 'O','Description': 'O',\n",
    "                                   'Quantity': 'int64','UnitPrice': 'float64',\n",
    "                                   'CustomerID': 'Int64','Country': 'O'}, parse_dates=['InvoiceDate'])"
   ]
  },
  {
   "cell_type": "code",
   "execution_count": 5,
   "id": "888b9a40-b999-4fb5-a2df-fef755983533",
   "metadata": {},
   "outputs": [],
   "source": [
    "# test\n",
    "df = df[df.StockCode != 'OTHER']\n",
    "df = df[df.Country == 'United Kingdom']\n",
    "df.dropna(subset='CustomerID', inplace=True)"
   ]
  },
  {
   "cell_type": "code",
   "execution_count": 6,
   "id": "256ce73b-da08-4778-a3a1-11535514968b",
   "metadata": {},
   "outputs": [
    {
     "data": {
      "text/html": [
       "<div>\n",
       "<style scoped>\n",
       "    .dataframe tbody tr th:only-of-type {\n",
       "        vertical-align: middle;\n",
       "    }\n",
       "\n",
       "    .dataframe tbody tr th {\n",
       "        vertical-align: top;\n",
       "    }\n",
       "\n",
       "    .dataframe thead th {\n",
       "        text-align: right;\n",
       "    }\n",
       "</style>\n",
       "<table border=\"1\" class=\"dataframe\">\n",
       "  <thead>\n",
       "    <tr style=\"text-align: right;\">\n",
       "      <th></th>\n",
       "      <th>InvoiceNo</th>\n",
       "      <th>StockCode</th>\n",
       "      <th>Description</th>\n",
       "      <th>Quantity</th>\n",
       "      <th>InvoiceDate</th>\n",
       "      <th>UnitPrice</th>\n",
       "      <th>CustomerID</th>\n",
       "      <th>Country</th>\n",
       "    </tr>\n",
       "  </thead>\n",
       "  <tbody>\n",
       "    <tr>\n",
       "      <th>0</th>\n",
       "      <td>536365</td>\n",
       "      <td>85123A</td>\n",
       "      <td>WHITE HANGING HEART T-LIGHT HOLDER</td>\n",
       "      <td>6</td>\n",
       "      <td>2010-12-01 08:26:00</td>\n",
       "      <td>2.95</td>\n",
       "      <td>17850</td>\n",
       "      <td>United Kingdom</td>\n",
       "    </tr>\n",
       "    <tr>\n",
       "      <th>1</th>\n",
       "      <td>536365</td>\n",
       "      <td>71053</td>\n",
       "      <td>WHITE METAL LANTERN</td>\n",
       "      <td>6</td>\n",
       "      <td>2010-12-01 08:26:00</td>\n",
       "      <td>3.75</td>\n",
       "      <td>17850</td>\n",
       "      <td>United Kingdom</td>\n",
       "    </tr>\n",
       "  </tbody>\n",
       "</table>\n",
       "</div>"
      ],
      "text/plain": [
       "  InvoiceNo StockCode                         Description  Quantity  \\\n",
       "0    536365    85123A  WHITE HANGING HEART T-LIGHT HOLDER         6   \n",
       "1    536365     71053                 WHITE METAL LANTERN         6   \n",
       "\n",
       "          InvoiceDate  UnitPrice  CustomerID         Country  \n",
       "0 2010-12-01 08:26:00       2.95       17850  United Kingdom  \n",
       "1 2010-12-01 08:26:00       3.75       17850  United Kingdom  "
      ]
     },
     "execution_count": 6,
     "metadata": {},
     "output_type": "execute_result"
    }
   ],
   "source": [
    "df.head(2)"
   ]
  },
  {
   "cell_type": "code",
   "execution_count": 7,
   "id": "42141306-6c07-4594-a912-9eab79d8142b",
   "metadata": {},
   "outputs": [
    {
     "data": {
      "text/html": [
       "<div>\n",
       "<style scoped>\n",
       "    .dataframe tbody tr th:only-of-type {\n",
       "        vertical-align: middle;\n",
       "    }\n",
       "\n",
       "    .dataframe tbody tr th {\n",
       "        vertical-align: top;\n",
       "    }\n",
       "\n",
       "    .dataframe thead th {\n",
       "        text-align: right;\n",
       "    }\n",
       "</style>\n",
       "<table border=\"1\" class=\"dataframe\">\n",
       "  <thead>\n",
       "    <tr style=\"text-align: right;\">\n",
       "      <th></th>\n",
       "      <th>InvoiceNo</th>\n",
       "      <th>StockCode</th>\n",
       "      <th>Description</th>\n",
       "      <th>Quantity</th>\n",
       "      <th>InvoiceDate</th>\n",
       "      <th>UnitPrice</th>\n",
       "      <th>CustomerID</th>\n",
       "      <th>Country</th>\n",
       "      <th>TotalPrice</th>\n",
       "      <th>Label</th>\n",
       "    </tr>\n",
       "  </thead>\n",
       "  <tbody>\n",
       "    <tr>\n",
       "      <th>0</th>\n",
       "      <td>536365</td>\n",
       "      <td>85123A</td>\n",
       "      <td>WHITE HANGING HEART T-LIGHT HOLDER</td>\n",
       "      <td>6</td>\n",
       "      <td>2010-12-01 08:26:00</td>\n",
       "      <td>2.95</td>\n",
       "      <td>17850</td>\n",
       "      <td>United Kingdom</td>\n",
       "      <td>17.7</td>\n",
       "      <td>2</td>\n",
       "    </tr>\n",
       "    <tr>\n",
       "      <th>1</th>\n",
       "      <td>536365</td>\n",
       "      <td>71053</td>\n",
       "      <td>WHITE METAL LANTERN</td>\n",
       "      <td>6</td>\n",
       "      <td>2010-12-01 08:26:00</td>\n",
       "      <td>3.75</td>\n",
       "      <td>17850</td>\n",
       "      <td>United Kingdom</td>\n",
       "      <td>22.5</td>\n",
       "      <td>2</td>\n",
       "    </tr>\n",
       "  </tbody>\n",
       "</table>\n",
       "</div>"
      ],
      "text/plain": [
       "  InvoiceNo StockCode                         Description  Quantity  \\\n",
       "0    536365    85123A  WHITE HANGING HEART T-LIGHT HOLDER         6   \n",
       "1    536365     71053                 WHITE METAL LANTERN         6   \n",
       "\n",
       "          InvoiceDate  UnitPrice  CustomerID         Country  TotalPrice  \\\n",
       "0 2010-12-01 08:26:00       2.95       17850  United Kingdom        17.7   \n",
       "1 2010-12-01 08:26:00       3.75       17850  United Kingdom        22.5   \n",
       "\n",
       "   Label  \n",
       "0      2  \n",
       "1      2  "
      ]
     },
     "execution_count": 7,
     "metadata": {},
     "output_type": "execute_result"
    }
   ],
   "source": [
    "df_fltrd.head(2)"
   ]
  },
  {
   "cell_type": "code",
   "execution_count": 8,
   "id": "0a3bda5f-b9b8-46c4-8089-52361598aa65",
   "metadata": {},
   "outputs": [],
   "source": [
    "# Ading the total price column to df\n",
    "df['TotalPrice'] = df.Quantity * df.UnitPrice"
   ]
  },
  {
   "cell_type": "markdown",
   "id": "73d51193-c393-4aa5-80cf-2e12f64ba0ec",
   "metadata": {},
   "source": [
    "# Feature Engineering"
   ]
  },
  {
   "cell_type": "markdown",
   "id": "8c8a46ef-50b1-4822-a62f-59808cb3acbc",
   "metadata": {},
   "source": [
    "### Clipping outliers"
   ]
  },
  {
   "cell_type": "markdown",
   "id": "c5b24329-8267-4ebf-a1ea-65021d53ab47",
   "metadata": {},
   "source": [
    "I know from the EDA, shown in the previous notebooks, **two outliers** with huge difference in scale. I am going to do scaling to a range, scaling them to highest next value (after these two)."
   ]
  },
  {
   "cell_type": "code",
   "execution_count": 9,
   "id": "38ce1ffa-9a16-4859-aa77-ffc6d4853711",
   "metadata": {},
   "outputs": [],
   "source": [
    "# scaling within a range, updating the Quantity and accordingly the TotalPrice\n",
    "df.loc[df.InvoiceNo.isin(['581483','541431']),'Quantity'] = df.Quantity.sort_values(ascending=False).values[2]\n",
    "df.loc[df.InvoiceNo.isin(['581483','541431']),'TotalPrice'] = df.Quantity * df.UnitPrice\n",
    "\n",
    "df_fltrd.loc[df_fltrd.InvoiceNo.isin(['581483','541431']),'Quantity'] = df_fltrd.Quantity.sort_values(ascending=False).values[2]\n",
    "df_fltrd.loc[df_fltrd.InvoiceNo.isin(['581483','541431']),'TotalPrice'] = df_fltrd.Quantity * df_fltrd.UnitPrice"
   ]
  },
  {
   "cell_type": "markdown",
   "id": "60ad4b16-b13f-4b0c-ac81-ecee9eda78e4",
   "metadata": {},
   "source": [
    "### Date column"
   ]
  },
  {
   "cell_type": "markdown",
   "id": "1f13a0af-d80b-43b4-9a01-e32b5f2a72f4",
   "metadata": {},
   "source": [
    "Adding new column for the date without time."
   ]
  },
  {
   "cell_type": "code",
   "execution_count": 10,
   "id": "b4f28570-edce-4f0e-a862-98388c108f09",
   "metadata": {},
   "outputs": [],
   "source": [
    "# New date column without time\n",
    "df['InvoiceDate_noTime'] = df.InvoiceDate.dt.normalize()\n",
    "df_fltrd['InvoiceDate_noTime'] = df_fltrd.InvoiceDate.dt.normalize()"
   ]
  },
  {
   "cell_type": "markdown",
   "id": "c8e85f3d-749a-4e4b-bc06-aa717d56361c",
   "metadata": {},
   "source": [
    "### Removing features that will not be used"
   ]
  },
  {
   "cell_type": "markdown",
   "id": "eaed71ef-f796-4bee-b8a2-36801cb8377a",
   "metadata": {},
   "source": [
    "I will be using StockCode, Quantity and date for my model. "
   ]
  },
  {
   "cell_type": "code",
   "execution_count": 11,
   "id": "04ea8df2-4a0e-42e3-8f32-4144b8e48d07",
   "metadata": {},
   "outputs": [
    {
     "data": {
      "text/html": [
       "<div>\n",
       "<style scoped>\n",
       "    .dataframe tbody tr th:only-of-type {\n",
       "        vertical-align: middle;\n",
       "    }\n",
       "\n",
       "    .dataframe tbody tr th {\n",
       "        vertical-align: top;\n",
       "    }\n",
       "\n",
       "    .dataframe thead th {\n",
       "        text-align: right;\n",
       "    }\n",
       "</style>\n",
       "<table border=\"1\" class=\"dataframe\">\n",
       "  <thead>\n",
       "    <tr style=\"text-align: right;\">\n",
       "      <th></th>\n",
       "      <th>StockCode</th>\n",
       "      <th>Quantity</th>\n",
       "      <th>InvoiceDate</th>\n",
       "    </tr>\n",
       "  </thead>\n",
       "  <tbody>\n",
       "    <tr>\n",
       "      <th>0</th>\n",
       "      <td>85123A</td>\n",
       "      <td>6</td>\n",
       "      <td>2010-12-01</td>\n",
       "    </tr>\n",
       "    <tr>\n",
       "      <th>1</th>\n",
       "      <td>71053</td>\n",
       "      <td>6</td>\n",
       "      <td>2010-12-01</td>\n",
       "    </tr>\n",
       "  </tbody>\n",
       "</table>\n",
       "</div>"
      ],
      "text/plain": [
       "  StockCode  Quantity InvoiceDate\n",
       "0    85123A         6  2010-12-01\n",
       "1     71053         6  2010-12-01"
      ]
     },
     "execution_count": 11,
     "metadata": {},
     "output_type": "execute_result"
    }
   ],
   "source": [
    "df_stock = df[['StockCode','Quantity','InvoiceDate_noTime']].rename(columns={'InvoiceDate_noTime':'InvoiceDate'})\n",
    "df_stock.head(2)"
   ]
  },
  {
   "cell_type": "code",
   "execution_count": 12,
   "id": "e2535503-5417-404c-82d4-b27ad8d5c92e",
   "metadata": {},
   "outputs": [
    {
     "data": {
      "text/html": [
       "<div>\n",
       "<style scoped>\n",
       "    .dataframe tbody tr th:only-of-type {\n",
       "        vertical-align: middle;\n",
       "    }\n",
       "\n",
       "    .dataframe tbody tr th {\n",
       "        vertical-align: top;\n",
       "    }\n",
       "\n",
       "    .dataframe thead th {\n",
       "        text-align: right;\n",
       "    }\n",
       "</style>\n",
       "<table border=\"1\" class=\"dataframe\">\n",
       "  <thead>\n",
       "    <tr style=\"text-align: right;\">\n",
       "      <th></th>\n",
       "      <th>StockCode</th>\n",
       "      <th>Quantity</th>\n",
       "      <th>InvoiceDate</th>\n",
       "      <th>Label</th>\n",
       "    </tr>\n",
       "  </thead>\n",
       "  <tbody>\n",
       "    <tr>\n",
       "      <th>0</th>\n",
       "      <td>85123A</td>\n",
       "      <td>6</td>\n",
       "      <td>2010-12-01</td>\n",
       "      <td>2</td>\n",
       "    </tr>\n",
       "    <tr>\n",
       "      <th>1</th>\n",
       "      <td>71053</td>\n",
       "      <td>6</td>\n",
       "      <td>2010-12-01</td>\n",
       "      <td>2</td>\n",
       "    </tr>\n",
       "  </tbody>\n",
       "</table>\n",
       "</div>"
      ],
      "text/plain": [
       "  StockCode  Quantity InvoiceDate  Label\n",
       "0    85123A         6  2010-12-01      2\n",
       "1     71053         6  2010-12-01      2"
      ]
     },
     "execution_count": 12,
     "metadata": {},
     "output_type": "execute_result"
    }
   ],
   "source": [
    "df_fltrd_stock = df_fltrd[['StockCode','Quantity','InvoiceDate_noTime','Label']].rename(columns={'InvoiceDate_noTime':'InvoiceDate'})\n",
    "df_fltrd_stock.head(2)"
   ]
  },
  {
   "cell_type": "markdown",
   "id": "d709e702-bded-4805-a2ee-c3cc1919c23e",
   "metadata": {},
   "source": [
    "# Splitting dataset"
   ]
  },
  {
   "cell_type": "code",
   "execution_count": 13,
   "id": "1455637a-1a2b-497b-ac6d-99966e58bbc5",
   "metadata": {},
   "outputs": [
    {
     "data": {
      "text/plain": [
       "array([2, 1, 0, 3])"
      ]
     },
     "execution_count": 13,
     "metadata": {},
     "output_type": "execute_result"
    }
   ],
   "source": [
    "df_fltrd_stock.Label.unique()"
   ]
  },
  {
   "cell_type": "code",
   "execution_count": 14,
   "id": "b8d44e30-68b2-4b91-be0f-260d5cc99a7e",
   "metadata": {},
   "outputs": [
    {
     "name": "stdout",
     "output_type": "stream",
     "text": [
      "<class 'pandas.core.series.Series'>\n",
      "RangeIndex: 348887 entries, 0 to 348886\n",
      "Series name: Label\n",
      "Non-Null Count   Dtype\n",
      "--------------   -----\n",
      "348887 non-null  int64\n",
      "dtypes: int64(1)\n",
      "memory usage: 2.7 MB\n"
     ]
    }
   ],
   "source": [
    "df_fltrd_stock.Label.info()"
   ]
  },
  {
   "cell_type": "code",
   "execution_count": 15,
   "id": "b3b8f7ed-39b7-46f8-a6fe-56b0b9b39956",
   "metadata": {},
   "outputs": [],
   "source": [
    "df_fltrd_stock_0 = df_fltrd_stock[df_fltrd_stock.Label == 0].reset_index(drop=True)\n",
    "df_fltrd_stock_1 = df_fltrd_stock[df_fltrd_stock.Label == 1].reset_index(drop=True)\n",
    "df_fltrd_stock_2 = df_fltrd_stock[df_fltrd_stock.Label == 2].reset_index(drop=True)\n",
    "df_fltrd_stock_3 = df_fltrd_stock[df_fltrd_stock.Label == 3].reset_index(drop=True)"
   ]
  },
  {
   "cell_type": "markdown",
   "id": "d5ccc805-65a6-412f-9705-76c88e7eb84f",
   "metadata": {},
   "source": [
    "# Top selling products"
   ]
  },
  {
   "cell_type": "code",
   "execution_count": 16,
   "id": "97f90f08-4865-4155-9322-510476354358",
   "metadata": {},
   "outputs": [
    {
     "data": {
      "text/plain": [
       "['84077', '22197', '85099B', '85123A', '84879']"
      ]
     },
     "execution_count": 16,
     "metadata": {},
     "output_type": "execute_result"
    }
   ],
   "source": [
    "# the top 5 selling products\n",
    "products_top = df.groupby('StockCode')['Quantity'].sum().sort_values(ascending=False).head(5).index.tolist()\n",
    "products_top"
   ]
  },
  {
   "cell_type": "markdown",
   "id": "143338b4-d7b0-4299-b714-2c20cf9360f5",
   "metadata": {},
   "source": [
    "## Preparing dataframes for model"
   ]
  },
  {
   "cell_type": "code",
   "execution_count": 17,
   "id": "7a900f39-9a75-450b-a6ab-30ace5e6a184",
   "metadata": {},
   "outputs": [],
   "source": [
    "def df_prep(df_2,products_top, product_i,filtering=False, clipping = False):\n",
    "    df = df_2.copy()\n",
    "    if filtering==True:\n",
    "        df = df[df.StockCode == products_top[product_i]].drop(columns='StockCode').reset_index(drop=True)\n",
    "    else:\n",
    "        df.drop(columns='StockCode', inplace=True)\n",
    "\n",
    "    for i in range(df.shape[1]):\n",
    "        if df.iloc[:,i].dtypes =='<M8[ns]':\n",
    "            df.rename(columns={df.columns[i]: \"ds\"}, inplace=True)\n",
    "        else:\n",
    "            df.rename(columns={df.columns[i]: \"y\"}, inplace=True)\n",
    "\n",
    "    df = df[['ds', 'y']] \n",
    "    \n",
    "    if clipping == True:\n",
    "        tq_UpperLimit = (df.y.mean() + df.y.std()*3).round(0).astype(int)\n",
    "        df_clip = df.copy()\n",
    "        df_clip.loc[df_clip.y > tq_UpperLimit , 'y'] = tq_UpperLimit        \n",
    "        return df_clip\n",
    "    else:\n",
    "        return df\n"
   ]
  },
  {
   "cell_type": "code",
   "execution_count": 18,
   "id": "97d5b310-44ef-446e-9b85-949b76e49a62",
   "metadata": {},
   "outputs": [
    {
     "data": {
      "text/html": [
       "<div>\n",
       "<style scoped>\n",
       "    .dataframe tbody tr th:only-of-type {\n",
       "        vertical-align: middle;\n",
       "    }\n",
       "\n",
       "    .dataframe tbody tr th {\n",
       "        vertical-align: top;\n",
       "    }\n",
       "\n",
       "    .dataframe thead th {\n",
       "        text-align: right;\n",
       "    }\n",
       "</style>\n",
       "<table border=\"1\" class=\"dataframe\">\n",
       "  <thead>\n",
       "    <tr style=\"text-align: right;\">\n",
       "      <th></th>\n",
       "      <th>ds</th>\n",
       "      <th>y</th>\n",
       "    </tr>\n",
       "  </thead>\n",
       "  <tbody>\n",
       "    <tr>\n",
       "      <th>0</th>\n",
       "      <td>2010-12-02</td>\n",
       "      <td>48</td>\n",
       "    </tr>\n",
       "    <tr>\n",
       "      <th>1</th>\n",
       "      <td>2010-12-02</td>\n",
       "      <td>48</td>\n",
       "    </tr>\n",
       "    <tr>\n",
       "      <th>2</th>\n",
       "      <td>2010-12-02</td>\n",
       "      <td>2880</td>\n",
       "    </tr>\n",
       "    <tr>\n",
       "      <th>3</th>\n",
       "      <td>2010-12-02</td>\n",
       "      <td>288</td>\n",
       "    </tr>\n",
       "    <tr>\n",
       "      <th>4</th>\n",
       "      <td>2010-12-03</td>\n",
       "      <td>48</td>\n",
       "    </tr>\n",
       "  </tbody>\n",
       "</table>\n",
       "</div>"
      ],
      "text/plain": [
       "          ds     y\n",
       "0 2010-12-02    48\n",
       "1 2010-12-02    48\n",
       "2 2010-12-02  2880\n",
       "3 2010-12-02   288\n",
       "4 2010-12-03    48"
      ]
     },
     "execution_count": 18,
     "metadata": {},
     "output_type": "execute_result"
    }
   ],
   "source": [
    "df_stock_top_pr = df_prep(df_stock, products_top, 0, True,False)\n",
    "df_stock_top_pr.head()"
   ]
  },
  {
   "cell_type": "code",
   "execution_count": 19,
   "id": "acbeaab2-95ec-4dab-80e1-ae940541b16c",
   "metadata": {},
   "outputs": [],
   "source": [
    "df_stock_top_pr_clip = df_prep(df_stock, products_top, 0,True, True)"
   ]
  },
  {
   "cell_type": "code",
   "execution_count": 20,
   "id": "4e2a8da4-ec9d-469c-a038-175fae844b72",
   "metadata": {},
   "outputs": [],
   "source": [
    "df_fltrd_stock_0_top_pr_clip = df_prep(df_fltrd_stock_0.drop(columns='Label'), products_top, 0, True,True)\n",
    "df_fltrd_stock_1_top_pr_clip = df_prep(df_fltrd_stock_1.drop(columns='Label'), products_top, 0, True,True)\n",
    "df_fltrd_stock_2_top_pr_clip = df_prep(df_fltrd_stock_2.drop(columns='Label'), products_top, 0, True,True)\n",
    "df_fltrd_stock_3_top_pr_clip = df_prep(df_fltrd_stock_3.drop(columns='Label'), products_top, 0, True,True)"
   ]
  },
  {
   "cell_type": "code",
   "execution_count": 21,
   "id": "95ad901c-25a2-4240-b5d8-d525e4550837",
   "metadata": {},
   "outputs": [],
   "source": [
    "df_fltrd_stock_prep = df_prep(df_fltrd_stock[['StockCode','Quantity','InvoiceDate']], None, None,False, False)\n",
    "df_fltrd_stock_clip = df_prep(df_fltrd_stock[['StockCode','Quantity','InvoiceDate']], None, None,False, True)"
   ]
  },
  {
   "cell_type": "code",
   "execution_count": 22,
   "id": "fad5ff3c-4cb1-43c1-b9fe-b3ed6a31a0b7",
   "metadata": {},
   "outputs": [],
   "source": [
    "df_stock_prep = df_prep(df_stock, None, None,False, False)\n",
    "df_stock_clip = df_prep(df_stock, None, None,False, True)"
   ]
  },
  {
   "cell_type": "code",
   "execution_count": 23,
   "id": "63c5bb94-c4a5-4e71-a50a-df2ef7d897bd",
   "metadata": {},
   "outputs": [
    {
     "data": {
      "text/html": [
       "<div>\n",
       "<style scoped>\n",
       "    .dataframe tbody tr th:only-of-type {\n",
       "        vertical-align: middle;\n",
       "    }\n",
       "\n",
       "    .dataframe tbody tr th {\n",
       "        vertical-align: top;\n",
       "    }\n",
       "\n",
       "    .dataframe thead th {\n",
       "        text-align: right;\n",
       "    }\n",
       "</style>\n",
       "<table border=\"1\" class=\"dataframe\">\n",
       "  <thead>\n",
       "    <tr style=\"text-align: right;\">\n",
       "      <th></th>\n",
       "      <th>ds</th>\n",
       "      <th>y</th>\n",
       "    </tr>\n",
       "  </thead>\n",
       "  <tbody>\n",
       "    <tr>\n",
       "      <th>0</th>\n",
       "      <td>2010-12-02</td>\n",
       "      <td>48</td>\n",
       "    </tr>\n",
       "    <tr>\n",
       "      <th>1</th>\n",
       "      <td>2010-12-02</td>\n",
       "      <td>288</td>\n",
       "    </tr>\n",
       "    <tr>\n",
       "      <th>2</th>\n",
       "      <td>2010-12-05</td>\n",
       "      <td>48</td>\n",
       "    </tr>\n",
       "    <tr>\n",
       "      <th>3</th>\n",
       "      <td>2010-12-07</td>\n",
       "      <td>48</td>\n",
       "    </tr>\n",
       "    <tr>\n",
       "      <th>4</th>\n",
       "      <td>2010-12-08</td>\n",
       "      <td>48</td>\n",
       "    </tr>\n",
       "  </tbody>\n",
       "</table>\n",
       "</div>"
      ],
      "text/plain": [
       "          ds    y\n",
       "0 2010-12-02   48\n",
       "1 2010-12-02  288\n",
       "2 2010-12-05   48\n",
       "3 2010-12-07   48\n",
       "4 2010-12-08   48"
      ]
     },
     "execution_count": 23,
     "metadata": {},
     "output_type": "execute_result"
    }
   ],
   "source": [
    "df_fltrd_stock_2_top_pr_clip.head()"
   ]
  },
  {
   "cell_type": "code",
   "execution_count": 24,
   "id": "c9715213-86fe-4002-882b-4c33d1b943ea",
   "metadata": {},
   "outputs": [
    {
     "data": {
      "text/html": [
       "<div>\n",
       "<style scoped>\n",
       "    .dataframe tbody tr th:only-of-type {\n",
       "        vertical-align: middle;\n",
       "    }\n",
       "\n",
       "    .dataframe tbody tr th {\n",
       "        vertical-align: top;\n",
       "    }\n",
       "\n",
       "    .dataframe thead th {\n",
       "        text-align: right;\n",
       "    }\n",
       "</style>\n",
       "<table border=\"1\" class=\"dataframe\">\n",
       "  <thead>\n",
       "    <tr style=\"text-align: right;\">\n",
       "      <th></th>\n",
       "      <th>ds</th>\n",
       "      <th>y</th>\n",
       "    </tr>\n",
       "  </thead>\n",
       "  <tbody>\n",
       "    <tr>\n",
       "      <th>0</th>\n",
       "      <td>2010-12-03</td>\n",
       "      <td>48</td>\n",
       "    </tr>\n",
       "    <tr>\n",
       "      <th>1</th>\n",
       "      <td>2010-12-05</td>\n",
       "      <td>48</td>\n",
       "    </tr>\n",
       "    <tr>\n",
       "      <th>2</th>\n",
       "      <td>2010-12-19</td>\n",
       "      <td>3</td>\n",
       "    </tr>\n",
       "    <tr>\n",
       "      <th>3</th>\n",
       "      <td>2011-02-03</td>\n",
       "      <td>48</td>\n",
       "    </tr>\n",
       "    <tr>\n",
       "      <th>4</th>\n",
       "      <td>2011-03-08</td>\n",
       "      <td>48</td>\n",
       "    </tr>\n",
       "  </tbody>\n",
       "</table>\n",
       "</div>"
      ],
      "text/plain": [
       "          ds   y\n",
       "0 2010-12-03  48\n",
       "1 2010-12-05  48\n",
       "2 2010-12-19   3\n",
       "3 2011-02-03  48\n",
       "4 2011-03-08  48"
      ]
     },
     "execution_count": 24,
     "metadata": {},
     "output_type": "execute_result"
    }
   ],
   "source": [
    "df_fltrd_stock_0_top_pr_clip.head()"
   ]
  },
  {
   "cell_type": "markdown",
   "id": "135c3c32-98dd-4dbb-968b-80ae3cdb7911",
   "metadata": {},
   "source": [
    "# Prophet model"
   ]
  },
  {
   "cell_type": "markdown",
   "id": "0a79e7de-42dc-4772-b9cf-89105ece8300",
   "metadata": {},
   "source": [
    "https://facebook.github.io/prophet/docs/quick_start.html"
   ]
  },
  {
   "cell_type": "markdown",
   "id": "8371f241-3b28-4d9e-95bb-0accb1f297a0",
   "metadata": {},
   "source": [
    "### general sales"
   ]
  },
  {
   "cell_type": "code",
   "execution_count": 25,
   "id": "8f6af424-022e-4658-8db1-247f8afd960a",
   "metadata": {},
   "outputs": [
    {
     "name": "stderr",
     "output_type": "stream",
     "text": [
      "18:09:00 - cmdstanpy - INFO - Chain [1] start processing\n",
      "18:09:04 - cmdstanpy - INFO - Chain [1] done processing\n"
     ]
    },
    {
     "name": "stdout",
     "output_type": "stream",
     "text": [
      "Root Mean Squared Error:  13.73245010945489\n",
      "Mean Absolute Error:  9.640611117829632\n"
     ]
    }
   ],
   "source": [
    "# For all products, not filtered model\n",
    "forecast = prophet_model(df_stock_prep, 73)"
   ]
  },
  {
   "cell_type": "code",
   "execution_count": 26,
   "id": "960a0ce6-30f7-483f-87c0-0a712805b35a",
   "metadata": {},
   "outputs": [
    {
     "name": "stderr",
     "output_type": "stream",
     "text": [
      "18:09:09 - cmdstanpy - INFO - Chain [1] start processing\n",
      "18:09:23 - cmdstanpy - INFO - Chain [1] done processing\n"
     ]
    },
    {
     "name": "stdout",
     "output_type": "stream",
     "text": [
      "Root Mean Squared Error:  13.769411439354112\n",
      "Mean Absolute Error:  9.582852447202438\n"
     ]
    }
   ],
   "source": [
    "# For all products, not filtered model, outliers clipped\n",
    "forecast  = prophet_model(df_stock_clip, 73)"
   ]
  },
  {
   "cell_type": "code",
   "execution_count": 27,
   "id": "f49f9273-dec8-41f7-80a0-3dcf8bf55e77",
   "metadata": {},
   "outputs": [
    {
     "name": "stderr",
     "output_type": "stream",
     "text": [
      "18:09:29 - cmdstanpy - INFO - Chain [1] start processing\n",
      "18:09:33 - cmdstanpy - INFO - Chain [1] done processing\n"
     ]
    },
    {
     "name": "stdout",
     "output_type": "stream",
     "text": [
      "Root Mean Squared Error:  13.73245010945489\n",
      "Mean Absolute Error:  9.640611117829632\n"
     ]
    }
   ],
   "source": [
    "forecast = prophet_model(df_fltrd_stock_prep, 73)"
   ]
  },
  {
   "cell_type": "code",
   "execution_count": 28,
   "id": "8ad2298b-7ac9-44a9-953f-f1776caf7c7b",
   "metadata": {},
   "outputs": [
    {
     "name": "stderr",
     "output_type": "stream",
     "text": [
      "18:09:38 - cmdstanpy - INFO - Chain [1] start processing\n",
      "18:09:51 - cmdstanpy - INFO - Chain [1] done processing\n"
     ]
    },
    {
     "name": "stdout",
     "output_type": "stream",
     "text": [
      "Root Mean Squared Error:  13.769411439354112\n",
      "Mean Absolute Error:  9.582852447202438\n"
     ]
    }
   ],
   "source": [
    "forecast = prophet_model(df_fltrd_stock_clip, 73)"
   ]
  },
  {
   "cell_type": "markdown",
   "id": "36075fcb-781e-4f10-8fd0-03f0013c9984",
   "metadata": {},
   "source": [
    "### per product"
   ]
  },
  {
   "cell_type": "code",
   "execution_count": 29,
   "id": "fb2a38a1-f4a9-4681-b30a-5d6c29f3fff5",
   "metadata": {},
   "outputs": [
    {
     "name": "stderr",
     "output_type": "stream",
     "text": [
      "18:09:52 - cmdstanpy - INFO - Chain [1] start processing\n",
      "18:09:52 - cmdstanpy - INFO - Chain [1] done processing\n"
     ]
    },
    {
     "name": "stdout",
     "output_type": "stream",
     "text": [
      "Root Mean Squared Error:  69.6008962763101\n",
      "Mean Absolute Error:  47.32452217133055\n"
     ]
    }
   ],
   "source": [
    "# 365-(365*0.8)  # 73.0\n",
    "# Calling function for plrophet model, with defining the number of days for the test set.\n",
    "forecast = prophet_model(df_stock_top_pr, 73)\n",
    "# not good"
   ]
  },
  {
   "cell_type": "code",
   "execution_count": 30,
   "id": "218bb93a-2699-4edc-aa68-78c4763910b4",
   "metadata": {},
   "outputs": [
    {
     "name": "stderr",
     "output_type": "stream",
     "text": [
      "18:09:52 - cmdstanpy - INFO - Chain [1] start processing\n",
      "18:09:52 - cmdstanpy - INFO - Chain [1] done processing\n"
     ]
    },
    {
     "name": "stdout",
     "output_type": "stream",
     "text": [
      "Root Mean Squared Error:  58.85478457865827\n",
      "Mean Absolute Error:  37.20549873697381\n"
     ]
    }
   ],
   "source": [
    "# trying the model where outliers were clipped\n",
    "forecast = prophet_model(df_stock_top_pr_clip, 73)\n",
    "\n",
    "# better, but not good yet"
   ]
  },
  {
   "cell_type": "code",
   "execution_count": 31,
   "id": "997c8729-60f5-49a4-9e38-294bc13761a1",
   "metadata": {},
   "outputs": [
    {
     "name": "stderr",
     "output_type": "stream",
     "text": [
      "18:09:52 - cmdstanpy - INFO - Chain [1] start processing\n",
      "18:09:52 - cmdstanpy - INFO - Chain [1] done processing\n"
     ]
    },
    {
     "name": "stdout",
     "output_type": "stream",
     "text": [
      "Root Mean Squared Error:  69.50450525690874\n",
      "Mean Absolute Error:  42.21188221394395\n"
     ]
    }
   ],
   "source": [
    "# testing with less days for the test model\n",
    "forecast = prophet_model(df_stock_top_pr_clip, 40)\n",
    "# not better, also very small test sample"
   ]
  },
  {
   "cell_type": "markdown",
   "id": "2de4864b-4161-4ad3-947c-ef56a0976c43",
   "metadata": {},
   "source": [
    "### per product per cluster"
   ]
  },
  {
   "cell_type": "code",
   "execution_count": 32,
   "id": "ff2ca52c-cba8-4303-9f0b-0ffc5e5818e7",
   "metadata": {},
   "outputs": [
    {
     "name": "stderr",
     "output_type": "stream",
     "text": [
      "18:09:52 - cmdstanpy - INFO - Chain [1] start processing\n",
      "18:09:52 - cmdstanpy - INFO - Chain [1] done processing\n"
     ]
    },
    {
     "ename": "ValueError",
     "evalue": "operands could not be broadcast together with shapes (73,) (14,) ",
     "output_type": "error",
     "traceback": [
      "\u001b[0;31m---------------------------------------------------------------------------\u001b[0m",
      "\u001b[0;31mValueError\u001b[0m                                Traceback (most recent call last)",
      "Cell \u001b[0;32mIn[32], line 1\u001b[0m\n\u001b[0;32m----> 1\u001b[0m forecast_p0_l0,rmse_p0_l0 \u001b[38;5;241m=\u001b[39m \u001b[43mprophet_model\u001b[49m\u001b[43m(\u001b[49m\u001b[43mdf_fltrd_stock_0_top_pr_clip\u001b[49m\u001b[43m,\u001b[49m\u001b[43m \u001b[49m\u001b[38;5;241;43m73\u001b[39;49m\u001b[43m)\u001b[49m\n",
      "File \u001b[0;32m~/Documents/dimi/Data_Analysis/IronHack/Unit_8/Final_project/notebooks/functions.py:304\u001b[0m, in \u001b[0;36mprophet_model\u001b[0;34m(df, days)\u001b[0m\n\u001b[1;32m    302\u001b[0m \u001b[38;5;66;03m# Model evaluation\u001b[39;00m\n\u001b[1;32m    303\u001b[0m predictions \u001b[38;5;241m=\u001b[39m forecast\u001b[38;5;241m.\u001b[39miloc[\u001b[38;5;241m-\u001b[39mdays:][\u001b[38;5;124m'\u001b[39m\u001b[38;5;124myhat\u001b[39m\u001b[38;5;124m'\u001b[39m]\n\u001b[0;32m--> 304\u001b[0m \u001b[38;5;28mprint\u001b[39m(\u001b[38;5;124m\"\u001b[39m\u001b[38;5;124mRoot Mean Squared Error: \u001b[39m\u001b[38;5;124m\"\u001b[39m,\u001b[43mrmse\u001b[49m\u001b[43m(\u001b[49m\u001b[43mpredictions\u001b[49m\u001b[43m,\u001b[49m\u001b[43m \u001b[49m\u001b[43mtest\u001b[49m\u001b[43m[\u001b[49m\u001b[38;5;124;43m'\u001b[39;49m\u001b[38;5;124;43my\u001b[39;49m\u001b[38;5;124;43m'\u001b[39;49m\u001b[43m]\u001b[49m\u001b[43m)\u001b[49m)\n\u001b[1;32m    305\u001b[0m \u001b[38;5;28mprint\u001b[39m(\u001b[38;5;124m\"\u001b[39m\u001b[38;5;124mMean Absolute Error: \u001b[39m\u001b[38;5;124m\"\u001b[39m, mean_absolute_error(test[\u001b[38;5;124m'\u001b[39m\u001b[38;5;124my\u001b[39m\u001b[38;5;124m'\u001b[39m], predictions))\n\u001b[1;32m    308\u001b[0m \u001b[38;5;28;01mreturn\u001b[39;00m forecast,rmse(predictions, test[\u001b[38;5;124m'\u001b[39m\u001b[38;5;124my\u001b[39m\u001b[38;5;124m'\u001b[39m])\n",
      "File \u001b[0;32m~/Documents/dimi/Data_Analysis/IronHack/Unit_8/Final_project/final_project/lib/python3.11/site-packages/statsmodels/tools/eval_measures.py:69\u001b[0m, in \u001b[0;36mrmse\u001b[0;34m(x1, x2, axis)\u001b[0m\n\u001b[1;32m     67\u001b[0m x1 \u001b[38;5;241m=\u001b[39m np\u001b[38;5;241m.\u001b[39masanyarray(x1)\n\u001b[1;32m     68\u001b[0m x2 \u001b[38;5;241m=\u001b[39m np\u001b[38;5;241m.\u001b[39masanyarray(x2)\n\u001b[0;32m---> 69\u001b[0m \u001b[38;5;28;01mreturn\u001b[39;00m np\u001b[38;5;241m.\u001b[39msqrt(\u001b[43mmse\u001b[49m\u001b[43m(\u001b[49m\u001b[43mx1\u001b[49m\u001b[43m,\u001b[49m\u001b[43m \u001b[49m\u001b[43mx2\u001b[49m\u001b[43m,\u001b[49m\u001b[43m \u001b[49m\u001b[43maxis\u001b[49m\u001b[38;5;241;43m=\u001b[39;49m\u001b[43maxis\u001b[49m\u001b[43m)\u001b[49m)\n",
      "File \u001b[0;32m~/Documents/dimi/Data_Analysis/IronHack/Unit_8/Final_project/final_project/lib/python3.11/site-packages/statsmodels/tools/eval_measures.py:41\u001b[0m, in \u001b[0;36mmse\u001b[0;34m(x1, x2, axis)\u001b[0m\n\u001b[1;32m     39\u001b[0m x1 \u001b[38;5;241m=\u001b[39m np\u001b[38;5;241m.\u001b[39masanyarray(x1)\n\u001b[1;32m     40\u001b[0m x2 \u001b[38;5;241m=\u001b[39m np\u001b[38;5;241m.\u001b[39masanyarray(x2)\n\u001b[0;32m---> 41\u001b[0m \u001b[38;5;28;01mreturn\u001b[39;00m np\u001b[38;5;241m.\u001b[39mmean((\u001b[43mx1\u001b[49m\u001b[43m \u001b[49m\u001b[38;5;241;43m-\u001b[39;49m\u001b[43m \u001b[49m\u001b[43mx2\u001b[49m) \u001b[38;5;241m*\u001b[39m\u001b[38;5;241m*\u001b[39m \u001b[38;5;241m2\u001b[39m, axis\u001b[38;5;241m=\u001b[39maxis)\n",
      "\u001b[0;31mValueError\u001b[0m: operands could not be broadcast together with shapes (73,) (14,) "
     ]
    }
   ],
   "source": [
    "forecast_p0_l0,rmse_p0_l0 = prophet_model(df_fltrd_stock_0_top_pr_clip, 73)"
   ]
  },
  {
   "cell_type": "code",
   "execution_count": 33,
   "id": "5a3642ad-a190-433d-a6c5-1d4a87bb8344",
   "metadata": {},
   "outputs": [
    {
     "name": "stderr",
     "output_type": "stream",
     "text": [
      "18:11:09 - cmdstanpy - INFO - Chain [1] start processing\n",
      "18:11:09 - cmdstanpy - INFO - Chain [1] done processing\n"
     ]
    },
    {
     "name": "stdout",
     "output_type": "stream",
     "text": [
      "Root Mean Squared Error:  17.910549710775967\n",
      "Mean Absolute Error:  13.377454782989405\n"
     ]
    }
   ],
   "source": [
    "forecast_p0_l1,rmse_p0_l1 = prophet_model(df_fltrd_stock_1_top_pr_clip, 50)"
   ]
  },
  {
   "cell_type": "code",
   "execution_count": 34,
   "id": "bafdbf3b-3e88-4ba1-a21c-8d22c027cdc1",
   "metadata": {},
   "outputs": [
    {
     "name": "stderr",
     "output_type": "stream",
     "text": [
      "18:11:13 - cmdstanpy - INFO - Chain [1] start processing\n",
      "18:11:13 - cmdstanpy - INFO - Chain [1] done processing\n"
     ]
    },
    {
     "name": "stdout",
     "output_type": "stream",
     "text": [
      "Root Mean Squared Error:  135.10979866185008\n",
      "Mean Absolute Error:  88.93078818647126\n"
     ]
    }
   ],
   "source": [
    "forecast_p0_l2,rmse_p0_l2 = prophet_model(df_fltrd_stock_2_top_pr_clip, 50)"
   ]
  },
  {
   "cell_type": "code",
   "execution_count": 35,
   "id": "b1d25d14-0f92-41e2-8d86-38418638e3a0",
   "metadata": {},
   "outputs": [
    {
     "name": "stderr",
     "output_type": "stream",
     "text": [
      "18:11:15 - cmdstanpy - INFO - Chain [1] start processing\n",
      "18:11:15 - cmdstanpy - INFO - Chain [1] done processing\n"
     ]
    },
    {
     "ename": "ValueError",
     "evalue": "operands could not be broadcast together with shapes (50,) (13,) ",
     "output_type": "error",
     "traceback": [
      "\u001b[0;31m---------------------------------------------------------------------------\u001b[0m",
      "\u001b[0;31mValueError\u001b[0m                                Traceback (most recent call last)",
      "Cell \u001b[0;32mIn[35], line 1\u001b[0m\n\u001b[0;32m----> 1\u001b[0m forecast_p0_l3,rmse_p0_l3 \u001b[38;5;241m=\u001b[39m \u001b[43mprophet_model\u001b[49m\u001b[43m(\u001b[49m\u001b[43mdf_fltrd_stock_3_top_pr_clip\u001b[49m\u001b[43m,\u001b[49m\u001b[43m \u001b[49m\u001b[38;5;241;43m50\u001b[39;49m\u001b[43m)\u001b[49m\n",
      "File \u001b[0;32m~/Documents/dimi/Data_Analysis/IronHack/Unit_8/Final_project/notebooks/functions.py:304\u001b[0m, in \u001b[0;36mprophet_model\u001b[0;34m(df, days)\u001b[0m\n\u001b[1;32m    302\u001b[0m \u001b[38;5;66;03m# Model evaluation\u001b[39;00m\n\u001b[1;32m    303\u001b[0m predictions \u001b[38;5;241m=\u001b[39m forecast\u001b[38;5;241m.\u001b[39miloc[\u001b[38;5;241m-\u001b[39mdays:][\u001b[38;5;124m'\u001b[39m\u001b[38;5;124myhat\u001b[39m\u001b[38;5;124m'\u001b[39m]\n\u001b[0;32m--> 304\u001b[0m \u001b[38;5;28mprint\u001b[39m(\u001b[38;5;124m\"\u001b[39m\u001b[38;5;124mRoot Mean Squared Error: \u001b[39m\u001b[38;5;124m\"\u001b[39m,\u001b[43mrmse\u001b[49m\u001b[43m(\u001b[49m\u001b[43mpredictions\u001b[49m\u001b[43m,\u001b[49m\u001b[43m \u001b[49m\u001b[43mtest\u001b[49m\u001b[43m[\u001b[49m\u001b[38;5;124;43m'\u001b[39;49m\u001b[38;5;124;43my\u001b[39;49m\u001b[38;5;124;43m'\u001b[39;49m\u001b[43m]\u001b[49m\u001b[43m)\u001b[49m)\n\u001b[1;32m    305\u001b[0m \u001b[38;5;28mprint\u001b[39m(\u001b[38;5;124m\"\u001b[39m\u001b[38;5;124mMean Absolute Error: \u001b[39m\u001b[38;5;124m\"\u001b[39m, mean_absolute_error(test[\u001b[38;5;124m'\u001b[39m\u001b[38;5;124my\u001b[39m\u001b[38;5;124m'\u001b[39m], predictions))\n\u001b[1;32m    308\u001b[0m \u001b[38;5;28;01mreturn\u001b[39;00m forecast,rmse(predictions, test[\u001b[38;5;124m'\u001b[39m\u001b[38;5;124my\u001b[39m\u001b[38;5;124m'\u001b[39m])\n",
      "File \u001b[0;32m~/Documents/dimi/Data_Analysis/IronHack/Unit_8/Final_project/final_project/lib/python3.11/site-packages/statsmodels/tools/eval_measures.py:69\u001b[0m, in \u001b[0;36mrmse\u001b[0;34m(x1, x2, axis)\u001b[0m\n\u001b[1;32m     67\u001b[0m x1 \u001b[38;5;241m=\u001b[39m np\u001b[38;5;241m.\u001b[39masanyarray(x1)\n\u001b[1;32m     68\u001b[0m x2 \u001b[38;5;241m=\u001b[39m np\u001b[38;5;241m.\u001b[39masanyarray(x2)\n\u001b[0;32m---> 69\u001b[0m \u001b[38;5;28;01mreturn\u001b[39;00m np\u001b[38;5;241m.\u001b[39msqrt(\u001b[43mmse\u001b[49m\u001b[43m(\u001b[49m\u001b[43mx1\u001b[49m\u001b[43m,\u001b[49m\u001b[43m \u001b[49m\u001b[43mx2\u001b[49m\u001b[43m,\u001b[49m\u001b[43m \u001b[49m\u001b[43maxis\u001b[49m\u001b[38;5;241;43m=\u001b[39;49m\u001b[43maxis\u001b[49m\u001b[43m)\u001b[49m)\n",
      "File \u001b[0;32m~/Documents/dimi/Data_Analysis/IronHack/Unit_8/Final_project/final_project/lib/python3.11/site-packages/statsmodels/tools/eval_measures.py:41\u001b[0m, in \u001b[0;36mmse\u001b[0;34m(x1, x2, axis)\u001b[0m\n\u001b[1;32m     39\u001b[0m x1 \u001b[38;5;241m=\u001b[39m np\u001b[38;5;241m.\u001b[39masanyarray(x1)\n\u001b[1;32m     40\u001b[0m x2 \u001b[38;5;241m=\u001b[39m np\u001b[38;5;241m.\u001b[39masanyarray(x2)\n\u001b[0;32m---> 41\u001b[0m \u001b[38;5;28;01mreturn\u001b[39;00m np\u001b[38;5;241m.\u001b[39mmean((\u001b[43mx1\u001b[49m\u001b[43m \u001b[49m\u001b[38;5;241;43m-\u001b[39;49m\u001b[43m \u001b[49m\u001b[43mx2\u001b[49m) \u001b[38;5;241m*\u001b[39m\u001b[38;5;241m*\u001b[39m \u001b[38;5;241m2\u001b[39m, axis\u001b[38;5;241m=\u001b[39maxis)\n",
      "\u001b[0;31mValueError\u001b[0m: operands could not be broadcast together with shapes (50,) (13,) "
     ]
    }
   ],
   "source": [
    "forecast_p0_l3,rmse_p0_l3 = prophet_model(df_fltrd_stock_3_top_pr_clip, 50)"
   ]
  },
  {
   "cell_type": "code",
   "execution_count": null,
   "id": "b61dcaf3-c398-4ece-8401-4a8731e87c65",
   "metadata": {},
   "outputs": [],
   "source": [
    "label_percentages = [round((count / df_fltrd_stock.shape[0]) * 100,2) for count in [df_fltrd_stock[df_fltrd_stock.Label == i].shape[0] for i in range(4)]]\n",
    "label_percentages"
   ]
  },
  {
   "cell_type": "code",
   "execution_count": null,
   "id": "26ed3f2c-5000-4230-86f0-9ce4dbcd6a9b",
   "metadata": {},
   "outputs": [],
   "source": [
    "prop0 = rmse_p0_l0*label_percentages[0]*0.01\n",
    "prop1 = rmse_p0_l1*label_percentages[1]*0.01\n",
    "prop2 = rmse_p0_l2*label_percentages[2]*0.01\n",
    "prop3 = rmse_p0_l3*label_percentages[3]*0.01"
   ]
  },
  {
   "cell_type": "code",
   "execution_count": null,
   "id": "af6e415d-4b9c-485f-a315-1f6a5b87ca0e",
   "metadata": {},
   "outputs": [],
   "source": [
    "# Calculating the total prediction, based on the proportion of the cluster\n",
    "pred_p0_total = prop0 + prop1 + prop2 + prop3\n",
    "pred_p0_total"
   ]
  }
 ],
 "metadata": {
  "kernelspec": {
   "display_name": "final_project",
   "language": "python",
   "name": "final_project"
  },
  "language_info": {
   "codemirror_mode": {
    "name": "ipython",
    "version": 3
   },
   "file_extension": ".py",
   "mimetype": "text/x-python",
   "name": "python",
   "nbconvert_exporter": "python",
   "pygments_lexer": "ipython3",
   "version": "3.11.8"
  }
 },
 "nbformat": 4,
 "nbformat_minor": 5
}
