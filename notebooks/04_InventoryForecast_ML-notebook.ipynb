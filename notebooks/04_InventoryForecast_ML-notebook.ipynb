{
 "cells": [
  {
   "cell_type": "markdown",
   "id": "0c450f5d-d3a8-4950-9f2b-9eac573cd082",
   "metadata": {},
   "source": [
    "# Importing libraries and cleaned dataset"
   ]
  },
  {
   "cell_type": "code",
   "execution_count": 1,
   "id": "5630f919-f002-4289-9a7a-57b07ddb1bb2",
   "metadata": {},
   "outputs": [
    {
     "name": "stderr",
     "output_type": "stream",
     "text": [
      "Importing plotly failed. Interactive plots will not work.\n"
     ]
    }
   ],
   "source": [
    "import pandas as pd\n",
    "import numpy as np\n",
    "import seaborn as sns\n",
    "import matplotlib.pyplot as plt\n",
    "\n",
    "from prophet import Prophet\n",
    "\n",
    "from statsmodels.tools.eval_measures import rmse\n",
    "from sklearn.metrics import mean_absolute_error\n",
    "\n",
    "from functions import prophet_model, df_prophet_prep, outlier_scaling, metrics_calc_clusters,prophet_model_with_clusters,prophet_model_per_product\n",
    "\n",
    "# to set logging level to ERROR\n",
    "# that is because in the model forecasts I was getting updates on time started/ completed and was visually confusing\n",
    "import logging"
   ]
  },
  {
   "cell_type": "code",
   "execution_count": 2,
   "id": "9adb9b5f-0204-4a9b-bbaf-018efaccd323",
   "metadata": {},
   "outputs": [],
   "source": [
    "# to set logging level to ERROR\n",
    "# that is because in the model forecasts I was getting updates on time started/ completed and was visually confusing\n",
    "logging.getLogger('cmdstanpy').setLevel(logging.ERROR)"
   ]
  },
  {
   "cell_type": "code",
   "execution_count": 3,
   "id": "66eb588f-0c50-400e-b57f-2206070e4538",
   "metadata": {},
   "outputs": [],
   "source": [
    "# Disabling a specific type of warning from Jupyter, that I know if mistaken for something else\n",
    "pd.options.mode.chained_assignment = None "
   ]
  },
  {
   "cell_type": "markdown",
   "id": "d4f86c57-a3e5-4df7-b5de-74b66f86575b",
   "metadata": {},
   "source": [
    "**Original Dataset**:\n",
    "\n",
    "Chen,Daqing. (2015). Online Retail. UCI Machine Learning Repository. https://archive.ics.uci.edu/dataset/352/online+retail"
   ]
  },
  {
   "cell_type": "code",
   "execution_count": 4,
   "id": "c0e71e8d-c9af-4a03-bd7c-8ff3bdb503b9",
   "metadata": {},
   "outputs": [],
   "source": [
    "# Importing dataset, clean and filtered with clusters from the notebook 03_ML_clustering\n",
    "# the filters on are: only actual products, only UK (90% of the orders), dropping NaN customerID\n",
    "# At a later stage, I can solve the NaN in CustomerID by building a ML model to predict their Label based on the order(from InvoiceNo) characteristics\n",
    "file_path = '../data/data_filtered_with_clusters.csv'\n",
    "\n",
    "df = pd.read_csv(file_path, dtype={'InvoiceNo': 'O','StockCode': 'O','Description': 'O',\n",
    "                                   'Quantity': 'int64','UnitPrice': 'float64',\n",
    "                                   'CustomerID': 'Int64','Country': 'O'}, parse_dates=['InvoiceDate'])"
   ]
  },
  {
   "cell_type": "markdown",
   "id": "73d51193-c393-4aa5-80cf-2e12f64ba0ec",
   "metadata": {},
   "source": [
    "# Feature Engineering"
   ]
  },
  {
   "cell_type": "markdown",
   "id": "8c8a46ef-50b1-4822-a62f-59808cb3acbc",
   "metadata": {},
   "source": [
    "### Scaling outliers"
   ]
  },
  {
   "cell_type": "markdown",
   "id": "c5b24329-8267-4ebf-a1ea-65021d53ab47",
   "metadata": {},
   "source": [
    "I know from the EDA, shown in the previous notebooks, **two outliers** with huge difference in scale. I am going to do scaling to a range, scaling them to highest next value (after these two)."
   ]
  },
  {
   "cell_type": "code",
   "execution_count": 5,
   "id": "0300cdcc-1c5d-403d-a760-0904a1a2ea6f",
   "metadata": {},
   "outputs": [],
   "source": [
    "# Scaling within a range, updating the Quantity and accordingly the TotalPrice\n",
    "df = outlier_scaling(df)"
   ]
  },
  {
   "cell_type": "markdown",
   "id": "60ad4b16-b13f-4b0c-ac81-ecee9eda78e4",
   "metadata": {},
   "source": [
    "### Date column"
   ]
  },
  {
   "cell_type": "markdown",
   "id": "1f13a0af-d80b-43b4-9a01-e32b5f2a72f4",
   "metadata": {},
   "source": [
    "Adding new column for the date without time."
   ]
  },
  {
   "cell_type": "code",
   "execution_count": 6,
   "id": "b4f28570-edce-4f0e-a862-98388c108f09",
   "metadata": {},
   "outputs": [],
   "source": [
    "# New date column without time\n",
    "df['InvoiceDate_noTime'] = df.InvoiceDate.dt.normalize()"
   ]
  },
  {
   "cell_type": "markdown",
   "id": "c8e85f3d-749a-4e4b-bc06-aa717d56361c",
   "metadata": {},
   "source": [
    "### Removing features that will not be used"
   ]
  },
  {
   "cell_type": "markdown",
   "id": "eaed71ef-f796-4bee-b8a2-36801cb8377a",
   "metadata": {},
   "source": [
    "I will be using StockCode, Quantity, Date and Labelfor my model. "
   ]
  },
  {
   "cell_type": "code",
   "execution_count": 7,
   "id": "b4569c1b-007f-41e5-905f-bffb7eda736e",
   "metadata": {},
   "outputs": [
    {
     "data": {
      "text/plain": [
       "Index(['InvoiceNo', 'StockCode', 'Description', 'Quantity', 'InvoiceDate',\n",
       "       'UnitPrice', 'CustomerID', 'Country', 'TotalPrice', 'Label',\n",
       "       'InvoiceDate_noTime'],\n",
       "      dtype='object')"
      ]
     },
     "execution_count": 7,
     "metadata": {},
     "output_type": "execute_result"
    }
   ],
   "source": [
    "df.columns"
   ]
  },
  {
   "cell_type": "code",
   "execution_count": 8,
   "id": "e2535503-5417-404c-82d4-b27ad8d5c92e",
   "metadata": {},
   "outputs": [
    {
     "data": {
      "text/html": [
       "<div>\n",
       "<style scoped>\n",
       "    .dataframe tbody tr th:only-of-type {\n",
       "        vertical-align: middle;\n",
       "    }\n",
       "\n",
       "    .dataframe tbody tr th {\n",
       "        vertical-align: top;\n",
       "    }\n",
       "\n",
       "    .dataframe thead th {\n",
       "        text-align: right;\n",
       "    }\n",
       "</style>\n",
       "<table border=\"1\" class=\"dataframe\">\n",
       "  <thead>\n",
       "    <tr style=\"text-align: right;\">\n",
       "      <th></th>\n",
       "      <th>StockCode</th>\n",
       "      <th>Quantity</th>\n",
       "      <th>Label</th>\n",
       "      <th>InvoiceDate</th>\n",
       "    </tr>\n",
       "  </thead>\n",
       "  <tbody>\n",
       "    <tr>\n",
       "      <th>0</th>\n",
       "      <td>85123A</td>\n",
       "      <td>6</td>\n",
       "      <td>2</td>\n",
       "      <td>2010-12-01</td>\n",
       "    </tr>\n",
       "    <tr>\n",
       "      <th>1</th>\n",
       "      <td>71053</td>\n",
       "      <td>6</td>\n",
       "      <td>2</td>\n",
       "      <td>2010-12-01</td>\n",
       "    </tr>\n",
       "    <tr>\n",
       "      <th>2</th>\n",
       "      <td>84406B</td>\n",
       "      <td>8</td>\n",
       "      <td>2</td>\n",
       "      <td>2010-12-01</td>\n",
       "    </tr>\n",
       "    <tr>\n",
       "      <th>3</th>\n",
       "      <td>84029G</td>\n",
       "      <td>6</td>\n",
       "      <td>2</td>\n",
       "      <td>2010-12-01</td>\n",
       "    </tr>\n",
       "    <tr>\n",
       "      <th>4</th>\n",
       "      <td>84029E</td>\n",
       "      <td>6</td>\n",
       "      <td>2</td>\n",
       "      <td>2010-12-01</td>\n",
       "    </tr>\n",
       "    <tr>\n",
       "      <th>...</th>\n",
       "      <td>...</td>\n",
       "      <td>...</td>\n",
       "      <td>...</td>\n",
       "      <td>...</td>\n",
       "    </tr>\n",
       "    <tr>\n",
       "      <th>348882</th>\n",
       "      <td>22466</td>\n",
       "      <td>12</td>\n",
       "      <td>1</td>\n",
       "      <td>2011-12-09</td>\n",
       "    </tr>\n",
       "    <tr>\n",
       "      <th>348883</th>\n",
       "      <td>22061</td>\n",
       "      <td>8</td>\n",
       "      <td>2</td>\n",
       "      <td>2011-12-09</td>\n",
       "    </tr>\n",
       "    <tr>\n",
       "      <th>348884</th>\n",
       "      <td>23275</td>\n",
       "      <td>24</td>\n",
       "      <td>2</td>\n",
       "      <td>2011-12-09</td>\n",
       "    </tr>\n",
       "    <tr>\n",
       "      <th>348885</th>\n",
       "      <td>21217</td>\n",
       "      <td>24</td>\n",
       "      <td>2</td>\n",
       "      <td>2011-12-09</td>\n",
       "    </tr>\n",
       "    <tr>\n",
       "      <th>348886</th>\n",
       "      <td>20685</td>\n",
       "      <td>10</td>\n",
       "      <td>2</td>\n",
       "      <td>2011-12-09</td>\n",
       "    </tr>\n",
       "  </tbody>\n",
       "</table>\n",
       "<p>348887 rows × 4 columns</p>\n",
       "</div>"
      ],
      "text/plain": [
       "       StockCode  Quantity  Label InvoiceDate\n",
       "0         85123A         6      2  2010-12-01\n",
       "1          71053         6      2  2010-12-01\n",
       "2         84406B         8      2  2010-12-01\n",
       "3         84029G         6      2  2010-12-01\n",
       "4         84029E         6      2  2010-12-01\n",
       "...          ...       ...    ...         ...\n",
       "348882     22466        12      1  2011-12-09\n",
       "348883     22061         8      2  2011-12-09\n",
       "348884     23275        24      2  2011-12-09\n",
       "348885     21217        24      2  2011-12-09\n",
       "348886     20685        10      2  2011-12-09\n",
       "\n",
       "[348887 rows x 4 columns]"
      ]
     },
     "execution_count": 8,
     "metadata": {},
     "output_type": "execute_result"
    }
   ],
   "source": [
    "df.drop(columns=['InvoiceNo','Description', 'InvoiceDate','UnitPrice', \n",
    "                 'CustomerID', 'Country', 'TotalPrice'],inplace=True)\n",
    "df.rename(columns={'InvoiceDate_noTime':'InvoiceDate'}, inplace=True)\n",
    "df"
   ]
  },
  {
   "cell_type": "markdown",
   "id": "d5ccc805-65a6-412f-9705-76c88e7eb84f",
   "metadata": {},
   "source": [
    "# Top selling products"
   ]
  },
  {
   "cell_type": "code",
   "execution_count": 9,
   "id": "8eff4ab5-9367-42bb-a21f-a40b582a02c2",
   "metadata": {},
   "outputs": [
    {
     "data": {
      "text/plain": [
       "['84077', '22197', '85099B', '85123A', '84879']"
      ]
     },
     "execution_count": 9,
     "metadata": {},
     "output_type": "execute_result"
    }
   ],
   "source": [
    "# the top 5 selling products\n",
    "products_top = df.groupby('StockCode')['Quantity'].sum().sort_values(ascending=False).head(5).index.tolist()\n",
    "products_top"
   ]
  },
  {
   "cell_type": "markdown",
   "id": "143338b4-d7b0-4299-b714-2c20cf9360f5",
   "metadata": {},
   "source": [
    "# Preparing dataframes for model for Top 1 product"
   ]
  },
  {
   "cell_type": "code",
   "execution_count": 10,
   "id": "ece897a5-48a3-43bf-8d43-38771053cd04",
   "metadata": {},
   "outputs": [],
   "source": [
    "# Creating dataframe fot the prophet model, with the custom function (at functions.py)\n",
    "\n",
    "# Creating df for the top product 1, for the dataframe without cluster seperation, and no outlier clipping\n",
    "df_TopPr0 = df_prophet_prep(df, products_top[0], False)"
   ]
  },
  {
   "cell_type": "code",
   "execution_count": 11,
   "id": "356c2d77-2f05-41f4-91f4-3d8d817fc783",
   "metadata": {},
   "outputs": [
    {
     "name": "stdout",
     "output_type": "stream",
     "text": [
      "Instances that needed outlier clipping:  10 , out of total instances:  424\n"
     ]
    }
   ],
   "source": [
    "# Creating df for the top product 1, for the dataframe without cluster seperation, and with outlier clipping\n",
    "df_TopPr0_clip = df_prophet_prep(df, products_top[0], True)"
   ]
  },
  {
   "cell_type": "code",
   "execution_count": 12,
   "id": "06e70ac7-4625-4583-840d-0ac51302746c",
   "metadata": {},
   "outputs": [],
   "source": [
    "# The code in this file is meant to work with 4 clusters!"
   ]
  },
  {
   "cell_type": "code",
   "execution_count": 13,
   "id": "faf17573-9ead-4681-9105-57de2aa86869",
   "metadata": {},
   "outputs": [
    {
     "data": {
      "text/plain": [
       "array([2, 1, 0, 3])"
      ]
     },
     "execution_count": 13,
     "metadata": {},
     "output_type": "execute_result"
    }
   ],
   "source": [
    "df.Label.unique()"
   ]
  },
  {
   "cell_type": "code",
   "execution_count": 14,
   "id": "c9182b9c-6ecd-494a-94e5-b6fce3ac6429",
   "metadata": {},
   "outputs": [],
   "source": [
    "# Splitting dataset per cluster\n",
    "df_cl0 = df[df.Label == 0].reset_index(drop=True)\n",
    "df_cl1 = df[df.Label == 1].reset_index(drop=True)\n",
    "df_cl2 = df[df.Label == 2].reset_index(drop=True)\n",
    "df_cl3 = df[df.Label == 3].reset_index(drop=True)"
   ]
  },
  {
   "cell_type": "code",
   "execution_count": 15,
   "id": "b09bbec5-e6ac-478e-a94a-856d7352e8fd",
   "metadata": {},
   "outputs": [],
   "source": [
    "# Creating dataframes for the top product 1, for the dataframes with cluster seperation, and no outlier clipping\n",
    "df_TopPr0_cl0 = df_prophet_prep(df_cl0.drop(columns='Label'), products_top[0], False)\n",
    "df_TopPr0_cl1 = df_prophet_prep(df_cl1.drop(columns='Label'), products_top[0], False)\n",
    "df_TopPr0_cl2 = df_prophet_prep(df_cl2.drop(columns='Label'), products_top[0], False)\n",
    "df_TopPr0_cl3 = df_prophet_prep(df_cl3.drop(columns='Label'), products_top[0], False)"
   ]
  },
  {
   "cell_type": "code",
   "execution_count": 16,
   "id": "97d5b310-44ef-446e-9b85-949b76e49a62",
   "metadata": {},
   "outputs": [
    {
     "name": "stdout",
     "output_type": "stream",
     "text": [
      "Instances that needed outlier clipping:  0 , out of total instances:  59\n",
      "Instances that needed outlier clipping:  7 , out of total instances:  226\n",
      "Instances that needed outlier clipping:  0 , out of total instances:  102\n",
      "Instances that needed outlier clipping:  1 , out of total instances:  37\n"
     ]
    }
   ],
   "source": [
    "# Creating dataframes for the top product 1, for the dataframes with cluster seperation, and with outlier clipping\n",
    "df_TopPr0_cl0_clip = df_prophet_prep(df_cl0.drop(columns='Label'), products_top[0], True)\n",
    "df_TopPr0_cl1_clip = df_prophet_prep(df_cl1.drop(columns='Label'), products_top[0], True)\n",
    "df_TopPr0_cl2_clip = df_prophet_prep(df_cl2.drop(columns='Label'), products_top[0], True)\n",
    "df_TopPr0_cl3_clip = df_prophet_prep(df_cl3.drop(columns='Label'), products_top[0], True)"
   ]
  },
  {
   "cell_type": "markdown",
   "id": "135c3c32-98dd-4dbb-968b-80ae3cdb7911",
   "metadata": {},
   "source": [
    "# Prophet model the Top 1 product"
   ]
  },
  {
   "cell_type": "markdown",
   "id": "0a79e7de-42dc-4772-b9cf-89105ece8300",
   "metadata": {},
   "source": [
    "Helpful resource: https://facebook.github.io/prophet/docs/quick_start.html"
   ]
  },
  {
   "cell_type": "markdown",
   "id": "650252ed-d4cd-41e9-b34c-9d44a14580dd",
   "metadata": {},
   "source": [
    "Regarding the train/test split:\n",
    "- my dataset has 375 days\n",
    "- I will use the last part of the dataset as my test model, and I nned to define the number of days that I will consider\n",
    "- 80% of my dataset is 83 days, and 90% 46.5 days\n",
    "- since I have a bit more than 12 months of data, I can consider the first 10 months as my train set, and the last 2 months as the test set.\n",
    "\n",
    "That means that my test set will have the last 60 days, and thus my train set the first 315 days."
   ]
  },
  {
   "cell_type": "markdown",
   "id": "7acc2f56-f0b4-4590-b11b-10683d41a9da",
   "metadata": {},
   "source": [
    "### **Top 1 product, no clusters, no outlier clipping**"
   ]
  },
  {
   "cell_type": "code",
   "execution_count": 29,
   "id": "fb2a38a1-f4a9-4681-b30a-5d6c29f3fff5",
   "metadata": {},
   "outputs": [
    {
     "name": "stdout",
     "output_type": "stream",
     "text": [
      "Root Mean Squared Error:  609.374873418084\n",
      "Mean Absolute Error:  155.52807608543804\n"
     ]
    }
   ],
   "source": [
    "# Calling custom function for prophet model (at functions.py), with defining the number of days for the test set.\n",
    "# Model for df for the top product 1, for the dataframe without cluster seperation, and no outlier clipping\n",
    "_,_,_ = prophet_model(df_TopPr0, 60)"
   ]
  },
  {
   "cell_type": "markdown",
   "id": "117f0973-feff-4672-a322-67eaca1fdeb4",
   "metadata": {},
   "source": [
    "### **Top 1 product, no clusters, with outlier clipping**"
   ]
  },
  {
   "cell_type": "code",
   "execution_count": 28,
   "id": "218bb93a-2699-4edc-aa68-78c4763910b4",
   "metadata": {},
   "outputs": [
    {
     "name": "stdout",
     "output_type": "stream",
     "text": [
      "Root Mean Squared Error:  167.21273931378624\n",
      "Mean Absolute Error:  90.99648381504903\n"
     ]
    }
   ],
   "source": [
    "# Model for df for the top product 1, for the dataframe without cluster seperation, and with outlier clipping\n",
    "_,_,_ = prophet_model(df_TopPr0_clip, 60)"
   ]
  },
  {
   "cell_type": "markdown",
   "id": "c0a4adb1-c65b-4a35-9402-327a2df566c0",
   "metadata": {},
   "source": [
    "### Top 1 product, no clusters, with outlier clipping. Metrics vs no clipping"
   ]
  },
  {
   "cell_type": "code",
   "execution_count": null,
   "id": "b098c81b-8eae-4cc1-8687-914fbc50c1bc",
   "metadata": {},
   "outputs": [],
   "source": []
  },
  {
   "cell_type": "code",
   "execution_count": null,
   "id": "7eec8367-058a-424a-93c2-da12f629cb83",
   "metadata": {},
   "outputs": [],
   "source": []
  },
  {
   "cell_type": "code",
   "execution_count": null,
   "id": "f9626c44-0c9f-42aa-91a5-a81eeb1a80c4",
   "metadata": {},
   "outputs": [],
   "source": []
  },
  {
   "cell_type": "markdown",
   "id": "2de4864b-4161-4ad3-947c-ef56a0976c43",
   "metadata": {},
   "source": [
    "### **Top 1 product, with clusters, no outlier clipping**"
   ]
  },
  {
   "cell_type": "code",
   "execution_count": 27,
   "id": "9c179904-8701-4186-8b0c-5a52c0f6eca8",
   "metadata": {},
   "outputs": [
    {
     "name": "stdout",
     "output_type": "stream",
     "text": [
      "Cluster 0:\n",
      "Root Mean Squared Error:  32.339920448940546\n",
      "Mean Absolute Error:  22.419755612975404\n",
      "Cluster 1:\n",
      "Root Mean Squared Error:  61.840780154655825\n",
      "Mean Absolute Error:  45.632093718207095\n",
      "Cluster 2:\n",
      "Root Mean Squared Error:  75.54338256092078\n",
      "Mean Absolute Error:  45.35105910987186\n",
      "Cluster 3:\n",
      "Root Mean Squared Error:  610.0816727048411\n",
      "Mean Absolute Error:  117.14219383109076\n",
      "\n",
      "Collective metrics for this model:\n",
      "RMSE:  108.89872062021425 , MAE:  48.58071427641995\n"
     ]
    }
   ],
   "source": [
    "prophet_model_with_clusters(df_TopPr0_cl0, df_TopPr0_cl1, df_TopPr0_cl2, df_TopPr0_cl3, 60, df, products_top[0])"
   ]
  },
  {
   "cell_type": "markdown",
   "id": "74bf406d-176c-41c8-bd13-c00f9f6b8ddb",
   "metadata": {},
   "source": [
    "### **Top 1 product, with clusters, with outlier clipping**"
   ]
  },
  {
   "cell_type": "code",
   "execution_count": 20,
   "id": "2d9f3787-7f77-4f68-8906-b8957ba671d3",
   "metadata": {},
   "outputs": [
    {
     "name": "stdout",
     "output_type": "stream",
     "text": [
      "Cluster 0:\n",
      "Root Mean Squared Error:  32.339920448940546\n",
      "Mean Absolute Error:  22.419755612975404\n",
      "Cluster 1:\n",
      "Root Mean Squared Error:  61.923247934127176\n",
      "Mean Absolute Error:  45.67455194566671\n",
      "Cluster 2:\n",
      "Root Mean Squared Error:  75.54338256092078\n",
      "Mean Absolute Error:  45.35105910987186\n",
      "Cluster 3:\n",
      "Root Mean Squared Error:  462.98775115247184\n",
      "Mean Absolute Error:  98.0755271644241\n",
      "\n",
      "Collective metrics for this model:\n",
      "RMSE:  96.10137659515064 , MAE:  46.93882451165592\n"
     ]
    }
   ],
   "source": [
    "prophet_model_with_clusters(df_TopPr0_cl0_clip, df_TopPr0_cl1_clip, df_TopPr0_cl2_clip, df_TopPr0_cl3_clip, 60, df, products_top[0])"
   ]
  },
  {
   "cell_type": "markdown",
   "id": "3e43ece4-de03-4c15-8565-792adb577164",
   "metadata": {},
   "source": [
    "# Prophet model for the rest of the top products"
   ]
  },
  {
   "cell_type": "markdown",
   "id": "7bf30f29-0bce-4fb2-b4ba-31890376085a",
   "metadata": {},
   "source": [
    "*Note: Due to time constraints, this function duplicates code from the main file to test the Prophet forecasting model on products other than the top 1 product. It separates the dataframe per selected product and applies the Prophet forecasting model to each product separately. This function is a temporary solution until individual functions are built to handle forecasting for multiple products.*"
   ]
  },
  {
   "cell_type": "code",
   "execution_count": 21,
   "id": "e3c3fc09-a2e1-4b56-959f-c37fb5b3fcab",
   "metadata": {},
   "outputs": [
    {
     "name": "stdout",
     "output_type": "stream",
     "text": [
      "Instances that needed outlier clipping:  9 , out of total instances:  965\n",
      "Instances that needed outlier clipping:  2 , out of total instances:  149\n",
      "Instances that needed outlier clipping:  23 , out of total instances:  406\n",
      "Instances that needed outlier clipping:  10 , out of total instances:  304\n",
      "Instances that needed outlier clipping:  3 , out of total instances:  106\n",
      "\u001b[1m\n",
      "\n",
      "Top 2 product, no clusters, no outlier clipping:\u001b[0m\n",
      "Root Mean Squared Error:  487.9998190340996\n",
      "Mean Absolute Error:  235.3251091369121\n",
      "\u001b[1m\n",
      "\n",
      "Top 2 product, no clusters, with outlier clipping:\u001b[0m\n",
      "Root Mean Squared Error:  285.32654304566415\n",
      "Mean Absolute Error:  173.02732331606455\n",
      "\u001b[1m\n",
      "\n",
      "Top 2 product, with clusters, no outlier clipping:\u001b[0m\n",
      "Cluster 0:\n",
      "Root Mean Squared Error:  16.121812298498224\n",
      "Mean Absolute Error:  7.7056686966494405\n",
      "Cluster 1:\n",
      "Root Mean Squared Error:  70.16932161128828\n",
      "Mean Absolute Error:  44.15727597874067\n",
      "Cluster 2:\n",
      "Root Mean Squared Error:  126.43741031447001\n",
      "Mean Absolute Error:  70.95764311786937\n",
      "Cluster 3:\n",
      "Root Mean Squared Error:  456.1989078863303\n",
      "Mean Absolute Error:  180.32683335081276\n",
      "\n",
      "Collective metrics for this model:\n",
      "RMSE:  121.92786575573422 , MAE:  61.918265135066974\n",
      "\u001b[1m\n",
      "\n",
      "Top 2 product, with clusters, with outlier clipping:\u001b[0m\n",
      "Cluster 0:\n",
      "Root Mean Squared Error:  11.042609692648\n",
      "Mean Absolute Error:  6.7251603763965955\n",
      "Cluster 1:\n",
      "Root Mean Squared Error:  65.62260664659546\n",
      "Mean Absolute Error:  42.181008302681576\n",
      "Cluster 2:\n",
      "Root Mean Squared Error:  116.27098945725626\n",
      "Mean Absolute Error:  66.9073200067079\n",
      "Cluster 3:\n",
      "Root Mean Squared Error:  452.0875928699544\n",
      "Mean Absolute Error:  173.24898373405546\n",
      "\n",
      "Collective metrics for this model:\n",
      "RMSE:  115.57698892892428 , MAE:  58.88245917116606\n"
     ]
    }
   ],
   "source": [
    "prophet_model_per_product(df, products_top[1],1)"
   ]
  },
  {
   "cell_type": "code",
   "execution_count": 22,
   "id": "bef75b50-1261-4119-94d2-0f6fbb89fa6a",
   "metadata": {},
   "outputs": [
    {
     "name": "stdout",
     "output_type": "stream",
     "text": [
      "Instances that needed outlier clipping:  20 , out of total instances:  1461\n",
      "Instances that needed outlier clipping:  1 , out of total instances:  157\n",
      "Instances that needed outlier clipping:  17 , out of total instances:  631\n",
      "Instances that needed outlier clipping:  8 , out of total instances:  482\n",
      "Instances that needed outlier clipping:  3 , out of total instances:  191\n",
      "\u001b[1m\n",
      "\n",
      "Top 3 product, no clusters, no outlier clipping:\u001b[0m\n",
      "Root Mean Squared Error:  181.41837789567077\n",
      "Mean Absolute Error:  126.06562068000478\n",
      "\u001b[1m\n",
      "\n",
      "Top 3 product, no clusters, with outlier clipping:\u001b[0m\n",
      "Root Mean Squared Error:  124.988446705912\n",
      "Mean Absolute Error:  96.54273938424808\n",
      "\u001b[1m\n",
      "\n",
      "Top 3 product, with clusters, no outlier clipping:\u001b[0m\n",
      "Cluster 0:\n",
      "Root Mean Squared Error:  9.155621730974186\n",
      "Mean Absolute Error:  6.2100098347229205\n",
      "Cluster 1:\n",
      "Root Mean Squared Error:  42.16108440263319\n",
      "Mean Absolute Error:  23.692171585686424\n",
      "Cluster 2:\n",
      "Root Mean Squared Error:  35.8415078870486\n",
      "Mean Absolute Error:  31.93792991700074\n",
      "Cluster 3:\n",
      "Root Mean Squared Error:  175.9104780296021\n",
      "Mean Absolute Error:  109.77795370894064\n",
      "\n",
      "Collective metrics for this model:\n",
      "RMSE:  54.00921461998333 , MAE:  35.78452659446776\n",
      "\u001b[1m\n",
      "\n",
      "Top 3 product, with clusters, with outlier clipping:\u001b[0m\n",
      "Cluster 0:\n",
      "Root Mean Squared Error:  9.039901618914149\n",
      "Mean Absolute Error:  6.182871843554741\n",
      "Cluster 1:\n",
      "Root Mean Squared Error:  31.0075407309786\n",
      "Mean Absolute Error:  19.903949359668033\n",
      "Cluster 2:\n",
      "Root Mean Squared Error:  32.104517287772765\n",
      "Mean Absolute Error:  27.233212873134168\n",
      "Cluster 3:\n",
      "Root Mean Squared Error:  145.6618801688907\n",
      "Mean Absolute Error:  99.04777102877668\n",
      "\n",
      "Collective metrics for this model:\n",
      "RMSE:  43.99323425705318 , MAE:  31.19095505193083\n"
     ]
    }
   ],
   "source": [
    "prophet_model_per_product(df, products_top[2],2)"
   ]
  },
  {
   "cell_type": "code",
   "execution_count": 23,
   "id": "9ee27ceb-ca96-4b18-a540-90fe2eaf5690",
   "metadata": {},
   "outputs": [
    {
     "name": "stdout",
     "output_type": "stream",
     "text": [
      "Instances that needed outlier clipping:  12 , out of total instances:  1936\n",
      "Instances that needed outlier clipping:  14 , out of total instances:  416\n",
      "Instances that needed outlier clipping:  11 , out of total instances:  934\n",
      "Instances that needed outlier clipping:  12 , out of total instances:  433\n",
      "Instances that needed outlier clipping:  4 , out of total instances:  153\n",
      "\u001b[1m\n",
      "\n",
      "Top 4 product, no clusters, no outlier clipping:\u001b[0m\n",
      "Root Mean Squared Error:  177.4483101503898\n",
      "Mean Absolute Error:  91.35886257431659\n",
      "\u001b[1m\n",
      "\n",
      "Top 4 product, no clusters, with outlier clipping:\u001b[0m\n",
      "Root Mean Squared Error:  93.73710940563642\n",
      "Mean Absolute Error:  63.55204746829087\n",
      "\u001b[1m\n",
      "\n",
      "Top 4 product, with clusters, no outlier clipping:\u001b[0m\n",
      "Cluster 0:\n",
      "Root Mean Squared Error:  11.871262345188448\n",
      "Mean Absolute Error:  8.793964086990876\n",
      "Cluster 1:\n",
      "Root Mean Squared Error:  27.300892542806604\n",
      "Mean Absolute Error:  19.70230110461904\n",
      "Cluster 2:\n",
      "Root Mean Squared Error:  28.08880091999307\n",
      "Mean Absolute Error:  19.868470109065164\n",
      "Cluster 3:\n",
      "Root Mean Squared Error:  169.62800821963825\n",
      "Mean Absolute Error:  70.02364612879927\n",
      "\n",
      "Collective metrics for this model:\n",
      "RMSE:  35.405162255784774 , MAE:  21.370657742735588\n",
      "\u001b[1m\n",
      "\n",
      "Top 4 product, with clusters, with outlier clipping:\u001b[0m\n",
      "Cluster 0:\n",
      "Root Mean Squared Error:  11.424676250367284\n",
      "Mean Absolute Error:  8.572180548650222\n",
      "Cluster 1:\n",
      "Root Mean Squared Error:  24.67655519275148\n",
      "Mean Absolute Error:  18.017442128221116\n",
      "Cluster 2:\n",
      "Root Mean Squared Error:  24.676746082837173\n",
      "Mean Absolute Error:  18.625105874418797\n",
      "Cluster 3:\n",
      "Root Mean Squared Error:  153.135054467631\n",
      "Mean Absolute Error:  59.920121859017186\n",
      "\n",
      "Collective metrics for this model:\n",
      "RMSE:  31.97699055286077 , MAE:  19.43390149352864\n"
     ]
    }
   ],
   "source": [
    "prophet_model_per_product(df, products_top[3],3)"
   ]
  },
  {
   "cell_type": "code",
   "execution_count": 24,
   "id": "0d8d5ae8-b2ca-4e42-b6bd-efd3e8125b24",
   "metadata": {
    "scrolled": true
   },
   "outputs": [
    {
     "name": "stdout",
     "output_type": "stream",
     "text": [
      "Instances that needed outlier clipping:  4 , out of total instances:  1320\n",
      "Instances that needed outlier clipping:  6 , out of total instances:  296\n",
      "Instances that needed outlier clipping:  12 , out of total instances:  668\n",
      "Instances that needed outlier clipping:  19 , out of total instances:  311\n",
      "Instances that needed outlier clipping:  1 , out of total instances:  45\n",
      "\u001b[1m\n",
      "\n",
      "Top 5 product, no clusters, no outlier clipping:\u001b[0m\n",
      "Root Mean Squared Error:  189.1148387207721\n",
      "Mean Absolute Error:  94.80885722779415\n",
      "\u001b[1m\n",
      "\n",
      "Top 5 product, no clusters, with outlier clipping:\u001b[0m\n",
      "Root Mean Squared Error:  113.79630605469539\n",
      "Mean Absolute Error:  71.3409527871183\n",
      "\u001b[1m\n",
      "\n",
      "Top 5 product, with clusters, no outlier clipping:\u001b[0m\n",
      "Cluster 0:\n",
      "Root Mean Squared Error:  19.620806048899926\n",
      "Mean Absolute Error:  13.193365962710233\n",
      "Cluster 1:\n",
      "Root Mean Squared Error:  47.47718375779328\n",
      "Mean Absolute Error:  29.614264783495226\n",
      "Cluster 2:\n",
      "Root Mean Squared Error:  61.10033823967382\n",
      "Mean Absolute Error:  36.35809951108043\n",
      "Cluster 3:\n",
      "Root Mean Squared Error:  163.25009694284427\n",
      "Mean Absolute Error:  64.31845892720591\n",
      "\n",
      "Collective metrics for this model:\n",
      "RMSE:  48.389255411000676 , MAE:  28.70495974999484\n",
      "\u001b[1m\n",
      "\n",
      "Top 5 product, with clusters, with outlier clipping:\u001b[0m\n",
      "Cluster 0:\n",
      "Root Mean Squared Error:  18.40170315733857\n",
      "Mean Absolute Error:  12.78932895459756\n",
      "Cluster 1:\n",
      "Root Mean Squared Error:  35.31945276796208\n",
      "Mean Absolute Error:  26.065612912435107\n",
      "Cluster 2:\n",
      "Root Mean Squared Error:  55.84697177145704\n",
      "Mean Absolute Error:  34.185326029908644\n",
      "Cluster 3:\n",
      "Root Mean Squared Error:  160.33669432631896\n",
      "Mean Absolute Error:  53.94950441401728\n",
      "\n",
      "Collective metrics for this model:\n",
      "RMSE:  40.62586471962368 , MAE:  25.952915159768647\n"
     ]
    }
   ],
   "source": [
    "prophet_model_per_product(df, products_top[4],4)"
   ]
  },
  {
   "cell_type": "markdown",
   "id": "c5b908d5-0fd2-43f2-b4a5-c741d113eb5e",
   "metadata": {},
   "source": [
    "### Top 1 product, no clusters, with outlier clipping. Metrics vs no clipping"
   ]
  },
  {
   "cell_type": "code",
   "execution_count": null,
   "id": "ff07689f-b519-4eb9-87c4-6da6d1967dd9",
   "metadata": {},
   "outputs": [],
   "source": []
  }
 ],
 "metadata": {
  "kernelspec": {
   "display_name": "final_project",
   "language": "python",
   "name": "final_project"
  },
  "language_info": {
   "codemirror_mode": {
    "name": "ipython",
    "version": 3
   },
   "file_extension": ".py",
   "mimetype": "text/x-python",
   "name": "python",
   "nbconvert_exporter": "python",
   "pygments_lexer": "ipython3",
   "version": "3.11.8"
  }
 },
 "nbformat": 4,
 "nbformat_minor": 5
}
