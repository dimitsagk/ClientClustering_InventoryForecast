{
 "cells": [
  {
   "cell_type": "code",
   "execution_count": 1,
   "id": "55da4522-8ac8-433b-9a16-17fa600463bf",
   "metadata": {},
   "outputs": [],
   "source": [
    "# notes:\n",
    "\n",
    "# inventory, item stock, prediction for inventory\n",
    "# f.e. next month how we will sell from each item\n",
    "\n",
    "# top most selling products\n",
    "# top most high selling products\n",
    "\n",
    "\n",
    "# no missing records in the time-series model\n",
    "# consecutive days - datetimeformat\n",
    "# date column as index!!\n",
    "# Multi-series forecasting, arima\n",
    "\n",
    "# model prophet- from meta -> i can specify country"
   ]
  },
  {
   "cell_type": "markdown",
   "id": "0c450f5d-d3a8-4950-9f2b-9eac573cd082",
   "metadata": {},
   "source": [
    "# Importing libraries and cleaned dataset"
   ]
  },
  {
   "cell_type": "code",
   "execution_count": 2,
   "id": "5630f919-f002-4289-9a7a-57b07ddb1bb2",
   "metadata": {},
   "outputs": [
    {
     "name": "stderr",
     "output_type": "stream",
     "text": [
      "Importing plotly failed. Interactive plots will not work.\n"
     ]
    }
   ],
   "source": [
    "import pandas as pd\n",
    "import numpy as np\n",
    "import seaborn as sns\n",
    "import matplotlib.pyplot as plt\n",
    "\n",
    "from prophet import Prophet\n",
    "\n",
    "from statsmodels.tools.eval_measures import rmse\n",
    "from sklearn.metrics import mean_absolute_error\n",
    "\n",
    "from functions import prophet_model\n",
    "\n",
    "#import holidays "
   ]
  },
  {
   "cell_type": "code",
   "execution_count": 3,
   "id": "66eb588f-0c50-400e-b57f-2206070e4538",
   "metadata": {},
   "outputs": [],
   "source": [
    "# Disabling a specific type of warning from Jupyter, that I know if mistaken for something else\n",
    "pd.options.mode.chained_assignment = None "
   ]
  },
  {
   "cell_type": "markdown",
   "id": "d4f86c57-a3e5-4df7-b5de-74b66f86575b",
   "metadata": {},
   "source": [
    "**Original Dataset**:\n",
    "\n",
    "Chen,Daqing. (2015). Online Retail. UCI Machine Learning Repository. https://archive.ics.uci.edu/dataset/352/online+retail"
   ]
  },
  {
   "cell_type": "code",
   "execution_count": 4,
   "id": "c0e71e8d-c9af-4a03-bd7c-8ff3bdb503b9",
   "metadata": {},
   "outputs": [],
   "source": [
    "# Importing two datasets, to be able to compare performance\n",
    "# one cleaned dataset from my first notebook, and one filtered with clusters from the notebook 03_ML_clustering\n",
    "# the filters on the second are: only actual products (good), only UK, dropping NaN customerID\n",
    "file_path1 = '../data/data_cleaned.csv'\n",
    "file_path2 = '../data/data_filtered_with_clusters.csv'\n",
    "\n",
    "df = pd.read_csv(file_path1, dtype={'InvoiceNo': 'O','StockCode': 'O','Description': 'O',\n",
    "                                   'Quantity': 'int64','UnitPrice': 'float64',\n",
    "                                   'CustomerID': 'Int64','Country': 'O'}, parse_dates=['InvoiceDate'])\n",
    "df_fltrd = pd.read_csv(file_path2, dtype={'InvoiceNo': 'O','StockCode': 'O','Description': 'O',\n",
    "                                   'Quantity': 'int64','UnitPrice': 'float64',\n",
    "                                   'CustomerID': 'Int64','Country': 'O'}, parse_dates=['InvoiceDate'])"
   ]
  },
  {
   "cell_type": "code",
   "execution_count": 5,
   "id": "256ce73b-da08-4778-a3a1-11535514968b",
   "metadata": {},
   "outputs": [
    {
     "data": {
      "text/html": [
       "<div>\n",
       "<style scoped>\n",
       "    .dataframe tbody tr th:only-of-type {\n",
       "        vertical-align: middle;\n",
       "    }\n",
       "\n",
       "    .dataframe tbody tr th {\n",
       "        vertical-align: top;\n",
       "    }\n",
       "\n",
       "    .dataframe thead th {\n",
       "        text-align: right;\n",
       "    }\n",
       "</style>\n",
       "<table border=\"1\" class=\"dataframe\">\n",
       "  <thead>\n",
       "    <tr style=\"text-align: right;\">\n",
       "      <th></th>\n",
       "      <th>InvoiceNo</th>\n",
       "      <th>StockCode</th>\n",
       "      <th>Description</th>\n",
       "      <th>Quantity</th>\n",
       "      <th>InvoiceDate</th>\n",
       "      <th>UnitPrice</th>\n",
       "      <th>CustomerID</th>\n",
       "      <th>Country</th>\n",
       "    </tr>\n",
       "  </thead>\n",
       "  <tbody>\n",
       "    <tr>\n",
       "      <th>0</th>\n",
       "      <td>536365</td>\n",
       "      <td>85123A</td>\n",
       "      <td>WHITE HANGING HEART T-LIGHT HOLDER</td>\n",
       "      <td>6</td>\n",
       "      <td>2010-12-01 08:26:00</td>\n",
       "      <td>2.95</td>\n",
       "      <td>17850</td>\n",
       "      <td>United Kingdom</td>\n",
       "    </tr>\n",
       "    <tr>\n",
       "      <th>1</th>\n",
       "      <td>536365</td>\n",
       "      <td>71053</td>\n",
       "      <td>WHITE METAL LANTERN</td>\n",
       "      <td>6</td>\n",
       "      <td>2010-12-01 08:26:00</td>\n",
       "      <td>3.75</td>\n",
       "      <td>17850</td>\n",
       "      <td>United Kingdom</td>\n",
       "    </tr>\n",
       "    <tr>\n",
       "      <th>2</th>\n",
       "      <td>536365</td>\n",
       "      <td>84406B</td>\n",
       "      <td>CREAM CUPID HEARTS COAT HANGER</td>\n",
       "      <td>8</td>\n",
       "      <td>2010-12-01 08:26:00</td>\n",
       "      <td>4.15</td>\n",
       "      <td>17850</td>\n",
       "      <td>United Kingdom</td>\n",
       "    </tr>\n",
       "    <tr>\n",
       "      <th>3</th>\n",
       "      <td>536365</td>\n",
       "      <td>84029G</td>\n",
       "      <td>KNITTED UNION FLAG HOT WATER BOTTLE</td>\n",
       "      <td>6</td>\n",
       "      <td>2010-12-01 08:26:00</td>\n",
       "      <td>3.75</td>\n",
       "      <td>17850</td>\n",
       "      <td>United Kingdom</td>\n",
       "    </tr>\n",
       "    <tr>\n",
       "      <th>4</th>\n",
       "      <td>536365</td>\n",
       "      <td>84029E</td>\n",
       "      <td>RED WOOLLY HOTTIE WHITE HEART.</td>\n",
       "      <td>6</td>\n",
       "      <td>2010-12-01 08:26:00</td>\n",
       "      <td>4.25</td>\n",
       "      <td>17850</td>\n",
       "      <td>United Kingdom</td>\n",
       "    </tr>\n",
       "  </tbody>\n",
       "</table>\n",
       "</div>"
      ],
      "text/plain": [
       "  InvoiceNo StockCode                          Description  Quantity  \\\n",
       "0    536365    85123A   WHITE HANGING HEART T-LIGHT HOLDER         6   \n",
       "1    536365     71053                  WHITE METAL LANTERN         6   \n",
       "2    536365    84406B       CREAM CUPID HEARTS COAT HANGER         8   \n",
       "3    536365    84029G  KNITTED UNION FLAG HOT WATER BOTTLE         6   \n",
       "4    536365    84029E       RED WOOLLY HOTTIE WHITE HEART.         6   \n",
       "\n",
       "          InvoiceDate  UnitPrice  CustomerID         Country  \n",
       "0 2010-12-01 08:26:00       2.95       17850  United Kingdom  \n",
       "1 2010-12-01 08:26:00       3.75       17850  United Kingdom  \n",
       "2 2010-12-01 08:26:00       4.15       17850  United Kingdom  \n",
       "3 2010-12-01 08:26:00       3.75       17850  United Kingdom  \n",
       "4 2010-12-01 08:26:00       4.25       17850  United Kingdom  "
      ]
     },
     "execution_count": 5,
     "metadata": {},
     "output_type": "execute_result"
    }
   ],
   "source": [
    "df.head()"
   ]
  },
  {
   "cell_type": "code",
   "execution_count": 6,
   "id": "42141306-6c07-4594-a912-9eab79d8142b",
   "metadata": {},
   "outputs": [
    {
     "data": {
      "text/html": [
       "<div>\n",
       "<style scoped>\n",
       "    .dataframe tbody tr th:only-of-type {\n",
       "        vertical-align: middle;\n",
       "    }\n",
       "\n",
       "    .dataframe tbody tr th {\n",
       "        vertical-align: top;\n",
       "    }\n",
       "\n",
       "    .dataframe thead th {\n",
       "        text-align: right;\n",
       "    }\n",
       "</style>\n",
       "<table border=\"1\" class=\"dataframe\">\n",
       "  <thead>\n",
       "    <tr style=\"text-align: right;\">\n",
       "      <th></th>\n",
       "      <th>InvoiceNo</th>\n",
       "      <th>StockCode</th>\n",
       "      <th>Description</th>\n",
       "      <th>Quantity</th>\n",
       "      <th>InvoiceDate</th>\n",
       "      <th>UnitPrice</th>\n",
       "      <th>CustomerID</th>\n",
       "      <th>Country</th>\n",
       "      <th>TotalPrice</th>\n",
       "      <th>Label</th>\n",
       "    </tr>\n",
       "  </thead>\n",
       "  <tbody>\n",
       "    <tr>\n",
       "      <th>0</th>\n",
       "      <td>536365</td>\n",
       "      <td>85123A</td>\n",
       "      <td>WHITE HANGING HEART T-LIGHT HOLDER</td>\n",
       "      <td>6</td>\n",
       "      <td>2010-12-01 08:26:00</td>\n",
       "      <td>2.95</td>\n",
       "      <td>17850</td>\n",
       "      <td>United Kingdom</td>\n",
       "      <td>17.7</td>\n",
       "      <td>2</td>\n",
       "    </tr>\n",
       "    <tr>\n",
       "      <th>1</th>\n",
       "      <td>536365</td>\n",
       "      <td>71053</td>\n",
       "      <td>WHITE METAL LANTERN</td>\n",
       "      <td>6</td>\n",
       "      <td>2010-12-01 08:26:00</td>\n",
       "      <td>3.75</td>\n",
       "      <td>17850</td>\n",
       "      <td>United Kingdom</td>\n",
       "      <td>22.5</td>\n",
       "      <td>2</td>\n",
       "    </tr>\n",
       "    <tr>\n",
       "      <th>2</th>\n",
       "      <td>536365</td>\n",
       "      <td>84406B</td>\n",
       "      <td>CREAM CUPID HEARTS COAT HANGER</td>\n",
       "      <td>8</td>\n",
       "      <td>2010-12-01 08:26:00</td>\n",
       "      <td>4.15</td>\n",
       "      <td>17850</td>\n",
       "      <td>United Kingdom</td>\n",
       "      <td>33.2</td>\n",
       "      <td>2</td>\n",
       "    </tr>\n",
       "    <tr>\n",
       "      <th>3</th>\n",
       "      <td>536365</td>\n",
       "      <td>84029G</td>\n",
       "      <td>KNITTED UNION FLAG HOT WATER BOTTLE</td>\n",
       "      <td>6</td>\n",
       "      <td>2010-12-01 08:26:00</td>\n",
       "      <td>3.75</td>\n",
       "      <td>17850</td>\n",
       "      <td>United Kingdom</td>\n",
       "      <td>22.5</td>\n",
       "      <td>2</td>\n",
       "    </tr>\n",
       "    <tr>\n",
       "      <th>4</th>\n",
       "      <td>536365</td>\n",
       "      <td>84029E</td>\n",
       "      <td>RED WOOLLY HOTTIE WHITE HEART.</td>\n",
       "      <td>6</td>\n",
       "      <td>2010-12-01 08:26:00</td>\n",
       "      <td>4.25</td>\n",
       "      <td>17850</td>\n",
       "      <td>United Kingdom</td>\n",
       "      <td>25.5</td>\n",
       "      <td>2</td>\n",
       "    </tr>\n",
       "  </tbody>\n",
       "</table>\n",
       "</div>"
      ],
      "text/plain": [
       "  InvoiceNo StockCode                          Description  Quantity  \\\n",
       "0    536365    85123A   WHITE HANGING HEART T-LIGHT HOLDER         6   \n",
       "1    536365     71053                  WHITE METAL LANTERN         6   \n",
       "2    536365    84406B       CREAM CUPID HEARTS COAT HANGER         8   \n",
       "3    536365    84029G  KNITTED UNION FLAG HOT WATER BOTTLE         6   \n",
       "4    536365    84029E       RED WOOLLY HOTTIE WHITE HEART.         6   \n",
       "\n",
       "          InvoiceDate  UnitPrice  CustomerID         Country  TotalPrice  \\\n",
       "0 2010-12-01 08:26:00       2.95       17850  United Kingdom        17.7   \n",
       "1 2010-12-01 08:26:00       3.75       17850  United Kingdom        22.5   \n",
       "2 2010-12-01 08:26:00       4.15       17850  United Kingdom        33.2   \n",
       "3 2010-12-01 08:26:00       3.75       17850  United Kingdom        22.5   \n",
       "4 2010-12-01 08:26:00       4.25       17850  United Kingdom        25.5   \n",
       "\n",
       "   Label  \n",
       "0      2  \n",
       "1      2  \n",
       "2      2  \n",
       "3      2  \n",
       "4      2  "
      ]
     },
     "execution_count": 6,
     "metadata": {},
     "output_type": "execute_result"
    }
   ],
   "source": [
    "df_fltrd.head()"
   ]
  },
  {
   "cell_type": "code",
   "execution_count": 7,
   "id": "0a3bda5f-b9b8-46c4-8089-52361598aa65",
   "metadata": {},
   "outputs": [],
   "source": [
    "# Ading the total price column to df\n",
    "df['TotalPrice'] = df.Quantity * df.UnitPrice"
   ]
  },
  {
   "cell_type": "markdown",
   "id": "73d51193-c393-4aa5-80cf-2e12f64ba0ec",
   "metadata": {},
   "source": [
    "# Feature Engineering"
   ]
  },
  {
   "cell_type": "markdown",
   "id": "8c8a46ef-50b1-4822-a62f-59808cb3acbc",
   "metadata": {},
   "source": [
    "### Clipping outliers"
   ]
  },
  {
   "cell_type": "markdown",
   "id": "c5b24329-8267-4ebf-a1ea-65021d53ab47",
   "metadata": {},
   "source": [
    "I know from the EDA, shown in the previous notebooks, **two outliers** with huge difference in scale. I am going to do scaling to a range, scaling them to highest next value (after these two)."
   ]
  },
  {
   "cell_type": "code",
   "execution_count": 8,
   "id": "38ce1ffa-9a16-4859-aa77-ffc6d4853711",
   "metadata": {},
   "outputs": [],
   "source": [
    "# scaling within a range, updating the Quantity and accordingly the TotalPrice\n",
    "df.loc[df.InvoiceNo.isin(['581483','541431']),'Quantity'] = df.Quantity.sort_values(ascending=False).values[2]\n",
    "df.loc[df.InvoiceNo.isin(['581483','541431']),'TotalPrice'] = df.Quantity * df.UnitPrice\n",
    "\n",
    "df_fltrd.loc[df_fltrd.InvoiceNo.isin(['581483','541431']),'Quantity'] = df_fltrd.Quantity.sort_values(ascending=False).values[2]\n",
    "df_fltrd.loc[df_fltrd.InvoiceNo.isin(['581483','541431']),'TotalPrice'] = df_fltrd.Quantity * df_fltrd.UnitPrice"
   ]
  },
  {
   "cell_type": "markdown",
   "id": "60ad4b16-b13f-4b0c-ac81-ecee9eda78e4",
   "metadata": {},
   "source": [
    "### Date column"
   ]
  },
  {
   "cell_type": "markdown",
   "id": "1f13a0af-d80b-43b4-9a01-e32b5f2a72f4",
   "metadata": {},
   "source": [
    "Adding new column for the date without time."
   ]
  },
  {
   "cell_type": "code",
   "execution_count": 9,
   "id": "b4f28570-edce-4f0e-a862-98388c108f09",
   "metadata": {},
   "outputs": [],
   "source": [
    "# New date column without time\n",
    "df['InvoiceDate_noTime'] = df.InvoiceDate.dt.normalize()\n",
    "df_fltrd['InvoiceDate_noTime'] = df_fltrd.InvoiceDate.dt.normalize()\n",
    "\n",
    "# New columns for year/month/day\n",
    "#cust_test[['Year','Month','Day']] = cust_test.InvoiceDate.dt.strftime('%Y-%m-%d').str.split('-', n=3, expand=True)\n",
    "\n",
    "# Defining if it is weekday or weekend\n",
    "#cust_test['Weekend'] = (cust_test['InvoiceDate'].dt.dayofweek > 4).astype(int)\n",
    "\n",
    "# Finding holidays in UK\n",
    "# Currently all are False, cause in the date of holidays the online store was possibly closed\n",
    "#uk_holidays = holidays.UnitedKingdom() \n",
    "#df['Holidays'] = df['InvoiceDate_noTime'].isin(uk_holidays).astype(int)"
   ]
  },
  {
   "cell_type": "markdown",
   "id": "c8e85f3d-749a-4e4b-bc06-aa717d56361c",
   "metadata": {},
   "source": [
    "### Removing features that will not be used"
   ]
  },
  {
   "cell_type": "markdown",
   "id": "eaed71ef-f796-4bee-b8a2-36801cb8377a",
   "metadata": {},
   "source": [
    "I will be using StockCode, Quantity and date for my model. "
   ]
  },
  {
   "cell_type": "code",
   "execution_count": 10,
   "id": "04ea8df2-4a0e-42e3-8f32-4144b8e48d07",
   "metadata": {},
   "outputs": [
    {
     "data": {
      "text/html": [
       "<div>\n",
       "<style scoped>\n",
       "    .dataframe tbody tr th:only-of-type {\n",
       "        vertical-align: middle;\n",
       "    }\n",
       "\n",
       "    .dataframe tbody tr th {\n",
       "        vertical-align: top;\n",
       "    }\n",
       "\n",
       "    .dataframe thead th {\n",
       "        text-align: right;\n",
       "    }\n",
       "</style>\n",
       "<table border=\"1\" class=\"dataframe\">\n",
       "  <thead>\n",
       "    <tr style=\"text-align: right;\">\n",
       "      <th></th>\n",
       "      <th>StockCode</th>\n",
       "      <th>Quantity</th>\n",
       "      <th>InvoiceDate</th>\n",
       "    </tr>\n",
       "  </thead>\n",
       "  <tbody>\n",
       "    <tr>\n",
       "      <th>0</th>\n",
       "      <td>85123A</td>\n",
       "      <td>6</td>\n",
       "      <td>2010-12-01</td>\n",
       "    </tr>\n",
       "    <tr>\n",
       "      <th>1</th>\n",
       "      <td>71053</td>\n",
       "      <td>6</td>\n",
       "      <td>2010-12-01</td>\n",
       "    </tr>\n",
       "    <tr>\n",
       "      <th>2</th>\n",
       "      <td>84406B</td>\n",
       "      <td>8</td>\n",
       "      <td>2010-12-01</td>\n",
       "    </tr>\n",
       "    <tr>\n",
       "      <th>3</th>\n",
       "      <td>84029G</td>\n",
       "      <td>6</td>\n",
       "      <td>2010-12-01</td>\n",
       "    </tr>\n",
       "    <tr>\n",
       "      <th>4</th>\n",
       "      <td>84029E</td>\n",
       "      <td>6</td>\n",
       "      <td>2010-12-01</td>\n",
       "    </tr>\n",
       "  </tbody>\n",
       "</table>\n",
       "</div>"
      ],
      "text/plain": [
       "  StockCode  Quantity InvoiceDate\n",
       "0    85123A         6  2010-12-01\n",
       "1     71053         6  2010-12-01\n",
       "2    84406B         8  2010-12-01\n",
       "3    84029G         6  2010-12-01\n",
       "4    84029E         6  2010-12-01"
      ]
     },
     "execution_count": 10,
     "metadata": {},
     "output_type": "execute_result"
    }
   ],
   "source": [
    "df_stock = df[['StockCode','Quantity','InvoiceDate_noTime']].rename(columns={'InvoiceDate_noTime':'InvoiceDate'})\n",
    "df_stock.head()"
   ]
  },
  {
   "cell_type": "code",
   "execution_count": 11,
   "id": "e2535503-5417-404c-82d4-b27ad8d5c92e",
   "metadata": {},
   "outputs": [
    {
     "data": {
      "text/html": [
       "<div>\n",
       "<style scoped>\n",
       "    .dataframe tbody tr th:only-of-type {\n",
       "        vertical-align: middle;\n",
       "    }\n",
       "\n",
       "    .dataframe tbody tr th {\n",
       "        vertical-align: top;\n",
       "    }\n",
       "\n",
       "    .dataframe thead th {\n",
       "        text-align: right;\n",
       "    }\n",
       "</style>\n",
       "<table border=\"1\" class=\"dataframe\">\n",
       "  <thead>\n",
       "    <tr style=\"text-align: right;\">\n",
       "      <th></th>\n",
       "      <th>StockCode</th>\n",
       "      <th>Quantity</th>\n",
       "      <th>InvoiceDate</th>\n",
       "      <th>Label</th>\n",
       "    </tr>\n",
       "  </thead>\n",
       "  <tbody>\n",
       "    <tr>\n",
       "      <th>0</th>\n",
       "      <td>85123A</td>\n",
       "      <td>6</td>\n",
       "      <td>2010-12-01</td>\n",
       "      <td>2</td>\n",
       "    </tr>\n",
       "    <tr>\n",
       "      <th>1</th>\n",
       "      <td>71053</td>\n",
       "      <td>6</td>\n",
       "      <td>2010-12-01</td>\n",
       "      <td>2</td>\n",
       "    </tr>\n",
       "    <tr>\n",
       "      <th>2</th>\n",
       "      <td>84406B</td>\n",
       "      <td>8</td>\n",
       "      <td>2010-12-01</td>\n",
       "      <td>2</td>\n",
       "    </tr>\n",
       "    <tr>\n",
       "      <th>3</th>\n",
       "      <td>84029G</td>\n",
       "      <td>6</td>\n",
       "      <td>2010-12-01</td>\n",
       "      <td>2</td>\n",
       "    </tr>\n",
       "    <tr>\n",
       "      <th>4</th>\n",
       "      <td>84029E</td>\n",
       "      <td>6</td>\n",
       "      <td>2010-12-01</td>\n",
       "      <td>2</td>\n",
       "    </tr>\n",
       "  </tbody>\n",
       "</table>\n",
       "</div>"
      ],
      "text/plain": [
       "  StockCode  Quantity InvoiceDate  Label\n",
       "0    85123A         6  2010-12-01      2\n",
       "1     71053         6  2010-12-01      2\n",
       "2    84406B         8  2010-12-01      2\n",
       "3    84029G         6  2010-12-01      2\n",
       "4    84029E         6  2010-12-01      2"
      ]
     },
     "execution_count": 11,
     "metadata": {},
     "output_type": "execute_result"
    }
   ],
   "source": [
    "df_fltrd_stock = df_fltrd[['StockCode','Quantity','InvoiceDate_noTime','Label']].rename(columns={'InvoiceDate_noTime':'InvoiceDate'})\n",
    "df_fltrd_stock.head()"
   ]
  },
  {
   "cell_type": "markdown",
   "id": "d709e702-bded-4805-a2ee-c3cc1919c23e",
   "metadata": {},
   "source": [
    "# Splitting dataset"
   ]
  },
  {
   "cell_type": "code",
   "execution_count": 12,
   "id": "1455637a-1a2b-497b-ac6d-99966e58bbc5",
   "metadata": {},
   "outputs": [
    {
     "data": {
      "text/plain": [
       "array([2, 1, 0, 3])"
      ]
     },
     "execution_count": 12,
     "metadata": {},
     "output_type": "execute_result"
    }
   ],
   "source": [
    "df_fltrd_stock.Label.unique()"
   ]
  },
  {
   "cell_type": "code",
   "execution_count": 13,
   "id": "b8d44e30-68b2-4b91-be0f-260d5cc99a7e",
   "metadata": {},
   "outputs": [
    {
     "name": "stdout",
     "output_type": "stream",
     "text": [
      "<class 'pandas.core.series.Series'>\n",
      "RangeIndex: 348887 entries, 0 to 348886\n",
      "Series name: Label\n",
      "Non-Null Count   Dtype\n",
      "--------------   -----\n",
      "348887 non-null  int64\n",
      "dtypes: int64(1)\n",
      "memory usage: 2.7 MB\n"
     ]
    }
   ],
   "source": [
    "df_fltrd_stock.Label.info()"
   ]
  },
  {
   "cell_type": "code",
   "execution_count": 14,
   "id": "b3b8f7ed-39b7-46f8-a6fe-56b0b9b39956",
   "metadata": {},
   "outputs": [],
   "source": [
    "df_fltrd_stock_0 = df_fltrd_stock[df_fltrd_stock.Label == 0]\n",
    "df_fltrd_stock_1 = df_fltrd_stock[df_fltrd_stock.Label == 1]\n",
    "df_fltrd_stock_2 = df_fltrd_stock[df_fltrd_stock.Label == 2]\n",
    "df_fltrd_stock_3 = df_fltrd_stock[df_fltrd_stock.Label == 3]"
   ]
  },
  {
   "cell_type": "markdown",
   "id": "7d63cf63-7059-4088-a0d1-4fddb90aff65",
   "metadata": {
    "jp-MarkdownHeadingCollapsed": true
   },
   "source": [
    "# EDA"
   ]
  },
  {
   "cell_type": "markdown",
   "id": "55c032b2-2747-4475-bfe4-53a9a59c8551",
   "metadata": {},
   "source": [
    "### Quantity sold for all products"
   ]
  },
  {
   "cell_type": "code",
   "execution_count": 15,
   "id": "d21de813-5bc9-43a5-b997-49a3c03a7e91",
   "metadata": {},
   "outputs": [],
   "source": [
    "# per week\n",
    "#df.groupby(df['InvoiceDate_noTime'].dt.to_period('W'))['Quantity'].sum().plot(figsize=(5, 3))"
   ]
  },
  {
   "cell_type": "code",
   "execution_count": 16,
   "id": "6cf6dd0b-758e-4b45-9f51-100bca026032",
   "metadata": {},
   "outputs": [],
   "source": [
    "# per week\n",
    "#df_fltrd.groupby(df_fltrd['InvoiceDate_noTime'].dt.to_period('W'))['Quantity'].sum().plot(figsize=(5, 3))"
   ]
  },
  {
   "cell_type": "code",
   "execution_count": 17,
   "id": "3aa40b7a-f75e-4800-b1f6-f495177884ee",
   "metadata": {},
   "outputs": [],
   "source": [
    "#df_fltrd_stock_0.groupby(df_fltrd_stock_0['InvoiceDate'].dt.to_period('W'))['Quantity'].sum().plot(figsize=(5, 3))"
   ]
  },
  {
   "cell_type": "code",
   "execution_count": 18,
   "id": "dcf8f862-fcfb-4adb-84aa-cdbfdf4eb240",
   "metadata": {},
   "outputs": [],
   "source": [
    "#df_fltrd_stock_1.groupby(df_fltrd_stock_1['InvoiceDate'].dt.to_period('W'))['Quantity'].sum().plot(figsize=(5, 3))"
   ]
  },
  {
   "cell_type": "code",
   "execution_count": 19,
   "id": "3cdf61d7-58e8-4ce4-a5f2-edfa26e5f56e",
   "metadata": {},
   "outputs": [],
   "source": [
    "#df_fltrd_stock_2.groupby(df_fltrd_stock_2['InvoiceDate'].dt.to_period('W'))['Quantity'].sum().plot(figsize=(5, 3))"
   ]
  },
  {
   "cell_type": "code",
   "execution_count": 20,
   "id": "fb1b7e6f-591b-4b42-9bf2-d6fb38ef350b",
   "metadata": {},
   "outputs": [],
   "source": [
    "#df_fltrd_stock_3.groupby(df_fltrd_stock_3['InvoiceDate'].dt.to_period('W'))['Quantity'].sum().plot(figsize=(5, 3))"
   ]
  },
  {
   "cell_type": "markdown",
   "id": "d5ccc805-65a6-412f-9705-76c88e7eb84f",
   "metadata": {},
   "source": [
    "# Top selling products"
   ]
  },
  {
   "cell_type": "code",
   "execution_count": 21,
   "id": "97f90f08-4865-4155-9322-510476354358",
   "metadata": {},
   "outputs": [
    {
     "data": {
      "text/plain": [
       "['22197', '84077', '85099B', '85123A', '21212']"
      ]
     },
     "execution_count": 21,
     "metadata": {},
     "output_type": "execute_result"
    }
   ],
   "source": [
    "# the top 5 selling products\n",
    "products_top = df.groupby('StockCode')['Quantity'].sum().sort_values(ascending=False).head(5).index.tolist()\n",
    "products_top"
   ]
  },
  {
   "cell_type": "markdown",
   "id": "143338b4-d7b0-4299-b714-2c20cf9360f5",
   "metadata": {},
   "source": [
    "## Preparing dataframes for model"
   ]
  },
  {
   "cell_type": "code",
   "execution_count": 22,
   "id": "7a900f39-9a75-450b-a6ab-30ace5e6a184",
   "metadata": {},
   "outputs": [],
   "source": [
    "def df_prep(df_2,products_top, product_i,filtering=False, clipping = False):\n",
    "    df = df_2.copy()\n",
    "    if filtering==True:\n",
    "        df = df[df.StockCode == products_top[product_i]].drop(columns='StockCode').reset_index(drop=True)\n",
    "    else:\n",
    "        df.drop(columns='StockCode', inplace=True)\n",
    "\n",
    "    for i in range(df.shape[1]):\n",
    "        if df.iloc[:,i].dtypes =='<M8[ns]':\n",
    "            df.rename(columns={df.columns[i]: \"ds\"}, inplace=True)\n",
    "        else:\n",
    "            df.rename(columns={df.columns[i]: \"y\"}, inplace=True)\n",
    "\n",
    "    df = df[['ds', 'y']] \n",
    "    \n",
    "    if clipping == True:\n",
    "        tq_UpperLimit = (df.y.mean() + df.y.std()*3).round(0).astype(int)\n",
    "        df_clip = df.copy()\n",
    "        df_clip.loc[df_clip.y > tq_UpperLimit , 'y'] = tq_UpperLimit        \n",
    "        return df_clip\n",
    "    else:\n",
    "        return df\n"
   ]
  },
  {
   "cell_type": "code",
   "execution_count": 23,
   "id": "97d5b310-44ef-446e-9b85-949b76e49a62",
   "metadata": {},
   "outputs": [
    {
     "data": {
      "text/html": [
       "<div>\n",
       "<style scoped>\n",
       "    .dataframe tbody tr th:only-of-type {\n",
       "        vertical-align: middle;\n",
       "    }\n",
       "\n",
       "    .dataframe tbody tr th {\n",
       "        vertical-align: top;\n",
       "    }\n",
       "\n",
       "    .dataframe thead th {\n",
       "        text-align: right;\n",
       "    }\n",
       "</style>\n",
       "<table border=\"1\" class=\"dataframe\">\n",
       "  <thead>\n",
       "    <tr style=\"text-align: right;\">\n",
       "      <th></th>\n",
       "      <th>ds</th>\n",
       "      <th>y</th>\n",
       "    </tr>\n",
       "  </thead>\n",
       "  <tbody>\n",
       "    <tr>\n",
       "      <th>0</th>\n",
       "      <td>2010-12-01</td>\n",
       "      <td>100</td>\n",
       "    </tr>\n",
       "    <tr>\n",
       "      <th>1</th>\n",
       "      <td>2010-12-01</td>\n",
       "      <td>36</td>\n",
       "    </tr>\n",
       "    <tr>\n",
       "      <th>2</th>\n",
       "      <td>2010-12-01</td>\n",
       "      <td>2</td>\n",
       "    </tr>\n",
       "    <tr>\n",
       "      <th>3</th>\n",
       "      <td>2010-12-01</td>\n",
       "      <td>5</td>\n",
       "    </tr>\n",
       "    <tr>\n",
       "      <th>4</th>\n",
       "      <td>2010-12-01</td>\n",
       "      <td>5</td>\n",
       "    </tr>\n",
       "  </tbody>\n",
       "</table>\n",
       "</div>"
      ],
      "text/plain": [
       "          ds    y\n",
       "0 2010-12-01  100\n",
       "1 2010-12-01   36\n",
       "2 2010-12-01    2\n",
       "3 2010-12-01    5\n",
       "4 2010-12-01    5"
      ]
     },
     "execution_count": 23,
     "metadata": {},
     "output_type": "execute_result"
    }
   ],
   "source": [
    "df_stock_top_pr = df_prep(df_stock, products_top, 0, True,False)\n",
    "df_stock_top_pr.head()"
   ]
  },
  {
   "cell_type": "code",
   "execution_count": 24,
   "id": "acbeaab2-95ec-4dab-80e1-ae940541b16c",
   "metadata": {},
   "outputs": [],
   "source": [
    "df_stock_top_pr_clip = df_prep(df_stock, products_top, 0,True, True)"
   ]
  },
  {
   "cell_type": "code",
   "execution_count": 25,
   "id": "4e2a8da4-ec9d-469c-a038-175fae844b72",
   "metadata": {},
   "outputs": [],
   "source": [
    "df_fltrd_stock_0_top_pr_clip = df_prep(df_fltrd_stock_0.drop(columns='Label'), products_top, 0, True,True)\n",
    "df_fltrd_stock_1_top_pr_clip = df_prep(df_fltrd_stock_1.drop(columns='Label'), products_top, 0, True,True)\n",
    "df_fltrd_stock_2_top_pr_clip = df_prep(df_fltrd_stock_2.drop(columns='Label'), products_top, 0, True,True)\n",
    "df_fltrd_stock_3_top_pr_clip = df_prep(df_fltrd_stock_3.drop(columns='Label'), products_top, 0, True,True)"
   ]
  },
  {
   "cell_type": "code",
   "execution_count": 26,
   "id": "95ad901c-25a2-4240-b5d8-d525e4550837",
   "metadata": {},
   "outputs": [],
   "source": [
    "df_fltrd_stock_prep = df_prep(df_fltrd_stock[['StockCode','Quantity','InvoiceDate']], None, None,False, False)\n",
    "df_fltrd_stock_clip = df_prep(df_fltrd_stock[['StockCode','Quantity','InvoiceDate']], None, None,False, True)"
   ]
  },
  {
   "cell_type": "code",
   "execution_count": 27,
   "id": "fad5ff3c-4cb1-43c1-b9fe-b3ed6a31a0b7",
   "metadata": {},
   "outputs": [],
   "source": [
    "df_stock_prep = df_prep(df_stock, None, None,False, False)\n",
    "df_stock_clip = df_prep(df_stock, None, None,False, True)"
   ]
  },
  {
   "cell_type": "markdown",
   "id": "135c3c32-98dd-4dbb-968b-80ae3cdb7911",
   "metadata": {},
   "source": [
    "# Prophet model"
   ]
  },
  {
   "cell_type": "markdown",
   "id": "0a79e7de-42dc-4772-b9cf-89105ece8300",
   "metadata": {},
   "source": [
    "https://facebook.github.io/prophet/docs/quick_start.html"
   ]
  },
  {
   "cell_type": "markdown",
   "id": "8371f241-3b28-4d9e-95bb-0accb1f297a0",
   "metadata": {},
   "source": [
    "### general sales"
   ]
  },
  {
   "cell_type": "code",
   "execution_count": 28,
   "id": "8f6af424-022e-4658-8db1-247f8afd960a",
   "metadata": {},
   "outputs": [
    {
     "name": "stderr",
     "output_type": "stream",
     "text": [
      "15:05:08 - cmdstanpy - INFO - Chain [1] start processing\n",
      "15:05:25 - cmdstanpy - INFO - Chain [1] done processing\n"
     ]
    },
    {
     "name": "stdout",
     "output_type": "stream",
     "text": [
      "Root Mean Squared Error:  13.32127715277131\n",
      "Mean Absolute Error:  8.474870422307582\n"
     ]
    }
   ],
   "source": [
    "# For all products, not filtered model\n",
    "forecast = prophet_model(df_stock_prep, 73)"
   ]
  },
  {
   "cell_type": "code",
   "execution_count": 29,
   "id": "960a0ce6-30f7-483f-87c0-0a712805b35a",
   "metadata": {},
   "outputs": [
    {
     "name": "stderr",
     "output_type": "stream",
     "text": [
      "15:05:33 - cmdstanpy - INFO - Chain [1] start processing\n",
      "15:06:15 - cmdstanpy - INFO - Chain [1] done processing\n"
     ]
    },
    {
     "name": "stdout",
     "output_type": "stream",
     "text": [
      "Root Mean Squared Error:  13.25099422397205\n",
      "Mean Absolute Error:  8.279818290486654\n"
     ]
    }
   ],
   "source": [
    "# For all products, not filtered model, outliers clipped\n",
    "forecast = prophet_model(df_stock_clip, 73)"
   ]
  },
  {
   "cell_type": "code",
   "execution_count": 30,
   "id": "f49f9273-dec8-41f7-80a0-3dcf8bf55e77",
   "metadata": {},
   "outputs": [
    {
     "name": "stderr",
     "output_type": "stream",
     "text": [
      "15:06:20 - cmdstanpy - INFO - Chain [1] start processing\n",
      "15:06:24 - cmdstanpy - INFO - Chain [1] done processing\n"
     ]
    },
    {
     "name": "stdout",
     "output_type": "stream",
     "text": [
      "Root Mean Squared Error:  13.73245010945489\n",
      "Mean Absolute Error:  9.640611117829632\n"
     ]
    }
   ],
   "source": [
    "forecast = prophet_model(df_fltrd_stock_prep, 73)"
   ]
  },
  {
   "cell_type": "code",
   "execution_count": 31,
   "id": "8ad2298b-7ac9-44a9-953f-f1776caf7c7b",
   "metadata": {},
   "outputs": [
    {
     "name": "stderr",
     "output_type": "stream",
     "text": [
      "15:06:30 - cmdstanpy - INFO - Chain [1] start processing\n",
      "15:06:42 - cmdstanpy - INFO - Chain [1] done processing\n"
     ]
    },
    {
     "name": "stdout",
     "output_type": "stream",
     "text": [
      "Root Mean Squared Error:  13.769411439354112\n",
      "Mean Absolute Error:  9.582852447202438\n"
     ]
    }
   ],
   "source": [
    "forecast = prophet_model(df_fltrd_stock_clip, 73)"
   ]
  },
  {
   "cell_type": "markdown",
   "id": "36075fcb-781e-4f10-8fd0-03f0013c9984",
   "metadata": {},
   "source": [
    "### per product"
   ]
  },
  {
   "cell_type": "code",
   "execution_count": 32,
   "id": "fb2a38a1-f4a9-4681-b30a-5d6c29f3fff5",
   "metadata": {},
   "outputs": [
    {
     "name": "stderr",
     "output_type": "stream",
     "text": [
      "15:06:43 - cmdstanpy - INFO - Chain [1] start processing\n",
      "15:06:43 - cmdstanpy - INFO - Chain [1] done processing\n"
     ]
    },
    {
     "name": "stdout",
     "output_type": "stream",
     "text": [
      "Root Mean Squared Error:  246.6642312983561\n",
      "Mean Absolute Error:  85.94247126029819\n"
     ]
    }
   ],
   "source": [
    "# 365-(365*0.8)  # 73.0\n",
    "# Calling function for plrophet model, with defining the number of days for the test set.\n",
    "forecast = prophet_model(df_stock_top_pr, 73)\n",
    "# not good"
   ]
  },
  {
   "cell_type": "code",
   "execution_count": 33,
   "id": "218bb93a-2699-4edc-aa68-78c4763910b4",
   "metadata": {},
   "outputs": [
    {
     "name": "stderr",
     "output_type": "stream",
     "text": [
      "15:06:43 - cmdstanpy - INFO - Chain [1] start processing\n",
      "15:06:43 - cmdstanpy - INFO - Chain [1] done processing\n"
     ]
    },
    {
     "name": "stdout",
     "output_type": "stream",
     "text": [
      "Root Mean Squared Error:  110.58231726887401\n",
      "Mean Absolute Error:  52.29100851159979\n"
     ]
    }
   ],
   "source": [
    "# trying the model where outliers were clipped\n",
    "forecast = prophet_model(df_stock_top_pr_clip, 73)\n",
    "\n",
    "# better, but not good yet"
   ]
  },
  {
   "cell_type": "code",
   "execution_count": 34,
   "id": "997c8729-60f5-49a4-9e38-294bc13761a1",
   "metadata": {},
   "outputs": [
    {
     "name": "stderr",
     "output_type": "stream",
     "text": [
      "15:06:43 - cmdstanpy - INFO - Chain [1] start processing\n",
      "15:06:43 - cmdstanpy - INFO - Chain [1] done processing\n"
     ]
    },
    {
     "name": "stdout",
     "output_type": "stream",
     "text": [
      "Root Mean Squared Error:  124.9397652261015\n",
      "Mean Absolute Error:  59.78920012884129\n"
     ]
    }
   ],
   "source": [
    "# testing with less days for the test model\n",
    "forecast = prophet_model(df_stock_top_pr_clip, 40)\n",
    "# not better, also very small test sample"
   ]
  },
  {
   "cell_type": "markdown",
   "id": "2de4864b-4161-4ad3-947c-ef56a0976c43",
   "metadata": {},
   "source": [
    "### per product per cluster"
   ]
  },
  {
   "cell_type": "code",
   "execution_count": 62,
   "id": "ff2ca52c-cba8-4303-9f0b-0ffc5e5818e7",
   "metadata": {},
   "outputs": [
    {
     "name": "stderr",
     "output_type": "stream",
     "text": [
      "15:15:50 - cmdstanpy - INFO - Chain [1] start processing\n",
      "15:15:51 - cmdstanpy - INFO - Chain [1] done processing\n"
     ]
    },
    {
     "name": "stdout",
     "output_type": "stream",
     "text": [
      "Root Mean Squared Error:  13.03601894033472\n",
      "Mean Absolute Error:  11.889578154982342\n"
     ]
    }
   ],
   "source": [
    "forecast_p0_l0, pred_p0_l0 = prophet_model(df_fltrd_stock_0_top_pr_clip, 73)"
   ]
  },
  {
   "cell_type": "code",
   "execution_count": 63,
   "id": "5a3642ad-a190-433d-a6c5-1d4a87bb8344",
   "metadata": {},
   "outputs": [
    {
     "name": "stderr",
     "output_type": "stream",
     "text": [
      "15:15:51 - cmdstanpy - INFO - Chain [1] start processing\n",
      "15:15:51 - cmdstanpy - INFO - Chain [1] done processing\n"
     ]
    },
    {
     "name": "stdout",
     "output_type": "stream",
     "text": [
      "Root Mean Squared Error:  29.451985750333694\n",
      "Mean Absolute Error:  20.211223472561183\n"
     ]
    }
   ],
   "source": [
    "forecast_p0_l1,pred_p0_l1 = prophet_model(df_fltrd_stock_1_top_pr_clip, 73)"
   ]
  },
  {
   "cell_type": "code",
   "execution_count": 64,
   "id": "bafdbf3b-3e88-4ba1-a21c-8d22c027cdc1",
   "metadata": {},
   "outputs": [
    {
     "name": "stderr",
     "output_type": "stream",
     "text": [
      "15:15:52 - cmdstanpy - INFO - Chain [1] start processing\n",
      "15:15:52 - cmdstanpy - INFO - Chain [1] done processing\n"
     ]
    },
    {
     "name": "stdout",
     "output_type": "stream",
     "text": [
      "Root Mean Squared Error:  50.97662397797866\n",
      "Mean Absolute Error:  38.70498151944558\n"
     ]
    }
   ],
   "source": [
    "forecast_p0_l2,pred_p0_l2 = prophet_model(df_fltrd_stock_2_top_pr_clip, 73)"
   ]
  },
  {
   "cell_type": "code",
   "execution_count": 65,
   "id": "b1d25d14-0f92-41e2-8d86-38418638e3a0",
   "metadata": {},
   "outputs": [
    {
     "name": "stderr",
     "output_type": "stream",
     "text": [
      "15:15:52 - cmdstanpy - INFO - Chain [1] start processing\n",
      "15:15:52 - cmdstanpy - INFO - Chain [1] done processing\n"
     ]
    },
    {
     "name": "stdout",
     "output_type": "stream",
     "text": [
      "Root Mean Squared Error:  481.78956393694176\n",
      "Mean Absolute Error:  281.72352967055923\n"
     ]
    }
   ],
   "source": [
    "forecast_p0_l3,pred_p0_l3 = prophet_model(df_fltrd_stock_3_top_pr_clip, 73)"
   ]
  },
  {
   "cell_type": "code",
   "execution_count": 66,
   "id": "b61dcaf3-c398-4ece-8401-4a8731e87c65",
   "metadata": {},
   "outputs": [
    {
     "data": {
      "text/plain": [
       "[18.97, 47.2, 23.95, 9.88]"
      ]
     },
     "execution_count": 66,
     "metadata": {},
     "output_type": "execute_result"
    }
   ],
   "source": [
    "label_percentages = [round((count / df_fltrd_stock.shape[0]) * 100,2) for count in [df_fltrd_stock[df_fltrd_stock.Label == i].shape[0] for i in range(4)]]\n",
    "label_percentages"
   ]
  },
  {
   "cell_type": "code",
   "execution_count": 67,
   "id": "26ed3f2c-5000-4230-86f0-9ce4dbcd6a9b",
   "metadata": {},
   "outputs": [],
   "source": [
    "prop0 = pred_p0_l0*label_percentages[0]\n",
    "prop1 = pred_p0_l1*label_percentages[1]\n",
    "prop2 = pred_p0_l2*label_percentages[2]\n",
    "prop3 = pred_p0_l3*label_percentages[3]"
   ]
  },
  {
   "cell_type": "code",
   "execution_count": 75,
   "id": "240e0ce8-956a-459f-9e26-0ae7cb3f2773",
   "metadata": {},
   "outputs": [
    {
     "data": {
      "text/plain": [
       "55     363.512058\n",
       "56     326.329097\n",
       "57     372.685967\n",
       "58     331.633037\n",
       "59     183.182807\n",
       "          ...    \n",
       "123    374.028545\n",
       "124    339.371777\n",
       "125    424.799047\n",
       "126    387.616086\n",
       "127    433.972956\n",
       "Name: yhat, Length: 73, dtype: float64"
      ]
     },
     "execution_count": 75,
     "metadata": {},
     "output_type": "execute_result"
    }
   ],
   "source": [
    "prop0"
   ]
  },
  {
   "cell_type": "code",
   "execution_count": 74,
   "id": "69bbeb81-48a5-4d86-97e5-44f14268cbcf",
   "metadata": {},
   "outputs": [
    {
     "data": {
      "text/plain": [
       "180     921.572741\n",
       "181     759.087940\n",
       "182    1091.417678\n",
       "183     827.802739\n",
       "184    1501.472068\n",
       "          ...     \n",
       "248     851.383772\n",
       "249     929.758606\n",
       "250     988.611132\n",
       "251     826.126330\n",
       "252    1158.456068\n",
       "Name: yhat, Length: 73, dtype: float64"
      ]
     },
     "execution_count": 74,
     "metadata": {},
     "output_type": "execute_result"
    }
   ],
   "source": [
    "prop1"
   ]
  },
  {
   "cell_type": "code",
   "execution_count": 76,
   "id": "8de52080-dd94-49d9-804f-b4337f13cf52",
   "metadata": {},
   "outputs": [
    {
     "data": {
      "text/plain": [
       "147     803.603942\n",
       "148     867.670120\n",
       "149     931.089891\n",
       "150     819.555159\n",
       "151     821.453151\n",
       "          ...     \n",
       "215    1167.912343\n",
       "216    1112.675609\n",
       "217     843.824916\n",
       "218     907.891095\n",
       "219     971.310866\n",
       "Name: yhat, Length: 73, dtype: float64"
      ]
     },
     "execution_count": 76,
     "metadata": {},
     "output_type": "execute_result"
    }
   ],
   "source": [
    "prop2"
   ]
  },
  {
   "cell_type": "code",
   "execution_count": 77,
   "id": "36dce72f-baaa-4400-8aeb-2a4ccbb8bfec",
   "metadata": {},
   "outputs": [
    {
     "data": {
      "text/plain": [
       "28      194.465886\n",
       "29      199.683875\n",
       "30      954.470206\n",
       "31     2357.710092\n",
       "32     1860.527617\n",
       "          ...     \n",
       "96     2956.148690\n",
       "97     2354.554908\n",
       "98      531.303562\n",
       "99      536.521551\n",
       "100    1291.307882\n",
       "Name: yhat, Length: 73, dtype: float64"
      ]
     },
     "execution_count": 77,
     "metadata": {},
     "output_type": "execute_result"
    }
   ],
   "source": [
    "prop3"
   ]
  },
  {
   "cell_type": "code",
   "execution_count": 70,
   "id": "de6bff8e-2e8a-434c-9149-5226782307b1",
   "metadata": {},
   "outputs": [
    {
     "data": {
      "text/plain": [
       "0"
      ]
     },
     "execution_count": 70,
     "metadata": {},
     "output_type": "execute_result"
    }
   ],
   "source": [
    "prop0.isna().sum()"
   ]
  },
  {
   "cell_type": "code",
   "execution_count": 71,
   "id": "78d69629-e3bd-4831-8da9-21a87b80a81c",
   "metadata": {},
   "outputs": [
    {
     "data": {
      "text/plain": [
       "0"
      ]
     },
     "execution_count": 71,
     "metadata": {},
     "output_type": "execute_result"
    }
   ],
   "source": [
    "prop1.isna().sum()"
   ]
  },
  {
   "cell_type": "code",
   "execution_count": 72,
   "id": "b489d90c-1029-4cab-96e4-9d2484227190",
   "metadata": {},
   "outputs": [
    {
     "data": {
      "text/plain": [
       "0"
      ]
     },
     "execution_count": 72,
     "metadata": {},
     "output_type": "execute_result"
    }
   ],
   "source": [
    "prop2.isna().sum()"
   ]
  },
  {
   "cell_type": "code",
   "execution_count": 73,
   "id": "f176bcd5-d807-4155-bda0-bb4ef48ca598",
   "metadata": {},
   "outputs": [
    {
     "data": {
      "text/plain": [
       "0"
      ]
     },
     "execution_count": 73,
     "metadata": {},
     "output_type": "execute_result"
    }
   ],
   "source": [
    "prop3.isna().sum()"
   ]
  },
  {
   "cell_type": "code",
   "execution_count": 69,
   "id": "af6e415d-4b9c-485f-a315-1f6a5b87ca0e",
   "metadata": {},
   "outputs": [
    {
     "data": {
      "text/html": [
       "<div>\n",
       "<style scoped>\n",
       "    .dataframe tbody tr th:only-of-type {\n",
       "        vertical-align: middle;\n",
       "    }\n",
       "\n",
       "    .dataframe tbody tr th {\n",
       "        vertical-align: top;\n",
       "    }\n",
       "\n",
       "    .dataframe thead th {\n",
       "        text-align: right;\n",
       "    }\n",
       "</style>\n",
       "<table border=\"1\" class=\"dataframe\">\n",
       "  <thead>\n",
       "    <tr style=\"text-align: right;\">\n",
       "      <th></th>\n",
       "      <th>yhat</th>\n",
       "      <th>yhat</th>\n",
       "      <th>yhat</th>\n",
       "      <th>yhat</th>\n",
       "    </tr>\n",
       "  </thead>\n",
       "  <tbody>\n",
       "    <tr>\n",
       "      <th>55</th>\n",
       "      <td>363.512058</td>\n",
       "      <td>NaN</td>\n",
       "      <td>NaN</td>\n",
       "      <td>2152.452302</td>\n",
       "    </tr>\n",
       "    <tr>\n",
       "      <th>56</th>\n",
       "      <td>326.329097</td>\n",
       "      <td>NaN</td>\n",
       "      <td>NaN</td>\n",
       "      <td>329.200956</td>\n",
       "    </tr>\n",
       "    <tr>\n",
       "      <th>57</th>\n",
       "      <td>372.685967</td>\n",
       "      <td>NaN</td>\n",
       "      <td>NaN</td>\n",
       "      <td>334.418946</td>\n",
       "    </tr>\n",
       "    <tr>\n",
       "      <th>58</th>\n",
       "      <td>331.633037</td>\n",
       "      <td>NaN</td>\n",
       "      <td>NaN</td>\n",
       "      <td>1089.205276</td>\n",
       "    </tr>\n",
       "    <tr>\n",
       "      <th>59</th>\n",
       "      <td>183.182807</td>\n",
       "      <td>NaN</td>\n",
       "      <td>NaN</td>\n",
       "      <td>2492.445163</td>\n",
       "    </tr>\n",
       "    <tr>\n",
       "      <th>...</th>\n",
       "      <td>...</td>\n",
       "      <td>...</td>\n",
       "      <td>...</td>\n",
       "      <td>...</td>\n",
       "    </tr>\n",
       "    <tr>\n",
       "      <th>50</th>\n",
       "      <td>NaN</td>\n",
       "      <td>NaN</td>\n",
       "      <td>NaN</td>\n",
       "      <td>300.735178</td>\n",
       "    </tr>\n",
       "    <tr>\n",
       "      <th>51</th>\n",
       "      <td>NaN</td>\n",
       "      <td>NaN</td>\n",
       "      <td>NaN</td>\n",
       "      <td>1055.521509</td>\n",
       "    </tr>\n",
       "    <tr>\n",
       "      <th>52</th>\n",
       "      <td>NaN</td>\n",
       "      <td>NaN</td>\n",
       "      <td>NaN</td>\n",
       "      <td>2458.761395</td>\n",
       "    </tr>\n",
       "    <tr>\n",
       "      <th>53</th>\n",
       "      <td>NaN</td>\n",
       "      <td>NaN</td>\n",
       "      <td>NaN</td>\n",
       "      <td>1961.578920</td>\n",
       "    </tr>\n",
       "    <tr>\n",
       "      <th>54</th>\n",
       "      <td>NaN</td>\n",
       "      <td>NaN</td>\n",
       "      <td>NaN</td>\n",
       "      <td>2754.046084</td>\n",
       "    </tr>\n",
       "  </tbody>\n",
       "</table>\n",
       "<p>206 rows × 4 columns</p>\n",
       "</div>"
      ],
      "text/plain": [
       "          yhat  yhat  yhat         yhat\n",
       "55  363.512058   NaN   NaN  2152.452302\n",
       "56  326.329097   NaN   NaN   329.200956\n",
       "57  372.685967   NaN   NaN   334.418946\n",
       "58  331.633037   NaN   NaN  1089.205276\n",
       "59  183.182807   NaN   NaN  2492.445163\n",
       "..         ...   ...   ...          ...\n",
       "50         NaN   NaN   NaN   300.735178\n",
       "51         NaN   NaN   NaN  1055.521509\n",
       "52         NaN   NaN   NaN  2458.761395\n",
       "53         NaN   NaN   NaN  1961.578920\n",
       "54         NaN   NaN   NaN  2754.046084\n",
       "\n",
       "[206 rows x 4 columns]"
      ]
     },
     "execution_count": 69,
     "metadata": {},
     "output_type": "execute_result"
    }
   ],
   "source": [
    "# Calculating the total prediction, based on the proportion of the cluster\n",
    "pred_p0_total = pd.concat([prop0,prop1,prop2,prop3], axis=1)\n",
    "pred_p0_total"
   ]
  },
  {
   "cell_type": "markdown",
   "id": "aacd9564-3160-4c21-a007-f2fbc2d32134",
   "metadata": {
    "jp-MarkdownHeadingCollapsed": true
   },
   "source": [
    "# Quantity sold for the top selling products"
   ]
  },
  {
   "cell_type": "code",
   "execution_count": 24,
   "id": "b79175e8-7d44-4d8f-bf6b-51535a3164da",
   "metadata": {},
   "outputs": [
    {
     "data": {
      "image/png": "[encoded data removed]",
      "text/plain": [
       "<Figure size 500x1500 with 5 Axes>"
      ]
     },
     "metadata": {},
     "output_type": "display_data"
    }
   ],
   "source": [
    "# Create subplots\n",
    "fig, axes = plt.subplots(len(products_top), 1, figsize=(5, 3 * len(products_top)))\n",
    "\n",
    "# Iterate over each product code\n",
    "for i, code in enumerate(products_top):\n",
    "    # Filter DataFrame for the current product code\n",
    "    df_product = df_fltrd_0[df_fltrd_0['StockCode'] == code]\n",
    "    \n",
    "    # Group by week and calculate total sales, plot total sales per (week/day) for the current product code\n",
    "    ax = df_product.groupby(df_product['InvoiceDate_noTime'].dt.to_period('W'))['Quantity'].sum().plot(ax=axes[i])\n",
    "\n",
    "    ax.set_title(f\"Product Code: {code}, Name: {df_fltrd_0[df_fltrd_0['StockCode'] == code].Description.mode()[0]}\")\n",
    "    ax.set_ylabel(\"Quantity\")\n",
    "    ax.set_xlabel(\"Week\")\n",
    "    ax.grid(True)\n",
    "\n",
    "# Adjust layout and spacing\n",
    "plt.tight_layout()\n",
    "plt.show()"
   ]
  }
 ],
 "metadata": {
  "kernelspec": {
   "display_name": "final_project",
   "language": "python",
   "name": "final_project"
  },
  "language_info": {
   "codemirror_mode": {
    "name": "ipython",
    "version": 3
   },
   "file_extension": ".py",
   "mimetype": "text/x-python",
   "name": "python",
   "nbconvert_exporter": "python",
   "pygments_lexer": "ipython3",
   "version": "3.11.8"
  }
 },
 "nbformat": 4,
 "nbformat_minor": 5
}
