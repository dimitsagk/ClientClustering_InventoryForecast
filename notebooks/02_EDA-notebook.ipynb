{
 "cells": [
  {
   "cell_type": "code",
   "execution_count": 1,
   "id": "b91ded2e-8017-418c-a361-c482556f7744",
   "metadata": {},
   "outputs": [],
   "source": [
    "# inventory, item stock, prediction for inventory\n",
    "# f.e. next month how we will sell from each item\n",
    "\n",
    "# top most selling products\n",
    "# top most high selling products\n",
    "\n",
    "# classes -> per order, also calculating total order, and there I can also add shipping?\n",
    "# These are the two values that are more weird -df.sort_values(by='Quantity', ascending=False).head(2)\n",
    "\n",
    "# with nlp find category of items?\n",
    "# clustr clients to wholesale and retail?"
   ]
  },
  {
   "cell_type": "markdown",
   "id": "5cc45c4e-d0d6-42ec-b070-68020d1b5304",
   "metadata": {},
   "source": [
    "# Importing libraries and cleaned dataset"
   ]
  },
  {
   "cell_type": "code",
   "execution_count": 2,
   "id": "2c6a2627-21d8-47b2-9d79-fa99d9ea1187",
   "metadata": {},
   "outputs": [],
   "source": [
    "import pandas as pd\n",
    "import numpy as np\n",
    "import seaborn as sns\n",
    "import matplotlib.pyplot as plt"
   ]
  },
  {
   "cell_type": "code",
   "execution_count": 3,
   "id": "a63de7cb-58c2-40fc-822d-f4ec6a673678",
   "metadata": {},
   "outputs": [],
   "source": [
    "# Disabling a specific type of warning from Jupyter, that I know if mistaken for something else\n",
    "pd.options.mode.chained_assignment = None "
   ]
  },
  {
   "cell_type": "markdown",
   "id": "6e5c7f9d-5953-4e7d-af17-2d0cc80c60d4",
   "metadata": {},
   "source": [
    "**Original Dataset**:\n",
    "\n",
    "Chen,Daqing. (2015). Online Retail. UCI Machine Learning Repository. https://archive.ics.uci.edu/dataset/352/online+retail"
   ]
  },
  {
   "cell_type": "code",
   "execution_count": 4,
   "id": "140dcd23-61cb-411b-b07d-8dc8845c490a",
   "metadata": {},
   "outputs": [],
   "source": [
    "file_path = '../data/data_cleaned.csv'\n",
    "df = pd.read_csv(file_path, dtype={'InvoiceNo': 'O','StockCode': 'O','Description': 'O',\n",
    "                                   'Quantity': 'int64','UnitPrice': 'float64',\n",
    "                                   'CustomerID': 'Int64','Country': 'O'}, parse_dates=['InvoiceDate'])"
   ]
  },
  {
   "cell_type": "markdown",
   "id": "00142e26-e49c-45dc-af72-2e61b65ab65b",
   "metadata": {},
   "source": [
    "# EDA"
   ]
  },
  {
   "cell_type": "code",
   "execution_count": 6,
   "id": "d36192c6-f390-4884-a5d2-4c58a3900b7d",
   "metadata": {},
   "outputs": [],
   "source": [
    "# Filtering out the data that are not for products (shipping, bank fees etc)\n",
    "df = df[df.StockCode != 'OTHER']"
   ]
  },
  {
   "cell_type": "code",
   "execution_count": 7,
   "id": "d9e5fe02-4b58-4b77-b0c6-c9466eb3a866",
   "metadata": {},
   "outputs": [
    {
     "data": {
      "text/plain": [
       "4335"
      ]
     },
     "execution_count": 7,
     "metadata": {},
     "output_type": "execute_result"
    }
   ],
   "source": [
    "# Total number of clients\n",
    "df.CustomerID.nunique()"
   ]
  },
  {
   "cell_type": "markdown",
   "id": "95801386-993b-4e6b-8489-534045070b82",
   "metadata": {},
   "source": [
    "### Majority of clients and orders are from UK"
   ]
  },
  {
   "cell_type": "code",
   "execution_count": 8,
   "id": "40b2f1d5-2f7b-4010-9f73-1f5a82c48545",
   "metadata": {},
   "outputs": [
    {
     "data": {
      "text/plain": [
       "Country\n",
       "United Kingdom          17912\n",
       "Germany                   443\n",
       "France                    382\n",
       "Ireland                   282\n",
       "Belgium                    98\n",
       "Netherlands                93\n",
       "Spain                      88\n",
       "Australia                  56\n",
       "Switzerland                50\n",
       "Portugal                   50\n",
       "Finland                    40\n",
       "Italy                      35\n",
       "Sweden                     34\n",
       "Norway                     32\n",
       "Channel Islands            25\n",
       "Japan                      19\n",
       "Poland                     19\n",
       "Denmark                    18\n",
       "Austria                    17\n",
       "Cyprus                     14\n",
       "Unspecified                13\n",
       "Israel                      8\n",
       "Iceland                     7\n",
       "Hong Kong                   7\n",
       "USA                         5\n",
       "Malta                       5\n",
       "Canada                      5\n",
       "Greece                      5\n",
       "Lithuania                   4\n",
       "Singapore                   4\n",
       "European Community          3\n",
       "Bahrain                     3\n",
       "Czech Republic              2\n",
       "United Arab Emirates        2\n",
       "Lebanon                     1\n",
       "Brazil                      1\n",
       "RSA                         1\n",
       "Saudi Arabia                1\n",
       "Name: InvoiceNo, dtype: int64"
      ]
     },
     "execution_count": 8,
     "metadata": {},
     "output_type": "execute_result"
    }
   ],
   "source": [
    "# Countried with the highest count of (distinct) invoices\n",
    "df.groupby('Country')['InvoiceNo'].nunique().sort_values(ascending=False)"
   ]
  },
  {
   "cell_type": "code",
   "execution_count": 23,
   "id": "c8285946-957d-4f02-aafc-9f3354ab0c8f",
   "metadata": {},
   "outputs": [
    {
     "data": {
      "text/plain": [
       "Country\n",
       "United Kingdom    1340421.95\n",
       "Ireland             26850.75\n",
       "Germany             24044.29\n",
       "France              21741.24\n",
       "Spain                7798.75\n",
       "Name: UnitPrice, dtype: float64"
      ]
     },
     "execution_count": 23,
     "metadata": {},
     "output_type": "execute_result"
    }
   ],
   "source": [
    "# Countried with the highest sum or order value\n",
    "df.groupby('Country')['UnitPrice'].sum().round(2).sort_values(ascending=False).head()"
   ]
  },
  {
   "cell_type": "code",
   "execution_count": 24,
   "id": "dc5997e0-253a-4eac-aed9-a3407f5687fc",
   "metadata": {},
   "outputs": [
    {
     "data": {
      "text/plain": [
       "Country\n",
       "United Kingdom    3917\n",
       "Germany             94\n",
       "France              87\n",
       "Spain               30\n",
       "Belgium             25\n",
       "Name: CustomerID, dtype: int64"
      ]
     },
     "execution_count": 24,
     "metadata": {},
     "output_type": "execute_result"
    }
   ],
   "source": [
    "# Countried with the highest count of (distinct) clients\n",
    "df.groupby('Country')['CustomerID'].nunique().sort_values(ascending=False).head()"
   ]
  },
  {
   "cell_type": "markdown",
   "id": "41ec25ad-adb5-4a91-909a-6bb4a8753d7e",
   "metadata": {},
   "source": [
    "### Total orders value"
   ]
  },
  {
   "cell_type": "code",
   "execution_count": 11,
   "id": "ce24a68c-ed9a-4a98-ab3c-98abd5eae07e",
   "metadata": {},
   "outputs": [],
   "source": [
    "# Calculating item-wise total price \n",
    "df['TotalValue'] = df.Quantity * df.UnitPrice"
   ]
  },
  {
   "cell_type": "code",
   "execution_count": 12,
   "id": "569d0064-3add-4587-9fc0-e6de07af90f5",
   "metadata": {},
   "outputs": [
    {
     "data": {
      "text/html": [
       "<div>\n",
       "<style scoped>\n",
       "    .dataframe tbody tr th:only-of-type {\n",
       "        vertical-align: middle;\n",
       "    }\n",
       "\n",
       "    .dataframe tbody tr th {\n",
       "        vertical-align: top;\n",
       "    }\n",
       "\n",
       "    .dataframe thead th {\n",
       "        text-align: right;\n",
       "    }\n",
       "</style>\n",
       "<table border=\"1\" class=\"dataframe\">\n",
       "  <thead>\n",
       "    <tr style=\"text-align: right;\">\n",
       "      <th></th>\n",
       "      <th>InvoiceNo</th>\n",
       "      <th>Quantity</th>\n",
       "      <th>TotalValue</th>\n",
       "    </tr>\n",
       "  </thead>\n",
       "  <tbody>\n",
       "    <tr>\n",
       "      <th>0</th>\n",
       "      <td>536365</td>\n",
       "      <td>40</td>\n",
       "      <td>168.10</td>\n",
       "    </tr>\n",
       "    <tr>\n",
       "      <th>1</th>\n",
       "      <td>536366</td>\n",
       "      <td>12</td>\n",
       "      <td>23.70</td>\n",
       "    </tr>\n",
       "    <tr>\n",
       "      <th>2</th>\n",
       "      <td>536367</td>\n",
       "      <td>83</td>\n",
       "      <td>289.81</td>\n",
       "    </tr>\n",
       "    <tr>\n",
       "      <th>3</th>\n",
       "      <td>536368</td>\n",
       "      <td>15</td>\n",
       "      <td>70.05</td>\n",
       "    </tr>\n",
       "    <tr>\n",
       "      <th>4</th>\n",
       "      <td>536369</td>\n",
       "      <td>3</td>\n",
       "      <td>17.85</td>\n",
       "    </tr>\n",
       "    <tr>\n",
       "      <th>...</th>\n",
       "      <td>...</td>\n",
       "      <td>...</td>\n",
       "      <td>...</td>\n",
       "    </tr>\n",
       "    <tr>\n",
       "      <th>19779</th>\n",
       "      <td>581583</td>\n",
       "      <td>76</td>\n",
       "      <td>141.60</td>\n",
       "    </tr>\n",
       "    <tr>\n",
       "      <th>19780</th>\n",
       "      <td>581584</td>\n",
       "      <td>120</td>\n",
       "      <td>128.88</td>\n",
       "    </tr>\n",
       "    <tr>\n",
       "      <th>19781</th>\n",
       "      <td>581585</td>\n",
       "      <td>278</td>\n",
       "      <td>336.49</td>\n",
       "    </tr>\n",
       "    <tr>\n",
       "      <th>19782</th>\n",
       "      <td>581586</td>\n",
       "      <td>66</td>\n",
       "      <td>427.90</td>\n",
       "    </tr>\n",
       "    <tr>\n",
       "      <th>19783</th>\n",
       "      <td>581587</td>\n",
       "      <td>105</td>\n",
       "      <td>249.45</td>\n",
       "    </tr>\n",
       "  </tbody>\n",
       "</table>\n",
       "<p>19784 rows × 3 columns</p>\n",
       "</div>"
      ],
      "text/plain": [
       "      InvoiceNo  Quantity  TotalValue\n",
       "0        536365        40      168.10\n",
       "1        536366        12       23.70\n",
       "2        536367        83      289.81\n",
       "3        536368        15       70.05\n",
       "4        536369         3       17.85\n",
       "...         ...       ...         ...\n",
       "19779    581583        76      141.60\n",
       "19780    581584       120      128.88\n",
       "19781    581585       278      336.49\n",
       "19782    581586        66      427.90\n",
       "19783    581587       105      249.45\n",
       "\n",
       "[19784 rows x 3 columns]"
      ]
     },
     "execution_count": 12,
     "metadata": {},
     "output_type": "execute_result"
    }
   ],
   "source": [
    "# New dataframe per order\n",
    "orders = df.groupby('InvoiceNo')['Quantity'].sum().reset_index()\n",
    "orders = pd.merge(orders, df.groupby('InvoiceNo')['TotalValue'].sum().reset_index()[['InvoiceNo','TotalValue']], how='left', on='InvoiceNo')\n",
    "orders"
   ]
  },
  {
   "cell_type": "code",
   "execution_count": 13,
   "id": "61d30103-5ddb-4781-929f-b73c803b0c50",
   "metadata": {},
   "outputs": [
    {
     "data": {
      "text/plain": [
       "<Axes: xlabel='TotalValue', ylabel='Count'>"
      ]
     },
     "execution_count": 13,
     "metadata": {},
     "output_type": "execute_result"
    },
    {
     "data": {
      "image/png": "[encoded data removed]",
      "text/plain": [
       "<Figure size 640x480 with 1 Axes>"
      ]
     },
     "metadata": {},
     "output_type": "display_data"
    }
   ],
   "source": [
    "sns.histplot(orders['TotalValue'], kde=True, bins=60)"
   ]
  },
  {
   "cell_type": "code",
   "execution_count": 20,
   "id": "80e63cf4-2787-4d73-a08d-40f6d6697ad1",
   "metadata": {},
   "outputs": [
    {
     "data": {
      "text/html": [
       "<div>\n",
       "<style scoped>\n",
       "    .dataframe tbody tr th:only-of-type {\n",
       "        vertical-align: middle;\n",
       "    }\n",
       "\n",
       "    .dataframe tbody tr th {\n",
       "        vertical-align: top;\n",
       "    }\n",
       "\n",
       "    .dataframe thead th {\n",
       "        text-align: right;\n",
       "    }\n",
       "</style>\n",
       "<table border=\"1\" class=\"dataframe\">\n",
       "  <thead>\n",
       "    <tr style=\"text-align: right;\">\n",
       "      <th></th>\n",
       "      <th>InvoiceNo</th>\n",
       "      <th>Quantity</th>\n",
       "      <th>TotalValue</th>\n",
       "    </tr>\n",
       "  </thead>\n",
       "  <tbody>\n",
       "    <tr>\n",
       "      <th>0</th>\n",
       "      <td>536365</td>\n",
       "      <td>40</td>\n",
       "      <td>168.10</td>\n",
       "    </tr>\n",
       "    <tr>\n",
       "      <th>1</th>\n",
       "      <td>536366</td>\n",
       "      <td>12</td>\n",
       "      <td>23.70</td>\n",
       "    </tr>\n",
       "    <tr>\n",
       "      <th>2</th>\n",
       "      <td>536367</td>\n",
       "      <td>83</td>\n",
       "      <td>289.81</td>\n",
       "    </tr>\n",
       "    <tr>\n",
       "      <th>3</th>\n",
       "      <td>536368</td>\n",
       "      <td>15</td>\n",
       "      <td>70.05</td>\n",
       "    </tr>\n",
       "    <tr>\n",
       "      <th>4</th>\n",
       "      <td>536369</td>\n",
       "      <td>3</td>\n",
       "      <td>17.85</td>\n",
       "    </tr>\n",
       "    <tr>\n",
       "      <th>...</th>\n",
       "      <td>...</td>\n",
       "      <td>...</td>\n",
       "      <td>...</td>\n",
       "    </tr>\n",
       "    <tr>\n",
       "      <th>19779</th>\n",
       "      <td>581583</td>\n",
       "      <td>76</td>\n",
       "      <td>141.60</td>\n",
       "    </tr>\n",
       "    <tr>\n",
       "      <th>19780</th>\n",
       "      <td>581584</td>\n",
       "      <td>120</td>\n",
       "      <td>128.88</td>\n",
       "    </tr>\n",
       "    <tr>\n",
       "      <th>19781</th>\n",
       "      <td>581585</td>\n",
       "      <td>278</td>\n",
       "      <td>336.49</td>\n",
       "    </tr>\n",
       "    <tr>\n",
       "      <th>19782</th>\n",
       "      <td>581586</td>\n",
       "      <td>66</td>\n",
       "      <td>427.90</td>\n",
       "    </tr>\n",
       "    <tr>\n",
       "      <th>19783</th>\n",
       "      <td>581587</td>\n",
       "      <td>105</td>\n",
       "      <td>249.45</td>\n",
       "    </tr>\n",
       "  </tbody>\n",
       "</table>\n",
       "<p>19782 rows × 3 columns</p>\n",
       "</div>"
      ],
      "text/plain": [
       "      InvoiceNo  Quantity  TotalValue\n",
       "0        536365        40      168.10\n",
       "1        536366        12       23.70\n",
       "2        536367        83      289.81\n",
       "3        536368        15       70.05\n",
       "4        536369         3       17.85\n",
       "...         ...       ...         ...\n",
       "19779    581583        76      141.60\n",
       "19780    581584       120      128.88\n",
       "19781    581585       278      336.49\n",
       "19782    581586        66      427.90\n",
       "19783    581587       105      249.45\n",
       "\n",
       "[19782 rows x 3 columns]"
      ]
     },
     "execution_count": 20,
     "metadata": {},
     "output_type": "execute_result"
    }
   ],
   "source": [
    "# I am removing the two main outliers I have spotted in 01_InitialExploration and\n",
    "# with the diagram below it looks a bit better\n",
    "orders_fltrd = orders[~orders.InvoiceNo.isin(['581483','541431'])]\n",
    "orders_fltrd"
   ]
  },
  {
   "cell_type": "code",
   "execution_count": 19,
   "id": "b02ac2d2-8b5f-4c3d-85c1-38a33a377a41",
   "metadata": {},
   "outputs": [
    {
     "data": {
      "text/plain": [
       "<Axes: xlabel='TotalValue', ylabel='Count'>"
      ]
     },
     "execution_count": 19,
     "metadata": {},
     "output_type": "execute_result"
    },
    {
     "data": {
      "image/png": "[encoded data removed]",
      "text/plain": [
       "<Figure size 640x480 with 1 Axes>"
      ]
     },
     "metadata": {},
     "output_type": "display_data"
    }
   ],
   "source": [
    "sns.histplot(orders_fltrd['TotalValue'], kde=True, bins=60)"
   ]
  },
  {
   "cell_type": "code",
   "execution_count": 22,
   "id": "a99fc82c-7564-4c10-bd60-ccea416fa763",
   "metadata": {},
   "outputs": [
    {
     "data": {
      "text/plain": [
       "<Axes: ylabel='TotalValue'>"
      ]
     },
     "execution_count": 22,
     "metadata": {},
     "output_type": "execute_result"
    },
    {
     "data": {
      "image/png": "[encoded data removed]",
      "text/plain": [
       "<Figure size 640x480 with 1 Axes>"
      ]
     },
     "metadata": {},
     "output_type": "display_data"
    }
   ],
   "source": [
    "sns.boxplot(data = orders_fltrd['TotalValue'], color=\"lightblue\") # there are many outliers"
   ]
  },
  {
   "cell_type": "markdown",
   "id": "4f680050-9e68-4633-acf8-ce12db8b05e2",
   "metadata": {},
   "source": [
    "### Average order quantity per client"
   ]
  },
  {
   "cell_type": "code",
   "execution_count": 26,
   "id": "81e87f36-1ead-498d-82b4-7d94a62418b5",
   "metadata": {},
   "outputs": [
    {
     "data": {
      "text/html": [
       "<div>\n",
       "<style scoped>\n",
       "    .dataframe tbody tr th:only-of-type {\n",
       "        vertical-align: middle;\n",
       "    }\n",
       "\n",
       "    .dataframe tbody tr th {\n",
       "        vertical-align: top;\n",
       "    }\n",
       "\n",
       "    .dataframe thead th {\n",
       "        text-align: right;\n",
       "    }\n",
       "</style>\n",
       "<table border=\"1\" class=\"dataframe\">\n",
       "  <thead>\n",
       "    <tr style=\"text-align: right;\">\n",
       "      <th></th>\n",
       "      <th>InvoiceNo</th>\n",
       "      <th>Quantity</th>\n",
       "      <th>TotalValue</th>\n",
       "    </tr>\n",
       "  </thead>\n",
       "  <tbody>\n",
       "    <tr>\n",
       "      <th>0</th>\n",
       "      <td>536365</td>\n",
       "      <td>40</td>\n",
       "      <td>168.10</td>\n",
       "    </tr>\n",
       "    <tr>\n",
       "      <th>1</th>\n",
       "      <td>536366</td>\n",
       "      <td>12</td>\n",
       "      <td>23.70</td>\n",
       "    </tr>\n",
       "    <tr>\n",
       "      <th>2</th>\n",
       "      <td>536367</td>\n",
       "      <td>83</td>\n",
       "      <td>289.81</td>\n",
       "    </tr>\n",
       "    <tr>\n",
       "      <th>3</th>\n",
       "      <td>536368</td>\n",
       "      <td>15</td>\n",
       "      <td>70.05</td>\n",
       "    </tr>\n",
       "    <tr>\n",
       "      <th>4</th>\n",
       "      <td>536369</td>\n",
       "      <td>3</td>\n",
       "      <td>17.85</td>\n",
       "    </tr>\n",
       "    <tr>\n",
       "      <th>...</th>\n",
       "      <td>...</td>\n",
       "      <td>...</td>\n",
       "      <td>...</td>\n",
       "    </tr>\n",
       "    <tr>\n",
       "      <th>19779</th>\n",
       "      <td>581583</td>\n",
       "      <td>76</td>\n",
       "      <td>141.60</td>\n",
       "    </tr>\n",
       "    <tr>\n",
       "      <th>19780</th>\n",
       "      <td>581584</td>\n",
       "      <td>120</td>\n",
       "      <td>128.88</td>\n",
       "    </tr>\n",
       "    <tr>\n",
       "      <th>19781</th>\n",
       "      <td>581585</td>\n",
       "      <td>278</td>\n",
       "      <td>336.49</td>\n",
       "    </tr>\n",
       "    <tr>\n",
       "      <th>19782</th>\n",
       "      <td>581586</td>\n",
       "      <td>66</td>\n",
       "      <td>427.90</td>\n",
       "    </tr>\n",
       "    <tr>\n",
       "      <th>19783</th>\n",
       "      <td>581587</td>\n",
       "      <td>105</td>\n",
       "      <td>249.45</td>\n",
       "    </tr>\n",
       "  </tbody>\n",
       "</table>\n",
       "<p>19782 rows × 3 columns</p>\n",
       "</div>"
      ],
      "text/plain": [
       "      InvoiceNo  Quantity  TotalValue\n",
       "0        536365        40      168.10\n",
       "1        536366        12       23.70\n",
       "2        536367        83      289.81\n",
       "3        536368        15       70.05\n",
       "4        536369         3       17.85\n",
       "...         ...       ...         ...\n",
       "19779    581583        76      141.60\n",
       "19780    581584       120      128.88\n",
       "19781    581585       278      336.49\n",
       "19782    581586        66      427.90\n",
       "19783    581587       105      249.45\n",
       "\n",
       "[19782 rows x 3 columns]"
      ]
     },
     "execution_count": 26,
     "metadata": {},
     "output_type": "execute_result"
    }
   ],
   "source": [
    "orders_fltrd"
   ]
  },
  {
   "cell_type": "code",
   "execution_count": 45,
   "id": "51b19872-1bbe-4aa2-9cf2-0b701cbae852",
   "metadata": {},
   "outputs": [],
   "source": [
    "customers = df.dropna(subset='CustomerID')\n",
    "customers = customers[~customers.InvoiceNo.isin(['581483','541431'])]"
   ]
  },
  {
   "cell_type": "code",
   "execution_count": 46,
   "id": "e1859233-9cff-4bf5-a2ce-c0a007a39343",
   "metadata": {},
   "outputs": [
    {
     "data": {
      "text/html": [
       "<div>\n",
       "<style scoped>\n",
       "    .dataframe tbody tr th:only-of-type {\n",
       "        vertical-align: middle;\n",
       "    }\n",
       "\n",
       "    .dataframe tbody tr th {\n",
       "        vertical-align: top;\n",
       "    }\n",
       "\n",
       "    .dataframe thead th {\n",
       "        text-align: right;\n",
       "    }\n",
       "</style>\n",
       "<table border=\"1\" class=\"dataframe\">\n",
       "  <thead>\n",
       "    <tr style=\"text-align: right;\">\n",
       "      <th></th>\n",
       "      <th>CustomerID</th>\n",
       "      <th>Quantity</th>\n",
       "    </tr>\n",
       "  </thead>\n",
       "  <tbody>\n",
       "    <tr>\n",
       "      <th>0</th>\n",
       "      <td>12789</td>\n",
       "      <td>1.0</td>\n",
       "    </tr>\n",
       "    <tr>\n",
       "      <th>1</th>\n",
       "      <td>16257</td>\n",
       "      <td>1.0</td>\n",
       "    </tr>\n",
       "    <tr>\n",
       "      <th>2</th>\n",
       "      <td>14792</td>\n",
       "      <td>1.0</td>\n",
       "    </tr>\n",
       "    <tr>\n",
       "      <th>3</th>\n",
       "      <td>13452</td>\n",
       "      <td>1.0</td>\n",
       "    </tr>\n",
       "    <tr>\n",
       "      <th>4</th>\n",
       "      <td>16349</td>\n",
       "      <td>1.0</td>\n",
       "    </tr>\n",
       "    <tr>\n",
       "      <th>...</th>\n",
       "      <td>...</td>\n",
       "      <td>...</td>\n",
       "    </tr>\n",
       "    <tr>\n",
       "      <th>4329</th>\n",
       "      <td>14609</td>\n",
       "      <td>1756.5</td>\n",
       "    </tr>\n",
       "    <tr>\n",
       "      <th>4330</th>\n",
       "      <td>16308</td>\n",
       "      <td>2000.0</td>\n",
       "    </tr>\n",
       "    <tr>\n",
       "      <th>4331</th>\n",
       "      <td>16754</td>\n",
       "      <td>2140.0</td>\n",
       "    </tr>\n",
       "    <tr>\n",
       "      <th>4332</th>\n",
       "      <td>18087</td>\n",
       "      <td>3906.0</td>\n",
       "    </tr>\n",
       "    <tr>\n",
       "      <th>4333</th>\n",
       "      <td>13135</td>\n",
       "      <td>4300.0</td>\n",
       "    </tr>\n",
       "  </tbody>\n",
       "</table>\n",
       "<p>4334 rows × 2 columns</p>\n",
       "</div>"
      ],
      "text/plain": [
       "      CustomerID  Quantity\n",
       "0          12789       1.0\n",
       "1          16257       1.0\n",
       "2          14792       1.0\n",
       "3          13452       1.0\n",
       "4          16349       1.0\n",
       "...          ...       ...\n",
       "4329       14609    1756.5\n",
       "4330       16308    2000.0\n",
       "4331       16754    2140.0\n",
       "4332       18087    3906.0\n",
       "4333       13135    4300.0\n",
       "\n",
       "[4334 rows x 2 columns]"
      ]
     },
     "execution_count": 46,
     "metadata": {},
     "output_type": "execute_result"
    }
   ],
   "source": [
    "customers = customers.groupby(['CustomerID','InvoiceNo'])['Quantity'].mean().reset_index()\n",
    "customers = customers.groupby('CustomerID')['Quantity'].mean().sort_values(ascending=True).reset_index()\n",
    "customers"
   ]
  },
  {
   "cell_type": "code",
   "execution_count": 49,
   "id": "8bc83ffc-298e-4b6b-8894-a65df43a8480",
   "metadata": {},
   "outputs": [
    {
     "data": {
      "text/plain": [
       "count    4334.000000\n",
       "mean       24.063085\n",
       "std       122.315718\n",
       "min         1.000000\n",
       "25%         6.233636\n",
       "50%        10.188737\n",
       "75%        15.395834\n",
       "max      4300.000000\n",
       "Name: Quantity, dtype: float64"
      ]
     },
     "execution_count": 49,
     "metadata": {},
     "output_type": "execute_result"
    }
   ],
   "source": [
    "customers.Quantity.describe()"
   ]
  },
  {
   "cell_type": "code",
   "execution_count": 47,
   "id": "abf58122-fb2b-40e7-afed-d250e9262c11",
   "metadata": {},
   "outputs": [
    {
     "data": {
      "text/plain": [
       "<Axes: xlabel='Quantity', ylabel='Count'>"
      ]
     },
     "execution_count": 47,
     "metadata": {},
     "output_type": "execute_result"
    },
    {
     "data": {
      "image/png": "[encoded data removed]",
      "text/plain": [
       "<Figure size 640x480 with 1 Axes>"
      ]
     },
     "metadata": {},
     "output_type": "display_data"
    }
   ],
   "source": [
    "sns.histplot(customers['Quantity'], kde=True, bins=60)"
   ]
  },
  {
   "cell_type": "code",
   "execution_count": 48,
   "id": "fe0212be-f8d4-40b1-9dcd-cc6a9adfa286",
   "metadata": {},
   "outputs": [
    {
     "data": {
      "text/plain": [
       "<Axes: ylabel='Quantity'>"
      ]
     },
     "execution_count": 48,
     "metadata": {},
     "output_type": "execute_result"
    },
    {
     "data": {
      "image/png": "[encoded data removed]",
      "text/plain": [
       "<Figure size 640x480 with 1 Axes>"
      ]
     },
     "metadata": {},
     "output_type": "display_data"
    }
   ],
   "source": [
    "sns.boxplot(data = customers['Quantity'], color=\"lightblue\")"
   ]
  },
  {
   "cell_type": "markdown",
   "id": "eecf2750-8dee-49ff-96a4-7178e0f5f0b0",
   "metadata": {
    "jp-MarkdownHeadingCollapsed": true
   },
   "source": [
    "### Distribution of variables"
   ]
  },
  {
   "cell_type": "code",
   "execution_count": 17,
   "id": "207748a8-8832-48b4-b515-df18e9e0a190",
   "metadata": {},
   "outputs": [
    {
     "data": {
      "text/plain": [
       "\"\\nskewness_price = df['SalePrice'].skew()\\nkurtosis_price = df['SalePrice'].kurtosis()\\n\\nskewness_price, kurtosis_price\\n\""
      ]
     },
     "execution_count": 17,
     "metadata": {},
     "output_type": "execute_result"
    }
   ],
   "source": [
    "'''\n",
    "skewness_price = df['SalePrice'].skew()\n",
    "kurtosis_price = df['SalePrice'].kurtosis()\n",
    "\n",
    "skewness_price, kurtosis_price\n",
    "'''"
   ]
  },
  {
   "cell_type": "markdown",
   "id": "0a7924db-5fe3-4acb-b328-80a7ebd3b142",
   "metadata": {},
   "source": [
    "*from previous lesson:*\n",
    "\n",
    "Insights:\n",
    "\n",
    "Skewness: The positive value of skewness (1.88) for the 'SalePrice' indicates that the distribution is right-skewed. This means that the tail on the right side (higher prices) is longer than the left side (lower prices). In practical terms, this suggests that there are a significant number of houses that are sold at higher prices, which are acting as outliers and pulling the mean upwards.\n",
    "\n",
    "Kurtosis: The kurtosis value of 6.54 is greater than 3, which indicates that the 'SalePrice' distribution has heavier tails and a sharper peak compared to a normal distribution. This means that there are more outliers (extreme values) in the 'SalePrice' than one would expect in a normally distributed set.\n",
    "\n",
    "The skewness and kurtosis values suggest that there are some houses that are sold at significantly higher prices than the majority, and these are affecting the overall distribution of house prices in the dataset."
   ]
  },
  {
   "cell_type": "code",
   "execution_count": 18,
   "id": "823bb9ec-7805-4c48-818b-02a6d22a6012",
   "metadata": {},
   "outputs": [],
   "source": [
    "# sns.histplot(df['SalePrice'], kde=True, bins=30, color=\"salmon\")"
   ]
  },
  {
   "cell_type": "code",
   "execution_count": 19,
   "id": "be3c6eb5-7b95-4908-bc88-59d0b8604273",
   "metadata": {},
   "outputs": [],
   "source": [
    "# do that for price and date!\n",
    "\n",
    "# Creating histograms for each numerical column in 'df_numerical'\n",
    "#df_numerical.hist(figsize=(15, 20), bins=60, xlabelsize=10, ylabelsize=10);"
   ]
  },
  {
   "cell_type": "markdown",
   "id": "611b2ae9-5f6f-43a1-9e48-b28ad5e15920",
   "metadata": {},
   "source": [
    "# Retail vs Wholesale?"
   ]
  },
  {
   "cell_type": "markdown",
   "id": "a8d89eea-bdc0-41a0-bee9-4558a0e2edd9",
   "metadata": {},
   "source": [
    "# Item Category?"
   ]
  },
  {
   "cell_type": "markdown",
   "id": "08ae7d61-cc89-42cd-a669-d85ea575f41a",
   "metadata": {
    "jp-MarkdownHeadingCollapsed": true
   },
   "source": [
    "# Line plot"
   ]
  },
  {
   "cell_type": "code",
   "execution_count": 20,
   "id": "41238f9b-6450-4c59-b212-dae96561c563",
   "metadata": {},
   "outputs": [],
   "source": [
    "# Connects individual data points with lines. A line plot is particularly useful for visualizing data over time."
   ]
  },
  {
   "cell_type": "code",
   "execution_count": 21,
   "id": "4472fa26-1f7e-41a1-9b1c-ca8c9bb50bca",
   "metadata": {},
   "outputs": [
    {
     "data": {
      "text/plain": [
       "\"\\n# Plotting a line graph to visualize the trend of average 'SalePrice' across different 'YearBuilt'\\nplt.figure(figsize=(14, 7))\\nsns.lineplot(data=df, x='YearBuilt', y='SalePrice', errorbar=None)\\nplt.title('Average Sale Price over Years of Construction')\\nplt.grid(True, which='both', linestyle='--', linewidth=0.5)\\n\""
      ]
     },
     "execution_count": 21,
     "metadata": {},
     "output_type": "execute_result"
    }
   ],
   "source": [
    "'''\n",
    "# Plotting a line graph to visualize the trend of average 'SalePrice' across different 'YearBuilt'\n",
    "plt.figure(figsize=(14, 7))\n",
    "sns.lineplot(data=df, x='YearBuilt', y='SalePrice', errorbar=None)\n",
    "plt.title('Average Sale Price over Years of Construction')\n",
    "plt.grid(True, which='both', linestyle='--', linewidth=0.5)\n",
    "'''"
   ]
  },
  {
   "cell_type": "markdown",
   "id": "b3be10d2-5b8a-48f2-966f-1059ce4e2eb3",
   "metadata": {
    "jp-MarkdownHeadingCollapsed": true
   },
   "source": [
    "# QQ Plot (???)"
   ]
  },
  {
   "cell_type": "code",
   "execution_count": 22,
   "id": "5173defc-7eca-405f-a3b2-3cb99b9253b3",
   "metadata": {},
   "outputs": [],
   "source": [
    "# ???\n",
    "# The Quantile-Quantile (QQ) plot is a graphical tool to help us assess if a dataset follows a particular theoretical distribution.\n",
    "# from lesson 2.EDA-bivariate\n",
    "\n",
    "# not sure if it is needed here"
   ]
  },
  {
   "cell_type": "markdown",
   "id": "e13e7d79-a32c-40e9-ac54-d7a1d1b0bce0",
   "metadata": {
    "jp-MarkdownHeadingCollapsed": true
   },
   "source": [
    "# Converting continuous to discrete variables: Discretization (???)"
   ]
  },
  {
   "cell_type": "markdown",
   "id": "1ff41019-4187-4c69-b453-81a0edb2055f",
   "metadata": {},
   "source": [
    "*from previous lesson:*\n",
    "\n",
    "Discretization is the process of converting continuous variables into discrete ones by creating a set of contiguous intervals (or bins) and then categorizing the variables into these intervals. This can be particularly useful when you want to categorize a continuous variable into different groups based on ranges. Note that we usually lose information in this process.\n",
    "\n",
    "For our dataset, let's take the 'SalePrice' column, which is continuous, and discretize it into categories like 'Low', 'Medium', 'High', and 'Very High'."
   ]
  },
  {
   "cell_type": "code",
   "execution_count": 23,
   "id": "1402b5a2-ad9e-4a91-8fdd-2919505f2eb9",
   "metadata": {},
   "outputs": [
    {
     "data": {
      "text/plain": [
       "'\\n# Discretizing \\'SalePrice\\' into 4 categories\\nbins = [0, 100000, 200000, 300000, df[\\'SalePrice\\'].max()]\\nlabels = [\\'Low\\', \\'Medium\\', \\'High\\', \\'Very High\\']\\ndf[\\'SalePrice_category\\'] = pd.cut(df[\\'SalePrice\\'], bins=bins, labels=labels, include_lowest=True)\\n\\n# testing for myself what it means/ produces\\ndf.groupby(\"SalePrice_category\", observed=False)[\"SalePrice\"].mean()\\n'"
      ]
     },
     "execution_count": 23,
     "metadata": {},
     "output_type": "execute_result"
    }
   ],
   "source": [
    "'''\n",
    "# Discretizing 'SalePrice' into 4 categories\n",
    "bins = [0, 100000, 200000, 300000, df['SalePrice'].max()]\n",
    "labels = ['Low', 'Medium', 'High', 'Very High']\n",
    "df['SalePrice_category'] = pd.cut(df['SalePrice'], bins=bins, labels=labels, include_lowest=True)\n",
    "\n",
    "# testing for myself what it means/ produces\n",
    "df.groupby(\"SalePrice_category\", observed=False)[\"SalePrice\"].mean()\n",
    "'''"
   ]
  },
  {
   "cell_type": "markdown",
   "id": "9df6f2ab-c753-42e6-b115-0326640367dd",
   "metadata": {
    "jp-MarkdownHeadingCollapsed": true
   },
   "source": [
    "# Transform to normal distribution?"
   ]
  },
  {
   "cell_type": "code",
   "execution_count": 24,
   "id": "3aad56dc-f1b8-4013-84b0-4c19f8bc2c95",
   "metadata": {},
   "outputs": [],
   "source": [
    "# do I need to transform data to get better prediction results ??\n",
    "# lesson week 5, day 5"
   ]
  },
  {
   "cell_type": "markdown",
   "id": "04ffa3c4-53ae-4ea7-93d7-25aa06c476cc",
   "metadata": {},
   "source": [
    "# Average order Quantity per client"
   ]
  },
  {
   "cell_type": "code",
   "execution_count": 103,
   "id": "d4b66a23-fb24-41c7-b8fc-9b34d712b6c8",
   "metadata": {},
   "outputs": [
    {
     "data": {
      "text/plain": [
       "count    3916.000000\n",
       "mean       22.556381\n",
       "std       125.401497\n",
       "min         1.000000\n",
       "25%         5.593970\n",
       "50%         9.786797\n",
       "75%        14.648153\n",
       "max      4300.000000\n",
       "Name: Quantity, dtype: float64"
      ]
     },
     "execution_count": 103,
     "metadata": {},
     "output_type": "execute_result"
    }
   ],
   "source": [
    "test = df[df.Country == 'United Kingdom']\n",
    "test = test[~test.StockCode.str.contains('SHIPPING')]\n",
    "test = test.dropna(subset='CustomerID')\n",
    "test_q = test.groupby('CustomerID')['Quantity'].mean().reset_index()\n",
    "test_q.Quantity.describe()"
   ]
  },
  {
   "cell_type": "code",
   "execution_count": 104,
   "id": "a85bb034-ea7d-449f-bab4-1e2f8c80cbe5",
   "metadata": {},
   "outputs": [],
   "source": [
    "df = df[~df.InvoiceNo.isin([581483,541431])]"
   ]
  },
  {
   "cell_type": "code",
   "execution_count": 105,
   "id": "49e54288-c554-4253-ace2-a34ff28fad80",
   "metadata": {},
   "outputs": [
    {
     "data": {
      "text/plain": [
       "count    4334.000000\n",
       "mean       22.236908\n",
       "std       120.091275\n",
       "min         1.000000\n",
       "25%         6.038194\n",
       "50%        10.000000\n",
       "75%        14.666667\n",
       "max      4300.000000\n",
       "Name: Quantity, dtype: float64"
      ]
     },
     "execution_count": 105,
     "metadata": {},
     "output_type": "execute_result"
    }
   ],
   "source": [
    "test_q = df.groupby('CustomerID')['Quantity'].mean().sort_values(ascending=True).reset_index()\n",
    "test_q.Quantity.describe()"
   ]
  },
  {
   "cell_type": "code",
   "execution_count": 106,
   "id": "2cfcd36f-d8a9-4048-b65c-aad434de7097",
   "metadata": {},
   "outputs": [
    {
     "data": {
      "text/html": [
       "<div>\n",
       "<style scoped>\n",
       "    .dataframe tbody tr th:only-of-type {\n",
       "        vertical-align: middle;\n",
       "    }\n",
       "\n",
       "    .dataframe tbody tr th {\n",
       "        vertical-align: top;\n",
       "    }\n",
       "\n",
       "    .dataframe thead th {\n",
       "        text-align: right;\n",
       "    }\n",
       "</style>\n",
       "<table border=\"1\" class=\"dataframe\">\n",
       "  <thead>\n",
       "    <tr style=\"text-align: right;\">\n",
       "      <th></th>\n",
       "      <th>CustomerID</th>\n",
       "      <th>Quantity</th>\n",
       "    </tr>\n",
       "  </thead>\n",
       "  <tbody>\n",
       "    <tr>\n",
       "      <th>0</th>\n",
       "      <td>16446</td>\n",
       "      <td>1.0</td>\n",
       "    </tr>\n",
       "    <tr>\n",
       "      <th>1</th>\n",
       "      <td>12789</td>\n",
       "      <td>1.0</td>\n",
       "    </tr>\n",
       "    <tr>\n",
       "      <th>2</th>\n",
       "      <td>16349</td>\n",
       "      <td>1.0</td>\n",
       "    </tr>\n",
       "    <tr>\n",
       "      <th>3</th>\n",
       "      <td>16257</td>\n",
       "      <td>1.0</td>\n",
       "    </tr>\n",
       "    <tr>\n",
       "      <th>4</th>\n",
       "      <td>17956</td>\n",
       "      <td>1.0</td>\n",
       "    </tr>\n",
       "    <tr>\n",
       "      <th>...</th>\n",
       "      <td>...</td>\n",
       "      <td>...</td>\n",
       "    </tr>\n",
       "    <tr>\n",
       "      <th>4329</th>\n",
       "      <td>15749</td>\n",
       "      <td>1802.8</td>\n",
       "    </tr>\n",
       "    <tr>\n",
       "      <th>4330</th>\n",
       "      <td>16308</td>\n",
       "      <td>2000.0</td>\n",
       "    </tr>\n",
       "    <tr>\n",
       "      <th>4331</th>\n",
       "      <td>16754</td>\n",
       "      <td>2140.0</td>\n",
       "    </tr>\n",
       "    <tr>\n",
       "      <th>4332</th>\n",
       "      <td>18087</td>\n",
       "      <td>3906.0</td>\n",
       "    </tr>\n",
       "    <tr>\n",
       "      <th>4333</th>\n",
       "      <td>13135</td>\n",
       "      <td>4300.0</td>\n",
       "    </tr>\n",
       "  </tbody>\n",
       "</table>\n",
       "<p>4334 rows × 2 columns</p>\n",
       "</div>"
      ],
      "text/plain": [
       "      CustomerID  Quantity\n",
       "0          16446       1.0\n",
       "1          12789       1.0\n",
       "2          16349       1.0\n",
       "3          16257       1.0\n",
       "4          17956       1.0\n",
       "...          ...       ...\n",
       "4329       15749    1802.8\n",
       "4330       16308    2000.0\n",
       "4331       16754    2140.0\n",
       "4332       18087    3906.0\n",
       "4333       13135    4300.0\n",
       "\n",
       "[4334 rows x 2 columns]"
      ]
     },
     "execution_count": 106,
     "metadata": {},
     "output_type": "execute_result"
    }
   ],
   "source": [
    "test_q"
   ]
  },
  {
   "cell_type": "code",
   "execution_count": 107,
   "id": "5905706d-2bdd-4dc9-bd89-c26adf6bd70a",
   "metadata": {},
   "outputs": [
    {
     "data": {
      "text/plain": [
       "CustomerID    17984.35\n",
       "Quantity          48.0\n",
       "Name: 0.95, dtype: Float64"
      ]
     },
     "execution_count": 107,
     "metadata": {},
     "output_type": "execute_result"
    }
   ],
   "source": [
    "test_q.quantile(0.95)"
   ]
  },
  {
   "cell_type": "code",
   "execution_count": 108,
   "id": "19770993-6aa6-45d3-9444-a0f536b76a1f",
   "metadata": {},
   "outputs": [
    {
     "name": "stdout",
     "output_type": "stream",
     "text": [
      "4113\n",
      "221\n"
     ]
    }
   ],
   "source": [
    "cust_list_95 = test_q[test_q.Quantity < 48.0].CustomerID.tolist()\n",
    "cust_list_05 = test_q[test_q.Quantity >= 48.0].CustomerID.tolist()\n",
    "#test_q.quantile(0.97).Quantity\n",
    "print(len(cust_list_95))\n",
    "print(len(cust_list_05))"
   ]
  },
  {
   "cell_type": "code",
   "execution_count": 109,
   "id": "7cb19ced-1e65-4bd0-95fd-ff2aa6cb9859",
   "metadata": {},
   "outputs": [],
   "source": [
    "df['TotalPrice'] = df.Quantity * df.UnitPrice"
   ]
  },
  {
   "cell_type": "code",
   "execution_count": 110,
   "id": "52b2e35e-0bbc-4a19-916a-fc0c852e53cf",
   "metadata": {},
   "outputs": [
    {
     "data": {
      "text/plain": [
       "3565196"
      ]
     },
     "execution_count": 110,
     "metadata": {},
     "output_type": "execute_result"
    }
   ],
   "source": [
    "df[df.CustomerID.isin(cust_list_95)].Quantity.sum()"
   ]
  },
  {
   "cell_type": "code",
   "execution_count": 111,
   "id": "17cae8a4-f6af-46a3-b7d1-534b860c43f0",
   "metadata": {},
   "outputs": [
    {
     "data": {
      "text/plain": [
       "6302905.764"
      ]
     },
     "execution_count": 111,
     "metadata": {},
     "output_type": "execute_result"
    }
   ],
   "source": [
    "df[df.CustomerID.isin(cust_list_95)].TotalPrice.sum()"
   ]
  },
  {
   "cell_type": "code",
   "execution_count": 112,
   "id": "1abf8b11-6e40-4c0a-8f55-e112de2db53c",
   "metadata": {},
   "outputs": [
    {
     "data": {
      "text/plain": [
       "1845024"
      ]
     },
     "execution_count": 112,
     "metadata": {},
     "output_type": "execute_result"
    }
   ],
   "source": [
    "df[~df.CustomerID.isin(cust_list_95)].Quantity.sum()"
   ]
  },
  {
   "cell_type": "code",
   "execution_count": 113,
   "id": "2f996405-55bc-4415-a8a6-ea34cceb899a",
   "metadata": {},
   "outputs": [
    {
     "data": {
      "text/plain": [
       "3990912.8200000008"
      ]
     },
     "execution_count": 113,
     "metadata": {},
     "output_type": "execute_result"
    }
   ],
   "source": [
    "df[~df.CustomerID.isin(cust_list_95)].TotalPrice.sum()"
   ]
  },
  {
   "cell_type": "markdown",
   "id": "39cf9f5c-fdd6-4814-a09e-dc55353e3009",
   "metadata": {},
   "source": [
    "from the above I see that there is value in seperating the customers in wholesale/ retail, cause I see that 95% of the customer have 48 in total Quantity, and 5% above. And that 95% only has approximately double the Quantity number and Total Price in comparison with the 5% group!\n",
    "That shows that there seems to be two main cluster of clients, that also have quite different ordering behaviour, the retail ones and the wholesale ones."
   ]
  },
  {
   "cell_type": "code",
   "execution_count": 114,
   "id": "ed45656c-3d63-48fd-9dfa-ef5587693358",
   "metadata": {},
   "outputs": [
    {
     "data": {
      "text/html": [
       "<div>\n",
       "<style scoped>\n",
       "    .dataframe tbody tr th:only-of-type {\n",
       "        vertical-align: middle;\n",
       "    }\n",
       "\n",
       "    .dataframe tbody tr th {\n",
       "        vertical-align: top;\n",
       "    }\n",
       "\n",
       "    .dataframe thead th {\n",
       "        text-align: right;\n",
       "    }\n",
       "</style>\n",
       "<table border=\"1\" class=\"dataframe\">\n",
       "  <thead>\n",
       "    <tr style=\"text-align: right;\">\n",
       "      <th></th>\n",
       "      <th>CustomerID</th>\n",
       "      <th>Quantity</th>\n",
       "      <th>TotalPrice</th>\n",
       "    </tr>\n",
       "  </thead>\n",
       "  <tbody>\n",
       "    <tr>\n",
       "      <th>0</th>\n",
       "      <td>12747</td>\n",
       "      <td>1275</td>\n",
       "      <td>4196.01</td>\n",
       "    </tr>\n",
       "    <tr>\n",
       "      <th>1</th>\n",
       "      <td>12748</td>\n",
       "      <td>25051</td>\n",
       "      <td>31650.78</td>\n",
       "    </tr>\n",
       "    <tr>\n",
       "      <th>2</th>\n",
       "      <td>12749</td>\n",
       "      <td>1471</td>\n",
       "      <td>4090.88</td>\n",
       "    </tr>\n",
       "    <tr>\n",
       "      <th>3</th>\n",
       "      <td>12820</td>\n",
       "      <td>722</td>\n",
       "      <td>942.34</td>\n",
       "    </tr>\n",
       "    <tr>\n",
       "      <th>4</th>\n",
       "      <td>12821</td>\n",
       "      <td>70</td>\n",
       "      <td>92.72</td>\n",
       "    </tr>\n",
       "    <tr>\n",
       "      <th>...</th>\n",
       "      <td>...</td>\n",
       "      <td>...</td>\n",
       "      <td>...</td>\n",
       "    </tr>\n",
       "    <tr>\n",
       "      <th>3911</th>\n",
       "      <td>18280</td>\n",
       "      <td>45</td>\n",
       "      <td>180.60</td>\n",
       "    </tr>\n",
       "    <tr>\n",
       "      <th>3912</th>\n",
       "      <td>18281</td>\n",
       "      <td>54</td>\n",
       "      <td>80.82</td>\n",
       "    </tr>\n",
       "    <tr>\n",
       "      <th>3913</th>\n",
       "      <td>18282</td>\n",
       "      <td>103</td>\n",
       "      <td>178.05</td>\n",
       "    </tr>\n",
       "    <tr>\n",
       "      <th>3914</th>\n",
       "      <td>18283</td>\n",
       "      <td>1355</td>\n",
       "      <td>2039.58</td>\n",
       "    </tr>\n",
       "    <tr>\n",
       "      <th>3915</th>\n",
       "      <td>18287</td>\n",
       "      <td>1586</td>\n",
       "      <td>1837.28</td>\n",
       "    </tr>\n",
       "  </tbody>\n",
       "</table>\n",
       "<p>3916 rows × 3 columns</p>\n",
       "</div>"
      ],
      "text/plain": [
       "      CustomerID  Quantity  TotalPrice\n",
       "0          12747      1275     4196.01\n",
       "1          12748     25051    31650.78\n",
       "2          12749      1471     4090.88\n",
       "3          12820       722      942.34\n",
       "4          12821        70       92.72\n",
       "...          ...       ...         ...\n",
       "3911       18280        45      180.60\n",
       "3912       18281        54       80.82\n",
       "3913       18282       103      178.05\n",
       "3914       18283      1355     2039.58\n",
       "3915       18287      1586     1837.28\n",
       "\n",
       "[3916 rows x 3 columns]"
      ]
     },
     "execution_count": 114,
     "metadata": {},
     "output_type": "execute_result"
    }
   ],
   "source": [
    "test_qq = test.groupby('CustomerID')[['Quantity','TotalPrice']].sum().reset_index()\n",
    "test_qq"
   ]
  },
  {
   "cell_type": "code",
   "execution_count": 116,
   "id": "2759af77-d9a9-4bee-9574-488b20fe66da",
   "metadata": {},
   "outputs": [
    {
     "data": {
      "text/plain": [
       "<Axes: xlabel='Quantity', ylabel='TotalPrice'>"
      ]
     },
     "execution_count": 116,
     "metadata": {},
     "output_type": "execute_result"
    },
    {
     "data": {
      "image/png": "[encoded data removed]",
      "text/plain": [
       "<Figure size 640x480 with 1 Axes>"
      ]
     },
     "metadata": {},
     "output_type": "display_data"
    }
   ],
   "source": [
    "sns.scatterplot(data=test_qq, x='Quantity', y='TotalPrice', hue='TestCategory')"
   ]
  },
  {
   "cell_type": "code",
   "execution_count": 121,
   "id": "336ce849-fed1-44cf-b2cf-24b98d2c6544",
   "metadata": {},
   "outputs": [],
   "source": [
    "def tukeys_test_outliers(data):\n",
    "    Q1 = data.quantile(0.25)\n",
    "    Q3 = data.quantile(0.75)\n",
    "    IQR = Q3 - Q1\n",
    "    \n",
    "    # Define bounds for the outliers\n",
    "    lower_bound = Q1 - 1.5 * IQR\n",
    "    upper_bound = Q3 + 1.5 * IQR\n",
    "    \n",
    "    # Identify the outliers\n",
    "    outliers = data[(data < lower_bound) | (data > upper_bound)]\n",
    "    \n",
    "    return outliers"
   ]
  },
  {
   "cell_type": "markdown",
   "id": "e175649d-4130-4399-aff5-704390fbf85a",
   "metadata": {},
   "source": [
    "# with taking out outliers?"
   ]
  },
  {
   "cell_type": "code",
   "execution_count": 128,
   "id": "5f6d02a9-3298-417a-b2b2-e3ea2e449ca0",
   "metadata": {},
   "outputs": [
    {
     "data": {
      "text/plain": [
       "524554"
      ]
     },
     "execution_count": 128,
     "metadata": {},
     "output_type": "execute_result"
    }
   ],
   "source": [
    "df.shape[0]"
   ]
  },
  {
   "cell_type": "code",
   "execution_count": 131,
   "id": "d642ef81-b1cc-4036-a8c2-2cc0c9843993",
   "metadata": {},
   "outputs": [],
   "source": [
    "df = df[~df.Quantity.isin(tukeys_test_outliers(df.Quantity))]"
   ]
  },
  {
   "cell_type": "code",
   "execution_count": 132,
   "id": "a64f251b-3c1c-4a62-8dad-f7cc454282f1",
   "metadata": {},
   "outputs": [
    {
     "data": {
      "text/plain": [
       "497467"
      ]
     },
     "execution_count": 132,
     "metadata": {},
     "output_type": "execute_result"
    }
   ],
   "source": [
    "df.shape[0]"
   ]
  },
  {
   "cell_type": "code",
   "execution_count": 133,
   "id": "d1f0a0a5-b4f6-4ff8-a04d-24ecae4799fd",
   "metadata": {},
   "outputs": [],
   "source": [
    "df = df[~df.TotalPrice.isin(tukeys_test_outliers(df.TotalPrice))]"
   ]
  },
  {
   "cell_type": "code",
   "execution_count": 134,
   "id": "1d1e9454-6736-4d92-98de-69d094cbeb3a",
   "metadata": {},
   "outputs": [
    {
     "data": {
      "text/plain": [
       "472695"
      ]
     },
     "execution_count": 134,
     "metadata": {},
     "output_type": "execute_result"
    }
   ],
   "source": [
    "df.shape[0]"
   ]
  },
  {
   "cell_type": "code",
   "execution_count": 136,
   "id": "19778c93-bc56-4169-a1f1-fbdd9359712f",
   "metadata": {},
   "outputs": [
    {
     "data": {
      "text/plain": [
       "<Axes: xlabel='Quantity', ylabel='TotalPrice'>"
      ]
     },
     "execution_count": 136,
     "metadata": {},
     "output_type": "execute_result"
    },
    {
     "data": {
      "image/png": "[encoded data removed]",
      "text/plain": [
       "<Figure size 640x480 with 1 Axes>"
      ]
     },
     "metadata": {},
     "output_type": "display_data"
    }
   ],
   "source": [
    "sns.scatterplot(data=test_qq, x='Quantity', y='TotalPrice')"
   ]
  },
  {
   "cell_type": "markdown",
   "id": "44f86501-002d-4ef9-b1b1-be2727b51e19",
   "metadata": {},
   "source": [
    "Total Quantity: As you mentioned, wholesale customers are likely to purchase larger quantities of items compared to retail customers. You can use the total quantity purchased by each customer as a feature.\n",
    "\n",
    "Total Price: Wholesale customers typically spend more money on their purchases compared to retail customers. Using the total price of orders can help distinguish between the two groups.\n",
    "\n",
    "Average Quantity per Item: Calculate the average quantity per item for each customer. Wholesale customers may buy multiples of the same item in a single order, leading to a higher average quantity per item.\n",
    "\n",
    "Frequency of Orders: Wholesale customers are likely to place orders more frequently than retail customers. Calculate the frequency of orders for each customer over a given time period.\n",
    "\n",
    "\n",
    "Once you have selected the parameters, you can use clustering algorithms such as K-means, DBSCAN, or hierarchical clustering "
   ]
  },
  {
   "cell_type": "code",
   "execution_count": null,
   "id": "8081b945-4a1b-4eaf-a278-c0df026f74c9",
   "metadata": {},
   "outputs": [],
   "source": [
    "# inertia - for clustering K-means\n",
    "# Silhouette\n",
    "# error metrics dffererent per model\n",
    "\n",
    "# hdbscan check!"
   ]
  },
  {
   "cell_type": "code",
   "execution_count": 139,
   "id": "0189cdc0-dc8a-4c94-8eff-119c27533721",
   "metadata": {},
   "outputs": [
    {
     "data": {
      "text/html": [
       "<div>\n",
       "<style scoped>\n",
       "    .dataframe tbody tr th:only-of-type {\n",
       "        vertical-align: middle;\n",
       "    }\n",
       "\n",
       "    .dataframe tbody tr th {\n",
       "        vertical-align: top;\n",
       "    }\n",
       "\n",
       "    .dataframe thead th {\n",
       "        text-align: right;\n",
       "    }\n",
       "</style>\n",
       "<table border=\"1\" class=\"dataframe\">\n",
       "  <thead>\n",
       "    <tr style=\"text-align: right;\">\n",
       "      <th></th>\n",
       "      <th>CustomerID</th>\n",
       "      <th>Quantity</th>\n",
       "      <th>TotalPrice</th>\n",
       "    </tr>\n",
       "  </thead>\n",
       "  <tbody>\n",
       "    <tr>\n",
       "      <th>0</th>\n",
       "      <td>12747</td>\n",
       "      <td>1275</td>\n",
       "      <td>4196.01</td>\n",
       "    </tr>\n",
       "    <tr>\n",
       "      <th>1</th>\n",
       "      <td>12748</td>\n",
       "      <td>25051</td>\n",
       "      <td>31650.78</td>\n",
       "    </tr>\n",
       "    <tr>\n",
       "      <th>2</th>\n",
       "      <td>12749</td>\n",
       "      <td>1471</td>\n",
       "      <td>4090.88</td>\n",
       "    </tr>\n",
       "    <tr>\n",
       "      <th>3</th>\n",
       "      <td>12820</td>\n",
       "      <td>722</td>\n",
       "      <td>942.34</td>\n",
       "    </tr>\n",
       "    <tr>\n",
       "      <th>4</th>\n",
       "      <td>12821</td>\n",
       "      <td>70</td>\n",
       "      <td>92.72</td>\n",
       "    </tr>\n",
       "    <tr>\n",
       "      <th>...</th>\n",
       "      <td>...</td>\n",
       "      <td>...</td>\n",
       "      <td>...</td>\n",
       "    </tr>\n",
       "    <tr>\n",
       "      <th>3911</th>\n",
       "      <td>18280</td>\n",
       "      <td>45</td>\n",
       "      <td>180.60</td>\n",
       "    </tr>\n",
       "    <tr>\n",
       "      <th>3912</th>\n",
       "      <td>18281</td>\n",
       "      <td>54</td>\n",
       "      <td>80.82</td>\n",
       "    </tr>\n",
       "    <tr>\n",
       "      <th>3913</th>\n",
       "      <td>18282</td>\n",
       "      <td>103</td>\n",
       "      <td>178.05</td>\n",
       "    </tr>\n",
       "    <tr>\n",
       "      <th>3914</th>\n",
       "      <td>18283</td>\n",
       "      <td>1355</td>\n",
       "      <td>2039.58</td>\n",
       "    </tr>\n",
       "    <tr>\n",
       "      <th>3915</th>\n",
       "      <td>18287</td>\n",
       "      <td>1586</td>\n",
       "      <td>1837.28</td>\n",
       "    </tr>\n",
       "  </tbody>\n",
       "</table>\n",
       "<p>3916 rows × 3 columns</p>\n",
       "</div>"
      ],
      "text/plain": [
       "      CustomerID  Quantity  TotalPrice\n",
       "0          12747      1275     4196.01\n",
       "1          12748     25051    31650.78\n",
       "2          12749      1471     4090.88\n",
       "3          12820       722      942.34\n",
       "4          12821        70       92.72\n",
       "...          ...       ...         ...\n",
       "3911       18280        45      180.60\n",
       "3912       18281        54       80.82\n",
       "3913       18282       103      178.05\n",
       "3914       18283      1355     2039.58\n",
       "3915       18287      1586     1837.28\n",
       "\n",
       "[3916 rows x 3 columns]"
      ]
     },
     "execution_count": 139,
     "metadata": {},
     "output_type": "execute_result"
    }
   ],
   "source": [
    "test_2 = test.groupby('CustomerID')[['Quantity','TotalPrice']].sum().reset_index()\n",
    "test_2"
   ]
  },
  {
   "cell_type": "code",
   "execution_count": 141,
   "id": "b2e9fd7b-6675-4a63-90a0-ae3bb5de0fb4",
   "metadata": {},
   "outputs": [
    {
     "data": {
      "text/plain": [
       "<Axes: xlabel='TotalPrice', ylabel='Count'>"
      ]
     },
     "execution_count": 141,
     "metadata": {},
     "output_type": "execute_result"
    },
    {
     "data": {
      "image/png": "[encoded data removed]",
      "text/plain": [
       "<Figure size 640x480 with 1 Axes>"
      ]
     },
     "metadata": {},
     "output_type": "display_data"
    }
   ],
   "source": [
    "sns.histplot(test_2['TotalPrice'], kde=True, bins=60, color=\"salmon\")"
   ]
  },
  {
   "cell_type": "code",
   "execution_count": 142,
   "id": "5e3476a1-fba5-40ce-96df-3b8d46ccd9c0",
   "metadata": {},
   "outputs": [
    {
     "data": {
      "text/plain": [
       "<Axes: xlabel='Quantity', ylabel='Count'>"
      ]
     },
     "execution_count": 142,
     "metadata": {},
     "output_type": "execute_result"
    },
    {
     "data": {
      "image/png": "[encoded data removed]",
      "text/plain": [
       "<Figure size 640x480 with 1 Axes>"
      ]
     },
     "metadata": {},
     "output_type": "display_data"
    }
   ],
   "source": [
    "sns.histplot(test_2['Quantity'], kde=True, bins=60, color=\"salmon\")"
   ]
  },
  {
   "cell_type": "code",
   "execution_count": 138,
   "id": "9485803d-cf99-4946-877e-0db314016d75",
   "metadata": {},
   "outputs": [],
   "source": [
    "# can i use dbscan together with some transformation? something that is not sensitive too much to outliers?"
   ]
  }
 ],
 "metadata": {
  "kernelspec": {
   "display_name": "final_project",
   "language": "python",
   "name": "final_project"
  },
  "language_info": {
   "codemirror_mode": {
    "name": "ipython",
    "version": 3
   },
   "file_extension": ".py",
   "mimetype": "text/x-python",
   "name": "python",
   "nbconvert_exporter": "python",
   "pygments_lexer": "ipython3",
   "version": "3.11.8"
  }
 },
 "nbformat": 4,
 "nbformat_minor": 5
}
