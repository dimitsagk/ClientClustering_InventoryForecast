{
 "cells": [
  {
   "cell_type": "markdown",
   "id": "ce69fc2f-ccda-4f25-b5ee-e2a2005ede95",
   "metadata": {},
   "source": [
    "# Importing libraries and cleaned dataset"
   ]
  },
  {
   "cell_type": "code",
   "execution_count": null,
   "id": "b21bd12c-4b64-46a7-8f59-fe7fc6536daa",
   "metadata": {},
   "outputs": [],
   "source": [
    "import pandas as pd\n",
    "import numpy as np\n",
    "import seaborn as sns\n",
    "import matplotlib.pyplot as plt\n",
    "\n",
    "from sklearn.preprocessing import MinMaxScaler, StandardScaler"
   ]
  },
  {
   "cell_type": "markdown",
   "id": "b6896c09-bdb7-44a5-9ee0-103209c33297",
   "metadata": {},
   "source": [
    "**Original Dataset**:\n",
    "\n",
    "Chen,Daqing. (2015). Online Retail. UCI Machine Learning Repository. https://archive.ics.uci.edu/dataset/352/online+retail"
   ]
  },
  {
   "cell_type": "code",
   "execution_count": 2,
   "id": "9cbde888-9180-406d-813e-a8ea53f6271c",
   "metadata": {},
   "outputs": [],
   "source": [
    "# Importing the cleaned dataset from my first notebook\n",
    "file_path = '../data/data_cleaned.csv'\n",
    "df = pd.read_csv(file_path, dtype={'InvoiceNo': 'O','StockCode': 'O','Description': 'O',\n",
    "                                   'Quantity': 'int64','UnitPrice': 'float64',\n",
    "                                   'CustomerID': 'Int64','Country': 'O'}, parse_dates=['InvoiceDate'])"
   ]
  },
  {
   "cell_type": "markdown",
   "id": "9a1b80e6-005c-4ab3-9722-2c91d24c1b12",
   "metadata": {},
   "source": [
    "# Filtering the dataset"
   ]
  },
  {
   "cell_type": "markdown",
   "id": "b757f82b-99ef-4338-8913-cd52f8449c1f",
   "metadata": {},
   "source": [
    "Based on the initial analysis conducted in previous notebooks, I have made some preliminary decisions regarding data filtering. These decisions include retaining only sales data from the UK while excluding two outlier cases. Additionally, I am filtering the dataset to include only sales related to products."
   ]
  },
  {
   "cell_type": "code",
   "execution_count": 3,
   "id": "c37ea4d8-6e75-458b-a985-fc21fedd872a",
   "metadata": {},
   "outputs": [],
   "source": [
    "# Filtering out the data that are not for products (shipping, bank fees etc)\n",
    "df = df[df.StockCode != 'OTHER']\n",
    "\n",
    "# Temporarily removing two outliers identified in 01_InitialExploration for further transformation\n",
    "# allows continued exploration and visualization until outliers are addressed.\n",
    "df = df[~df.InvoiceNo.isin(['581483','541431'])]\n",
    "\n",
    "# Focusing only on clients from UK (they consist 90% of the clients)\n",
    "# -> At a later stage I could also check adding Germany and France, to refer then to almost 95% of clients\n",
    "df = df[df.Country == 'United Kingdom']\n",
    "\n",
    "# Finally, dropping the null values from CustomerID, since the ML model will be based on the different clients\n",
    "df.dropna(subset='CustomerID', inplace=True)"
   ]
  },
  {
   "cell_type": "markdown",
   "id": "30287550-4569-4506-aa9e-9d68931e93d0",
   "metadata": {},
   "source": [
    "# Feature Engineering"
   ]
  },
  {
   "cell_type": "markdown",
   "id": "26d22df7-71de-4e3a-9f97-4b46304d8f83",
   "metadata": {},
   "source": [
    "**Total Quantity:** Wholesale customers are likely to purchase larger quantities of items compared to retail customers: using the total quantity purchased by each customer as a feature.\n",
    "\n",
    "**Total Price:** Wholesale customers typically spend more money on their purchases compared to retail customers: using the total price of orders can help distinguish between the two groups.\n",
    "\n",
    "**Average Quantity per Item:** Average quantity per item for each customer. Wholesale customers may buy multiples of the same item in a single order, leading to a higher average quantity per item.\n",
    "\n",
    "**Average Order Value:** The average amount spent per order by each customer. \n",
    "\n",
    "**Frequency of Orders:** Wholesale customers are likely to place orders more frequently than retail customers. To calculate the total number of orders for each customer over a given time period.\n",
    "\n",
    "For my ML model I will try clustering algorithms such as K-means, DBSCAN, or hierarchical clustering."
   ]
  },
  {
   "cell_type": "code",
   "execution_count": 4,
   "id": "7eb6b601-adce-4e1f-a421-a432850b0862",
   "metadata": {},
   "outputs": [],
   "source": [
    "# Notes\n",
    "\n",
    "# inertia - for clustering K-means\n",
    "# Silhouette\n",
    "# error metrics differerent per model\n",
    "\n",
    "# hdbscan check!\n",
    "\n",
    "# can i use dbscan together with some transformation? something that is not sensitive too much to outliers?"
   ]
  },
  {
   "cell_type": "markdown",
   "id": "52894c17-ae62-440e-b172-72f54fe7fc19",
   "metadata": {},
   "source": [
    "### Total quantity purchased"
   ]
  },
  {
   "cell_type": "code",
   "execution_count": 5,
   "id": "8042c697-97fa-4fae-83a5-683c613a2754",
   "metadata": {},
   "outputs": [
    {
     "data": {
      "text/html": [
       "<div>\n",
       "<style scoped>\n",
       "    .dataframe tbody tr th:only-of-type {\n",
       "        vertical-align: middle;\n",
       "    }\n",
       "\n",
       "    .dataframe tbody tr th {\n",
       "        vertical-align: top;\n",
       "    }\n",
       "\n",
       "    .dataframe thead th {\n",
       "        text-align: right;\n",
       "    }\n",
       "</style>\n",
       "<table border=\"1\" class=\"dataframe\">\n",
       "  <thead>\n",
       "    <tr style=\"text-align: right;\">\n",
       "      <th></th>\n",
       "      <th>CustomerID</th>\n",
       "      <th>TotalQuantity</th>\n",
       "    </tr>\n",
       "  </thead>\n",
       "  <tbody>\n",
       "    <tr>\n",
       "      <th>0</th>\n",
       "      <td>12747</td>\n",
       "      <td>1275</td>\n",
       "    </tr>\n",
       "    <tr>\n",
       "      <th>1</th>\n",
       "      <td>12748</td>\n",
       "      <td>25051</td>\n",
       "    </tr>\n",
       "    <tr>\n",
       "      <th>2</th>\n",
       "      <td>12749</td>\n",
       "      <td>1470</td>\n",
       "    </tr>\n",
       "    <tr>\n",
       "      <th>3</th>\n",
       "      <td>12820</td>\n",
       "      <td>722</td>\n",
       "    </tr>\n",
       "    <tr>\n",
       "      <th>4</th>\n",
       "      <td>12821</td>\n",
       "      <td>70</td>\n",
       "    </tr>\n",
       "  </tbody>\n",
       "</table>\n",
       "</div>"
      ],
      "text/plain": [
       "   CustomerID  TotalQuantity\n",
       "0       12747           1275\n",
       "1       12748          25051\n",
       "2       12749           1470\n",
       "3       12820            722\n",
       "4       12821             70"
      ]
     },
     "execution_count": 5,
     "metadata": {},
     "output_type": "execute_result"
    }
   ],
   "source": [
    "cust = df.groupby('CustomerID')['Quantity'].sum().reset_index().rename(columns={'Quantity': 'TotalQuantity'})\n",
    "cust.head()"
   ]
  },
  {
   "cell_type": "markdown",
   "id": "7dcc5caa-1138-42f4-8c08-7d2088a4833b",
   "metadata": {},
   "source": [
    "### Total value of orders"
   ]
  },
  {
   "cell_type": "code",
   "execution_count": 6,
   "id": "db7b8ca4-5991-444a-8858-01e5d0abd021",
   "metadata": {},
   "outputs": [],
   "source": [
    "df['TotalPrice'] = df.Quantity * df.UnitPrice"
   ]
  },
  {
   "cell_type": "code",
   "execution_count": 7,
   "id": "54b6a718-473f-4393-baba-69c800908115",
   "metadata": {},
   "outputs": [
    {
     "data": {
      "text/html": [
       "<div>\n",
       "<style scoped>\n",
       "    .dataframe tbody tr th:only-of-type {\n",
       "        vertical-align: middle;\n",
       "    }\n",
       "\n",
       "    .dataframe tbody tr th {\n",
       "        vertical-align: top;\n",
       "    }\n",
       "\n",
       "    .dataframe thead th {\n",
       "        text-align: right;\n",
       "    }\n",
       "</style>\n",
       "<table border=\"1\" class=\"dataframe\">\n",
       "  <thead>\n",
       "    <tr style=\"text-align: right;\">\n",
       "      <th></th>\n",
       "      <th>CustomerID</th>\n",
       "      <th>TotalQuantity</th>\n",
       "      <th>TotalValue</th>\n",
       "    </tr>\n",
       "  </thead>\n",
       "  <tbody>\n",
       "    <tr>\n",
       "      <th>0</th>\n",
       "      <td>12747</td>\n",
       "      <td>1275</td>\n",
       "      <td>4722.51</td>\n",
       "    </tr>\n",
       "    <tr>\n",
       "      <th>1</th>\n",
       "      <td>12748</td>\n",
       "      <td>25051</td>\n",
       "      <td>46021.25</td>\n",
       "    </tr>\n",
       "    <tr>\n",
       "      <th>2</th>\n",
       "      <td>12749</td>\n",
       "      <td>1470</td>\n",
       "      <td>4043.94</td>\n",
       "    </tr>\n",
       "    <tr>\n",
       "      <th>3</th>\n",
       "      <td>12820</td>\n",
       "      <td>722</td>\n",
       "      <td>938.94</td>\n",
       "    </tr>\n",
       "    <tr>\n",
       "      <th>4</th>\n",
       "      <td>12821</td>\n",
       "      <td>70</td>\n",
       "      <td>92.72</td>\n",
       "    </tr>\n",
       "  </tbody>\n",
       "</table>\n",
       "</div>"
      ],
      "text/plain": [
       "   CustomerID  TotalQuantity  TotalValue\n",
       "0       12747           1275     4722.51\n",
       "1       12748          25051    46021.25\n",
       "2       12749           1470     4043.94\n",
       "3       12820            722      938.94\n",
       "4       12821             70       92.72"
      ]
     },
     "execution_count": 7,
     "metadata": {},
     "output_type": "execute_result"
    }
   ],
   "source": [
    "cust = pd.merge(cust, df.groupby('CustomerID')['TotalPrice'].sum().reset_index().rename(columns={'TotalPrice': 'TotalValue'}), \n",
    "                                                                                       how='left', on='CustomerID')\n",
    "cust.head()"
   ]
  },
  {
   "cell_type": "markdown",
   "id": "694b7721-366e-43e0-a8de-94faa70b173a",
   "metadata": {},
   "source": [
    "### Average quantity per item per order"
   ]
  },
  {
   "cell_type": "code",
   "execution_count": 8,
   "id": "f670d0b1-4626-4bcb-97cd-98bf4d9a70a8",
   "metadata": {},
   "outputs": [
    {
     "data": {
      "text/html": [
       "<div>\n",
       "<style scoped>\n",
       "    .dataframe tbody tr th:only-of-type {\n",
       "        vertical-align: middle;\n",
       "    }\n",
       "\n",
       "    .dataframe tbody tr th {\n",
       "        vertical-align: top;\n",
       "    }\n",
       "\n",
       "    .dataframe thead th {\n",
       "        text-align: right;\n",
       "    }\n",
       "</style>\n",
       "<table border=\"1\" class=\"dataframe\">\n",
       "  <thead>\n",
       "    <tr style=\"text-align: right;\">\n",
       "      <th></th>\n",
       "      <th>CustomerID</th>\n",
       "      <th>TotalQuantity</th>\n",
       "      <th>TotalValue</th>\n",
       "      <th>AvrgQuantity</th>\n",
       "    </tr>\n",
       "  </thead>\n",
       "  <tbody>\n",
       "    <tr>\n",
       "      <th>0</th>\n",
       "      <td>12747</td>\n",
       "      <td>1275</td>\n",
       "      <td>4722.51</td>\n",
       "      <td>12.38</td>\n",
       "    </tr>\n",
       "    <tr>\n",
       "      <th>1</th>\n",
       "      <td>12748</td>\n",
       "      <td>25051</td>\n",
       "      <td>46021.25</td>\n",
       "      <td>5.87</td>\n",
       "    </tr>\n",
       "    <tr>\n",
       "      <th>2</th>\n",
       "      <td>12749</td>\n",
       "      <td>1470</td>\n",
       "      <td>4043.94</td>\n",
       "      <td>7.42</td>\n",
       "    </tr>\n",
       "    <tr>\n",
       "      <th>3</th>\n",
       "      <td>12820</td>\n",
       "      <td>722</td>\n",
       "      <td>938.94</td>\n",
       "      <td>12.24</td>\n",
       "    </tr>\n",
       "    <tr>\n",
       "      <th>4</th>\n",
       "      <td>12821</td>\n",
       "      <td>70</td>\n",
       "      <td>92.72</td>\n",
       "      <td>11.67</td>\n",
       "    </tr>\n",
       "  </tbody>\n",
       "</table>\n",
       "</div>"
      ],
      "text/plain": [
       "   CustomerID  TotalQuantity  TotalValue  AvrgQuantity\n",
       "0       12747           1275     4722.51         12.38\n",
       "1       12748          25051    46021.25          5.87\n",
       "2       12749           1470     4043.94          7.42\n",
       "3       12820            722      938.94         12.24\n",
       "4       12821             70       92.72         11.67"
      ]
     },
     "execution_count": 8,
     "metadata": {},
     "output_type": "execute_result"
    }
   ],
   "source": [
    "# Grouping by StockCode, in case in the same invoice client has added the product more than once\n",
    "item_quant = df.groupby(['CustomerID','InvoiceNo','StockCode'])['Quantity'].sum().reset_index()\n",
    "\n",
    "cust = pd.merge(cust, item_quant.groupby('CustomerID')['Quantity'].mean().round(2).reset_index().rename(columns={'Quantity':'AvrgQuantity'}), \n",
    "                                                                                       how='left', on='CustomerID')\n",
    "cust.head()"
   ]
  },
  {
   "cell_type": "markdown",
   "id": "f542448e-3bc1-4523-a5be-041ef74e822f",
   "metadata": {},
   "source": [
    "### Average value per order"
   ]
  },
  {
   "cell_type": "code",
   "execution_count": 9,
   "id": "9c06cf6e-5052-4773-984c-452bcd5c7897",
   "metadata": {},
   "outputs": [],
   "source": [
    "# not sure if I will use that"
   ]
  },
  {
   "cell_type": "code",
   "execution_count": 10,
   "id": "37b3f995-5da6-44d5-8719-29fb5e1d84a0",
   "metadata": {},
   "outputs": [
    {
     "data": {
      "text/html": [
       "<div>\n",
       "<style scoped>\n",
       "    .dataframe tbody tr th:only-of-type {\n",
       "        vertical-align: middle;\n",
       "    }\n",
       "\n",
       "    .dataframe tbody tr th {\n",
       "        vertical-align: top;\n",
       "    }\n",
       "\n",
       "    .dataframe thead th {\n",
       "        text-align: right;\n",
       "    }\n",
       "</style>\n",
       "<table border=\"1\" class=\"dataframe\">\n",
       "  <thead>\n",
       "    <tr style=\"text-align: right;\">\n",
       "      <th></th>\n",
       "      <th>CustomerID</th>\n",
       "      <th>TotalQuantity</th>\n",
       "      <th>TotalValue</th>\n",
       "      <th>AvrgQuantity</th>\n",
       "      <th>AvrgOrderValue</th>\n",
       "    </tr>\n",
       "  </thead>\n",
       "  <tbody>\n",
       "    <tr>\n",
       "      <th>0</th>\n",
       "      <td>12747</td>\n",
       "      <td>1275</td>\n",
       "      <td>4722.51</td>\n",
       "      <td>12.38</td>\n",
       "      <td>429.32</td>\n",
       "    </tr>\n",
       "    <tr>\n",
       "      <th>1</th>\n",
       "      <td>12748</td>\n",
       "      <td>25051</td>\n",
       "      <td>46021.25</td>\n",
       "      <td>5.87</td>\n",
       "      <td>223.40</td>\n",
       "    </tr>\n",
       "    <tr>\n",
       "      <th>2</th>\n",
       "      <td>12749</td>\n",
       "      <td>1470</td>\n",
       "      <td>4043.94</td>\n",
       "      <td>7.42</td>\n",
       "      <td>808.79</td>\n",
       "    </tr>\n",
       "    <tr>\n",
       "      <th>3</th>\n",
       "      <td>12820</td>\n",
       "      <td>722</td>\n",
       "      <td>938.94</td>\n",
       "      <td>12.24</td>\n",
       "      <td>234.74</td>\n",
       "    </tr>\n",
       "    <tr>\n",
       "      <th>4</th>\n",
       "      <td>12821</td>\n",
       "      <td>70</td>\n",
       "      <td>92.72</td>\n",
       "      <td>11.67</td>\n",
       "      <td>92.72</td>\n",
       "    </tr>\n",
       "    <tr>\n",
       "      <th>...</th>\n",
       "      <td>...</td>\n",
       "      <td>...</td>\n",
       "      <td>...</td>\n",
       "      <td>...</td>\n",
       "      <td>...</td>\n",
       "    </tr>\n",
       "    <tr>\n",
       "      <th>3911</th>\n",
       "      <td>18280</td>\n",
       "      <td>45</td>\n",
       "      <td>180.75</td>\n",
       "      <td>4.50</td>\n",
       "      <td>180.75</td>\n",
       "    </tr>\n",
       "    <tr>\n",
       "      <th>3912</th>\n",
       "      <td>18281</td>\n",
       "      <td>54</td>\n",
       "      <td>80.82</td>\n",
       "      <td>7.71</td>\n",
       "      <td>80.82</td>\n",
       "    </tr>\n",
       "    <tr>\n",
       "      <th>3913</th>\n",
       "      <td>18282</td>\n",
       "      <td>103</td>\n",
       "      <td>152.61</td>\n",
       "      <td>8.58</td>\n",
       "      <td>76.31</td>\n",
       "    </tr>\n",
       "    <tr>\n",
       "      <th>3914</th>\n",
       "      <td>18283</td>\n",
       "      <td>1355</td>\n",
       "      <td>2028.13</td>\n",
       "      <td>1.97</td>\n",
       "      <td>126.76</td>\n",
       "    </tr>\n",
       "    <tr>\n",
       "      <th>3915</th>\n",
       "      <td>18287</td>\n",
       "      <td>1586</td>\n",
       "      <td>1911.32</td>\n",
       "      <td>23.32</td>\n",
       "      <td>637.11</td>\n",
       "    </tr>\n",
       "  </tbody>\n",
       "</table>\n",
       "<p>3916 rows × 5 columns</p>\n",
       "</div>"
      ],
      "text/plain": [
       "      CustomerID  TotalQuantity  TotalValue  AvrgQuantity  AvrgOrderValue\n",
       "0          12747           1275     4722.51         12.38          429.32\n",
       "1          12748          25051    46021.25          5.87          223.40\n",
       "2          12749           1470     4043.94          7.42          808.79\n",
       "3          12820            722      938.94         12.24          234.74\n",
       "4          12821             70       92.72         11.67           92.72\n",
       "...          ...            ...         ...           ...             ...\n",
       "3911       18280             45      180.75          4.50          180.75\n",
       "3912       18281             54       80.82          7.71           80.82\n",
       "3913       18282            103      152.61          8.58           76.31\n",
       "3914       18283           1355     2028.13          1.97          126.76\n",
       "3915       18287           1586     1911.32         23.32          637.11\n",
       "\n",
       "[3916 rows x 5 columns]"
      ]
     },
     "execution_count": 10,
     "metadata": {},
     "output_type": "execute_result"
    }
   ],
   "source": [
    "order_val = df.groupby(['CustomerID','InvoiceNo'])['TotalPrice'].sum().reset_index()\n",
    "avrg_val = order_val.groupby('CustomerID')['TotalPrice'].mean().round(2).reset_index().rename(columns={'TotalPrice':'AvrgOrderValue'})\n",
    "\n",
    "cust = pd.merge(cust, avrg_val, how='left', on='CustomerID')\n",
    "cust"
   ]
  },
  {
   "cell_type": "markdown",
   "id": "4de01c5a-7f3f-4aa9-a7f4-5a0853fe385e",
   "metadata": {},
   "source": [
    "### Frequency of Orders, total orders number"
   ]
  },
  {
   "cell_type": "code",
   "execution_count": 11,
   "id": "85363f8e-e002-4251-8ebb-8add73592b3a",
   "metadata": {},
   "outputs": [
    {
     "data": {
      "text/html": [
       "<div>\n",
       "<style scoped>\n",
       "    .dataframe tbody tr th:only-of-type {\n",
       "        vertical-align: middle;\n",
       "    }\n",
       "\n",
       "    .dataframe tbody tr th {\n",
       "        vertical-align: top;\n",
       "    }\n",
       "\n",
       "    .dataframe thead th {\n",
       "        text-align: right;\n",
       "    }\n",
       "</style>\n",
       "<table border=\"1\" class=\"dataframe\">\n",
       "  <thead>\n",
       "    <tr style=\"text-align: right;\">\n",
       "      <th></th>\n",
       "      <th>CustomerID</th>\n",
       "      <th>TotalQuantity</th>\n",
       "      <th>TotalValue</th>\n",
       "      <th>AvrgQuantity</th>\n",
       "      <th>AvrgOrderValue</th>\n",
       "      <th>TotalOrders</th>\n",
       "    </tr>\n",
       "  </thead>\n",
       "  <tbody>\n",
       "    <tr>\n",
       "      <th>0</th>\n",
       "      <td>12747</td>\n",
       "      <td>1275</td>\n",
       "      <td>4722.51</td>\n",
       "      <td>12.38</td>\n",
       "      <td>429.32</td>\n",
       "      <td>11</td>\n",
       "    </tr>\n",
       "    <tr>\n",
       "      <th>1</th>\n",
       "      <td>12748</td>\n",
       "      <td>25051</td>\n",
       "      <td>46021.25</td>\n",
       "      <td>5.87</td>\n",
       "      <td>223.40</td>\n",
       "      <td>206</td>\n",
       "    </tr>\n",
       "    <tr>\n",
       "      <th>2</th>\n",
       "      <td>12749</td>\n",
       "      <td>1470</td>\n",
       "      <td>4043.94</td>\n",
       "      <td>7.42</td>\n",
       "      <td>808.79</td>\n",
       "      <td>5</td>\n",
       "    </tr>\n",
       "    <tr>\n",
       "      <th>3</th>\n",
       "      <td>12820</td>\n",
       "      <td>722</td>\n",
       "      <td>938.94</td>\n",
       "      <td>12.24</td>\n",
       "      <td>234.74</td>\n",
       "      <td>4</td>\n",
       "    </tr>\n",
       "    <tr>\n",
       "      <th>4</th>\n",
       "      <td>12821</td>\n",
       "      <td>70</td>\n",
       "      <td>92.72</td>\n",
       "      <td>11.67</td>\n",
       "      <td>92.72</td>\n",
       "      <td>1</td>\n",
       "    </tr>\n",
       "  </tbody>\n",
       "</table>\n",
       "</div>"
      ],
      "text/plain": [
       "   CustomerID  TotalQuantity  TotalValue  AvrgQuantity  AvrgOrderValue  \\\n",
       "0       12747           1275     4722.51         12.38          429.32   \n",
       "1       12748          25051    46021.25          5.87          223.40   \n",
       "2       12749           1470     4043.94          7.42          808.79   \n",
       "3       12820            722      938.94         12.24          234.74   \n",
       "4       12821             70       92.72         11.67           92.72   \n",
       "\n",
       "   TotalOrders  \n",
       "0           11  \n",
       "1          206  \n",
       "2            5  \n",
       "3            4  \n",
       "4            1  "
      ]
     },
     "execution_count": 11,
     "metadata": {},
     "output_type": "execute_result"
    }
   ],
   "source": [
    "cust = pd.merge(cust, df.groupby('CustomerID')['InvoiceNo'].nunique().reset_index().rename(columns={'InvoiceNo': 'TotalOrders'}), \n",
    "                                                                                       how='left', on='CustomerID')\n",
    "cust.head()"
   ]
  },
  {
   "cell_type": "markdown",
   "id": "fda1ffc8-ddf6-43ff-b509-e180cccb6412",
   "metadata": {},
   "source": [
    "# Setting CustomerID as index"
   ]
  },
  {
   "cell_type": "code",
   "execution_count": 12,
   "id": "bace4df7-f408-4cc6-b1ab-1f74271726d8",
   "metadata": {},
   "outputs": [
    {
     "data": {
      "text/html": [
       "<div>\n",
       "<style scoped>\n",
       "    .dataframe tbody tr th:only-of-type {\n",
       "        vertical-align: middle;\n",
       "    }\n",
       "\n",
       "    .dataframe tbody tr th {\n",
       "        vertical-align: top;\n",
       "    }\n",
       "\n",
       "    .dataframe thead th {\n",
       "        text-align: right;\n",
       "    }\n",
       "</style>\n",
       "<table border=\"1\" class=\"dataframe\">\n",
       "  <thead>\n",
       "    <tr style=\"text-align: right;\">\n",
       "      <th></th>\n",
       "      <th>TotalQuantity</th>\n",
       "      <th>TotalValue</th>\n",
       "      <th>AvrgQuantity</th>\n",
       "      <th>AvrgOrderValue</th>\n",
       "      <th>TotalOrders</th>\n",
       "    </tr>\n",
       "    <tr>\n",
       "      <th>CustomerID</th>\n",
       "      <th></th>\n",
       "      <th></th>\n",
       "      <th></th>\n",
       "      <th></th>\n",
       "      <th></th>\n",
       "    </tr>\n",
       "  </thead>\n",
       "  <tbody>\n",
       "    <tr>\n",
       "      <th>12747</th>\n",
       "      <td>1275</td>\n",
       "      <td>4722.51</td>\n",
       "      <td>12.38</td>\n",
       "      <td>429.32</td>\n",
       "      <td>11</td>\n",
       "    </tr>\n",
       "    <tr>\n",
       "      <th>12748</th>\n",
       "      <td>25051</td>\n",
       "      <td>46021.25</td>\n",
       "      <td>5.87</td>\n",
       "      <td>223.40</td>\n",
       "      <td>206</td>\n",
       "    </tr>\n",
       "    <tr>\n",
       "      <th>12749</th>\n",
       "      <td>1470</td>\n",
       "      <td>4043.94</td>\n",
       "      <td>7.42</td>\n",
       "      <td>808.79</td>\n",
       "      <td>5</td>\n",
       "    </tr>\n",
       "    <tr>\n",
       "      <th>12820</th>\n",
       "      <td>722</td>\n",
       "      <td>938.94</td>\n",
       "      <td>12.24</td>\n",
       "      <td>234.74</td>\n",
       "      <td>4</td>\n",
       "    </tr>\n",
       "    <tr>\n",
       "      <th>12821</th>\n",
       "      <td>70</td>\n",
       "      <td>92.72</td>\n",
       "      <td>11.67</td>\n",
       "      <td>92.72</td>\n",
       "      <td>1</td>\n",
       "    </tr>\n",
       "    <tr>\n",
       "      <th>...</th>\n",
       "      <td>...</td>\n",
       "      <td>...</td>\n",
       "      <td>...</td>\n",
       "      <td>...</td>\n",
       "      <td>...</td>\n",
       "    </tr>\n",
       "    <tr>\n",
       "      <th>18280</th>\n",
       "      <td>45</td>\n",
       "      <td>180.75</td>\n",
       "      <td>4.50</td>\n",
       "      <td>180.75</td>\n",
       "      <td>1</td>\n",
       "    </tr>\n",
       "    <tr>\n",
       "      <th>18281</th>\n",
       "      <td>54</td>\n",
       "      <td>80.82</td>\n",
       "      <td>7.71</td>\n",
       "      <td>80.82</td>\n",
       "      <td>1</td>\n",
       "    </tr>\n",
       "    <tr>\n",
       "      <th>18282</th>\n",
       "      <td>103</td>\n",
       "      <td>152.61</td>\n",
       "      <td>8.58</td>\n",
       "      <td>76.31</td>\n",
       "      <td>2</td>\n",
       "    </tr>\n",
       "    <tr>\n",
       "      <th>18283</th>\n",
       "      <td>1355</td>\n",
       "      <td>2028.13</td>\n",
       "      <td>1.97</td>\n",
       "      <td>126.76</td>\n",
       "      <td>16</td>\n",
       "    </tr>\n",
       "    <tr>\n",
       "      <th>18287</th>\n",
       "      <td>1586</td>\n",
       "      <td>1911.32</td>\n",
       "      <td>23.32</td>\n",
       "      <td>637.11</td>\n",
       "      <td>3</td>\n",
       "    </tr>\n",
       "  </tbody>\n",
       "</table>\n",
       "<p>3916 rows × 5 columns</p>\n",
       "</div>"
      ],
      "text/plain": [
       "            TotalQuantity  TotalValue  AvrgQuantity  AvrgOrderValue  \\\n",
       "CustomerID                                                            \n",
       "12747                1275     4722.51         12.38          429.32   \n",
       "12748               25051    46021.25          5.87          223.40   \n",
       "12749                1470     4043.94          7.42          808.79   \n",
       "12820                 722      938.94         12.24          234.74   \n",
       "12821                  70       92.72         11.67           92.72   \n",
       "...                   ...         ...           ...             ...   \n",
       "18280                  45      180.75          4.50          180.75   \n",
       "18281                  54       80.82          7.71           80.82   \n",
       "18282                 103      152.61          8.58           76.31   \n",
       "18283                1355     2028.13          1.97          126.76   \n",
       "18287                1586     1911.32         23.32          637.11   \n",
       "\n",
       "            TotalOrders  \n",
       "CustomerID               \n",
       "12747                11  \n",
       "12748               206  \n",
       "12749                 5  \n",
       "12820                 4  \n",
       "12821                 1  \n",
       "...                 ...  \n",
       "18280                 1  \n",
       "18281                 1  \n",
       "18282                 2  \n",
       "18283                16  \n",
       "18287                 3  \n",
       "\n",
       "[3916 rows x 5 columns]"
      ]
     },
     "execution_count": 12,
     "metadata": {},
     "output_type": "execute_result"
    }
   ],
   "source": [
    "cust.set_index('CustomerID', inplace=True)\n",
    "cust"
   ]
  },
  {
   "cell_type": "markdown",
   "id": "4d22acf1-2812-49b3-910c-6f2dbe87e4ca",
   "metadata": {},
   "source": [
    "# EDA"
   ]
  },
  {
   "cell_type": "code",
   "execution_count": 16,
   "id": "cff1baa9-f8e6-44eb-9296-fc8287839da5",
   "metadata": {},
   "outputs": [
    {
     "data": {
      "image/png": "[encoded data removed]",
      "text/plain": [
       "<Figure size 1200x1000 with 5 Axes>"
      ]
     },
     "metadata": {},
     "output_type": "display_data"
    }
   ],
   "source": [
    "fig, ax = plt.subplots(nrows=3, ncols=2, figsize=(12, 10))\n",
    "\n",
    "sns.boxplot(data=cust['TotalQuantity'], ax=ax[0, 0]) \n",
    "sns.boxplot(data=cust['TotalValue'], ax=ax[0, 1]) \n",
    "sns.boxplot(data=cust['AvrgQuantity'], ax=ax[1, 0]) \n",
    "sns.boxplot(data=cust['AvrgOrderValue'], ax=ax[1, 1]) \n",
    "sns.boxplot(data=cust['TotalOrders'], ax=ax[2, 0]) \n",
    "\n",
    "# Remove the empty subplot\n",
    "fig.delaxes(ax[2, 1])\n",
    "\n",
    "plt.show()"
   ]
  },
  {
   "cell_type": "code",
   "execution_count": 15,
   "id": "013f7d25-0c6c-4c02-9594-6aaaed8f0707",
   "metadata": {},
   "outputs": [
    {
     "data": {
      "text/plain": [
       "<Axes: ylabel='AvrgQuantity'>"
      ]
     },
     "execution_count": 15,
     "metadata": {},
     "output_type": "execute_result"
    },
    {
     "data": {
      "image/png": "[encoded data removed]",
      "text/plain": [
       "<Figure size 640x480 with 1 Axes>"
      ]
     },
     "metadata": {},
     "output_type": "display_data"
    }
   ],
   "source": [
    "sns.boxplot(data = cust['AvrgQuantity']) "
   ]
  },
  {
   "cell_type": "code",
   "execution_count": 17,
   "id": "301d0f7f-ae8b-4121-8616-6b8e81710347",
   "metadata": {},
   "outputs": [
    {
     "data": {
      "text/plain": [
       "<Axes: xlabel='AvrgQuantity', ylabel='AvrgOrderValue'>"
      ]
     },
     "execution_count": 17,
     "metadata": {},
     "output_type": "execute_result"
    },
    {
     "data": {
      "image/png": "[encoded data removed]",
      "text/plain": [
       "<Figure size 640x480 with 1 Axes>"
      ]
     },
     "metadata": {},
     "output_type": "display_data"
    }
   ],
   "source": [
    "sns.scatterplot(data=cust, x='AvrgQuantity', y='AvrgOrderValue')"
   ]
  },
  {
   "cell_type": "markdown",
   "id": "6aa3f031-8101-4a16-823f-0afd0c5b490f",
   "metadata": {},
   "source": [
    "# Scaling data"
   ]
  },
  {
   "cell_type": "markdown",
   "id": "79e07539-eaa2-480b-b58d-fd5bd825fccf",
   "metadata": {},
   "source": [
    "*temp note from a linkedin article*\n",
    "\n",
    "Normalization rescales your data to have values between 0 and 1, while standardization rescales your data to have a mean of 0 and a standard deviation of 1. You can use various methods to normalize or standardize your data, such as min-max scaling, z-score scaling, or log transformation.\n",
    "\n",
    "has also more helpful info:\n",
    "https://www.linkedin.com/advice/0/how-do-you-clean-your-data-before-clustering-skills-data-analysis#:~:text=Since%20clustering%20algorithms%20are%20sensitive,a%20standard%20deviation%20of%201."
   ]
  }
 ],
 "metadata": {
  "kernelspec": {
   "display_name": "final_project",
   "language": "python",
   "name": "final_project"
  },
  "language_info": {
   "codemirror_mode": {
    "name": "ipython",
    "version": 3
   },
   "file_extension": ".py",
   "mimetype": "text/x-python",
   "name": "python",
   "nbconvert_exporter": "python",
   "pygments_lexer": "ipython3",
   "version": "3.11.8"
  }
 },
 "nbformat": 4,
 "nbformat_minor": 5
}
